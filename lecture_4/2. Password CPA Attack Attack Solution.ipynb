{
 "cells": [
  {
   "cell_type": "markdown",
   "metadata": {},
   "source": [
    "# Lecture 4: Password CPA Attack - Attack"
   ]
  },
  {
   "cell_type": "markdown",
   "metadata": {},
   "source": [
    "## Exercise 1"
   ]
  },
  {
   "cell_type": "code",
   "execution_count": 1,
   "metadata": {},
   "outputs": [
    {
     "data": {
      "text/html": [
       "\n",
       "    <div class=\"bk-root\">\n",
       "        <a href=\"https://bokeh.org\" target=\"_blank\" class=\"bk-logo bk-logo-small bk-logo-notebook\"></a>\n",
       "        <span id=\"1002\">Loading BokehJS ...</span>\n",
       "    </div>"
      ]
     },
     "metadata": {},
     "output_type": "display_data"
    },
    {
     "data": {
      "application/javascript": "\n(function(root) {\n  function now() {\n    return new Date();\n  }\n\n  const force = true;\n\n  if (typeof root._bokeh_onload_callbacks === \"undefined\" || force === true) {\n    root._bokeh_onload_callbacks = [];\n    root._bokeh_is_loading = undefined;\n  }\n\n  const JS_MIME_TYPE = 'application/javascript';\n  const HTML_MIME_TYPE = 'text/html';\n  const EXEC_MIME_TYPE = 'application/vnd.bokehjs_exec.v0+json';\n  const CLASS_NAME = 'output_bokeh rendered_html';\n\n  /**\n   * Render data to the DOM node\n   */\n  function render(props, node) {\n    const script = document.createElement(\"script\");\n    node.appendChild(script);\n  }\n\n  /**\n   * Handle when an output is cleared or removed\n   */\n  function handleClearOutput(event, handle) {\n    const cell = handle.cell;\n\n    const id = cell.output_area._bokeh_element_id;\n    const server_id = cell.output_area._bokeh_server_id;\n    // Clean up Bokeh references\n    if (id != null && id in Bokeh.index) {\n      Bokeh.index[id].model.document.clear();\n      delete Bokeh.index[id];\n    }\n\n    if (server_id !== undefined) {\n      // Clean up Bokeh references\n      const cmd_clean = \"from bokeh.io.state import curstate; print(curstate().uuid_to_server['\" + server_id + \"'].get_sessions()[0].document.roots[0]._id)\";\n      cell.notebook.kernel.execute(cmd_clean, {\n        iopub: {\n          output: function(msg) {\n            const id = msg.content.text.trim();\n            if (id in Bokeh.index) {\n              Bokeh.index[id].model.document.clear();\n              delete Bokeh.index[id];\n            }\n          }\n        }\n      });\n      // Destroy server and session\n      const cmd_destroy = \"import bokeh.io.notebook as ion; ion.destroy_server('\" + server_id + \"')\";\n      cell.notebook.kernel.execute(cmd_destroy);\n    }\n  }\n\n  /**\n   * Handle when a new output is added\n   */\n  function handleAddOutput(event, handle) {\n    const output_area = handle.output_area;\n    const output = handle.output;\n\n    // limit handleAddOutput to display_data with EXEC_MIME_TYPE content only\n    if ((output.output_type != \"display_data\") || (!Object.prototype.hasOwnProperty.call(output.data, EXEC_MIME_TYPE))) {\n      return\n    }\n\n    const toinsert = output_area.element.find(\".\" + CLASS_NAME.split(' ')[0]);\n\n    if (output.metadata[EXEC_MIME_TYPE][\"id\"] !== undefined) {\n      toinsert[toinsert.length - 1].firstChild.textContent = output.data[JS_MIME_TYPE];\n      // store reference to embed id on output_area\n      output_area._bokeh_element_id = output.metadata[EXEC_MIME_TYPE][\"id\"];\n    }\n    if (output.metadata[EXEC_MIME_TYPE][\"server_id\"] !== undefined) {\n      const bk_div = document.createElement(\"div\");\n      bk_div.innerHTML = output.data[HTML_MIME_TYPE];\n      const script_attrs = bk_div.children[0].attributes;\n      for (let i = 0; i < script_attrs.length; i++) {\n        toinsert[toinsert.length - 1].firstChild.setAttribute(script_attrs[i].name, script_attrs[i].value);\n        toinsert[toinsert.length - 1].firstChild.textContent = bk_div.children[0].textContent\n      }\n      // store reference to server id on output_area\n      output_area._bokeh_server_id = output.metadata[EXEC_MIME_TYPE][\"server_id\"];\n    }\n  }\n\n  function register_renderer(events, OutputArea) {\n\n    function append_mime(data, metadata, element) {\n      // create a DOM node to render to\n      const toinsert = this.create_output_subarea(\n        metadata,\n        CLASS_NAME,\n        EXEC_MIME_TYPE\n      );\n      this.keyboard_manager.register_events(toinsert);\n      // Render to node\n      const props = {data: data, metadata: metadata[EXEC_MIME_TYPE]};\n      render(props, toinsert[toinsert.length - 1]);\n      element.append(toinsert);\n      return toinsert\n    }\n\n    /* Handle when an output is cleared or removed */\n    events.on('clear_output.CodeCell', handleClearOutput);\n    events.on('delete.Cell', handleClearOutput);\n\n    /* Handle when a new output is added */\n    events.on('output_added.OutputArea', handleAddOutput);\n\n    /**\n     * Register the mime type and append_mime function with output_area\n     */\n    OutputArea.prototype.register_mime_type(EXEC_MIME_TYPE, append_mime, {\n      /* Is output safe? */\n      safe: true,\n      /* Index of renderer in `output_area.display_order` */\n      index: 0\n    });\n  }\n\n  // register the mime type if in Jupyter Notebook environment and previously unregistered\n  if (root.Jupyter !== undefined) {\n    const events = require('base/js/events');\n    const OutputArea = require('notebook/js/outputarea').OutputArea;\n\n    if (OutputArea.prototype.mime_types().indexOf(EXEC_MIME_TYPE) == -1) {\n      register_renderer(events, OutputArea);\n    }\n  }\n\n  \n  if (typeof (root._bokeh_timeout) === \"undefined\" || force === true) {\n    root._bokeh_timeout = Date.now() + 5000;\n    root._bokeh_failed_load = false;\n  }\n\n  const NB_LOAD_WARNING = {'data': {'text/html':\n     \"<div style='background-color: #fdd'>\\n\"+\n     \"<p>\\n\"+\n     \"BokehJS does not appear to have successfully loaded. If loading BokehJS from CDN, this \\n\"+\n     \"may be due to a slow or bad network connection. Possible fixes:\\n\"+\n     \"</p>\\n\"+\n     \"<ul>\\n\"+\n     \"<li>re-rerun `output_notebook()` to attempt to load from CDN again, or</li>\\n\"+\n     \"<li>use INLINE resources instead, as so:</li>\\n\"+\n     \"</ul>\\n\"+\n     \"<code>\\n\"+\n     \"from bokeh.resources import INLINE\\n\"+\n     \"output_notebook(resources=INLINE)\\n\"+\n     \"</code>\\n\"+\n     \"</div>\"}};\n\n  function display_loaded() {\n    const el = document.getElementById(\"1002\");\n    if (el != null) {\n      el.textContent = \"BokehJS is loading...\";\n    }\n    if (root.Bokeh !== undefined) {\n      if (el != null) {\n        el.textContent = \"BokehJS \" + root.Bokeh.version + \" successfully loaded.\";\n      }\n    } else if (Date.now() < root._bokeh_timeout) {\n      setTimeout(display_loaded, 100)\n    }\n  }\n\n\n  function run_callbacks() {\n    try {\n      root._bokeh_onload_callbacks.forEach(function(callback) {\n        if (callback != null)\n          callback();\n      });\n    } finally {\n      delete root._bokeh_onload_callbacks\n    }\n    console.debug(\"Bokeh: all callbacks have finished\");\n  }\n\n  function load_libs(css_urls, js_urls, callback) {\n    if (css_urls == null) css_urls = [];\n    if (js_urls == null) js_urls = [];\n\n    root._bokeh_onload_callbacks.push(callback);\n    if (root._bokeh_is_loading > 0) {\n      console.debug(\"Bokeh: BokehJS is being loaded, scheduling callback at\", now());\n      return null;\n    }\n    if (js_urls == null || js_urls.length === 0) {\n      run_callbacks();\n      return null;\n    }\n    console.debug(\"Bokeh: BokehJS not loaded, scheduling load and callback at\", now());\n    root._bokeh_is_loading = css_urls.length + js_urls.length;\n\n    function on_load() {\n      root._bokeh_is_loading--;\n      if (root._bokeh_is_loading === 0) {\n        console.debug(\"Bokeh: all BokehJS libraries/stylesheets loaded\");\n        run_callbacks()\n      }\n    }\n\n    function on_error(url) {\n      console.error(\"failed to load \" + url);\n    }\n\n    for (let i = 0; i < css_urls.length; i++) {\n      const url = css_urls[i];\n      const element = document.createElement(\"link\");\n      element.onload = on_load;\n      element.onerror = on_error.bind(null, url);\n      element.rel = \"stylesheet\";\n      element.type = \"text/css\";\n      element.href = url;\n      console.debug(\"Bokeh: injecting link tag for BokehJS stylesheet: \", url);\n      document.body.appendChild(element);\n    }\n\n    for (let i = 0; i < js_urls.length; i++) {\n      const url = js_urls[i];\n      const element = document.createElement('script');\n      element.onload = on_load;\n      element.onerror = on_error.bind(null, url);\n      element.async = false;\n      element.src = url;\n      console.debug(\"Bokeh: injecting script tag for BokehJS library: \", url);\n      document.head.appendChild(element);\n    }\n  };\n\n  function inject_raw_css(css) {\n    const element = document.createElement(\"style\");\n    element.appendChild(document.createTextNode(css));\n    document.body.appendChild(element);\n  }\n\n  \n  const js_urls = [\"https://cdn.bokeh.org/bokeh/release/bokeh-2.4.1.min.js\", \"https://cdn.bokeh.org/bokeh/release/bokeh-gl-2.4.1.min.js\", \"https://cdn.bokeh.org/bokeh/release/bokeh-widgets-2.4.1.min.js\", \"https://cdn.bokeh.org/bokeh/release/bokeh-tables-2.4.1.min.js\", \"https://cdn.bokeh.org/bokeh/release/bokeh-mathjax-2.4.1.min.js\"];\n  const css_urls = [];\n  \n\n  const inline_js = [\n    function(Bokeh) {\n      Bokeh.set_log_level(\"info\");\n    },\n    function(Bokeh) {\n    \n    \n    }\n  ];\n\n  function run_inline_js() {\n    \n    if (root.Bokeh !== undefined || force === true) {\n      \n    for (let i = 0; i < inline_js.length; i++) {\n      inline_js[i].call(root, root.Bokeh);\n    }\n    if (force === true) {\n        display_loaded();\n      }} else if (Date.now() < root._bokeh_timeout) {\n      setTimeout(run_inline_js, 100);\n    } else if (!root._bokeh_failed_load) {\n      console.log(\"Bokeh: BokehJS failed to load within specified timeout.\");\n      root._bokeh_failed_load = true;\n    } else if (force !== true) {\n      const cell = $(document.getElementById(\"1002\")).parents('.cell').data().cell;\n      cell.output_area.append_execute_result(NB_LOAD_WARNING)\n    }\n\n  }\n\n  if (root._bokeh_is_loading === 0) {\n    console.debug(\"Bokeh: BokehJS loaded, going straight to plotting\");\n    run_inline_js();\n  } else {\n    load_libs(css_urls, js_urls, function() {\n      console.debug(\"Bokeh: BokehJS plotting callback run at\", now());\n      run_inline_js();\n    });\n  }\n}(window));",
      "application/vnd.bokehjs_load.v0+json": ""
     },
     "metadata": {},
     "output_type": "display_data"
    }
   ],
   "source": [
    "import pandas as pd\n",
    "from bokeh.plotting import figure, show \n",
    "from bokeh.io import output_notebook\n",
    "\n",
    "output_notebook()"
   ]
  },
  {
   "cell_type": "code",
   "execution_count": 2,
   "metadata": {},
   "outputs": [],
   "source": [
    "import numpy as np\n",
    "\n",
    "HW = [bin(n).count(\"1\") for n in range(0, 256)]\n",
    "\n",
    "def hw(n):\n",
    "    if isinstance(n, str):\n",
    "        return HW[ord(n)]\n",
    "    return HW[n]\n",
    "\n",
    "hw_vec = np.vectorize(hw)\n",
    "\n",
    "def pearson(x, y):\n",
    "    x_mean = np.mean(x)\n",
    "    y_mean = np.mean(y)\n",
    "    return sum((x - x_mean) * (y - y_mean)) / np.sqrt(sum((x - x_mean) ** 2) * sum((y - y_mean) ** 2))"
   ]
  },
  {
   "cell_type": "code",
   "execution_count": 5,
   "metadata": {},
   "outputs": [
    {
     "data": {
      "text/html": [
       "\n",
       "\n",
       "\n",
       "\n",
       "\n",
       "\n",
       "  <div class=\"bk-root\" id=\"fe6f466d-cea7-4e51-83fb-501d953e4145\" data-root-id=\"2330\"></div>\n"
      ]
     },
     "metadata": {},
     "output_type": "display_data"
    },
    {
     "data": {
      "application/javascript": "(function(root) {\n  function embed_document(root) {\n    \n  const docs_json = {\"3fdaf4e9-cd7d-456e-add0-b0f4a959ddf1\":{\"defs\":[],\"roots\":{\"references\":[{\"attributes\":{\"children\":[{\"id\":\"2329\"},{\"id\":\"2327\"}],\"sizing_mode\":\"scale_width\"},\"id\":\"2330\",\"type\":\"Column\"},{\"attributes\":{\"data\":{\"x\":[0,1,2,3,4,5,6,7,8,9,10,11,12,13,14,15,16,17,18,19,20,21,22,23,24,25,26,27,28,29,30,31,32,33,34,35,36,37,38,39,40,41,42,43,44,45,46,47,48,49,50,51,52,53,54,55,56,57,58,59,60,61,62,63,64,65,66,67,68,69,70,71,72,73,74,75,76,77,78,79,80,81,82,83,84,85,86,87,88,89,90,91,92,93,94,95,96,97,98,99],\"y\":{\"__ndarray__\":\"ocK7HZPSIcBLdGOeV4keQMhT+wF5ViNAEj4BZMfvH0BRj5m/Xp0mQIzqzfVkCDNAlz2D5be+LUDKrN6VHTU5QClkg9jVAkBAtO3pAAQOQUCzRlMNyS84QCs/RLg6bkNAtEzH5ifRRUBdEImxbfZEQAWq+zKwoUlAPtE4EB6TSECxA2DZLVpLQMgpOWYQ9klAci38j9sXS0DMO7QQSFpPQHgk5SgHXk9AVybl1ML+SUCgVAFljU1QQMpiOhhPGk9AQH8nqDOZT0D+75SCj7pRQJV8UpWWrlJADvpGN0KUVECJqSH8xI1TQNvssRUvGVZACAJgOVVAUkCsGHjnLG1SQMnumW7JdlVAFYLnCDQHVEBRVa9O+gpWQPwBr/xwq1RAQjSR8rxxVEB8rGo9LBxYQHmom/vkRVZAB0nk9GKeVUDZCLIGVaFYQIbWAKbZL1ZAXIkY8bzwVkDbdgkmy3FaQNzI1Dmjd1hA+KSpad2QWECSPe4zinhYQAg6FfXqAltAmO1PnT9BWkDfcJQRpi5YQAG/s7QpG1hAj8gngex6WEA54uKMm/pWQL5bKU3ZwFpAWPQ/nwqpWUB47kWFhE5XQIIVOXTVa1hAbGgu5GXzVUCFYD1kP2lXQHI2h1fxT1hA2prS009rVkDbMpU0AXJYQKibeI/if1VAPlnWITk+VkBuI4O7hVJWQDbjIC2MEVVAmF5hOLiIU0AkbccIfKpTQGmRvs3y7lJARcokwyn5VUBE75QLfSFVQFZoXJm/sVRANM98YoSkUUD7YTDJirZRQFH5AOnhBFNA1lJ1efDXU0Bsy7BJlJJSQCRvoT0OBlNAUpwjY5rZTUA9jpt/X7FRQCLW36oEYUpA/ij1PM5aSkAQlcMq65BLQFc2bsqPf0lAwhEjCbMxSkB6QqfpM79KQKzsEyT5xkdA4Kc6rXt4RkD844Jf+mhCQI9J2FNeWT5AkC9jZBVaOUBopzt5+l05QEywgaef/TtAseS87gsVPUBSjhOxQRM1QKzIr9wUpjRAAr0k8FTgLkBQEnosmPsnQPiQQMajkh9AzSQ4vJpcEUA=\",\"dtype\":\"float64\",\"order\":\"little\",\"shape\":[100]}},\"selected\":{\"id\":\"2275\"},\"selection_policy\":{\"id\":\"2274\"}},\"id\":\"2260\",\"type\":\"ColumnDataSource\"},{\"attributes\":{},\"id\":\"2272\",\"type\":\"BasicTickFormatter\"},{\"attributes\":{},\"id\":\"2246\",\"type\":\"PanTool\"},{\"attributes\":{},\"id\":\"2247\",\"type\":\"WheelZoomTool\"},{\"attributes\":{},\"id\":\"2273\",\"type\":\"AllLabels\"},{\"attributes\":{},\"id\":\"2251\",\"type\":\"HelpTool\"},{\"attributes\":{\"overlay\":{\"id\":\"2252\"}},\"id\":\"2248\",\"type\":\"BoxZoomTool\"},{\"attributes\":{},\"id\":\"2249\",\"type\":\"SaveTool\"},{\"attributes\":{},\"id\":\"2250\",\"type\":\"ResetTool\"},{\"attributes\":{\"coordinates\":null,\"formatter\":{\"id\":\"2172\"},\"group\":null,\"major_label_policy\":{\"id\":\"2173\"},\"ticker\":{\"id\":\"2139\"}},\"id\":\"2138\",\"type\":\"LinearAxis\"},{\"attributes\":{\"bottom_units\":\"screen\",\"coordinates\":null,\"fill_alpha\":0.5,\"fill_color\":\"lightgrey\",\"group\":null,\"left_units\":\"screen\",\"level\":\"overlay\",\"line_alpha\":1.0,\"line_color\":\"black\",\"line_dash\":[4,4],\"line_width\":2,\"right_units\":\"screen\",\"syncable\":false,\"top_units\":\"screen\"},\"id\":\"2252\",\"type\":\"BoxAnnotation\"},{\"attributes\":{\"fill_color\":{\"value\":\"#377eb8\"},\"hatch_color\":{\"value\":\"#377eb8\"},\"line_color\":{\"value\":\"#377eb8\"},\"x\":{\"field\":\"x\"},\"y\":{\"field\":\"y\"}},\"id\":\"2161\",\"type\":\"Circle\"},{\"attributes\":{},\"id\":\"2134\",\"type\":\"LinearScale\"},{\"attributes\":{\"coordinates\":null,\"group\":null},\"id\":\"2266\",\"type\":\"Title\"},{\"attributes\":{},\"id\":\"2119\",\"type\":\"BasicTickFormatter\"},{\"attributes\":{\"below\":[{\"id\":\"2138\"}],\"center\":[{\"id\":\"2141\"},{\"id\":\"2145\"},{\"id\":\"2177\"}],\"height\":300,\"left\":[{\"id\":\"2142\"}],\"renderers\":[{\"id\":\"2164\"}],\"sizing_mode\":\"scale_width\",\"title\":{\"id\":\"2166\"},\"toolbar\":{\"id\":\"2153\"},\"toolbar_location\":null,\"x_range\":{\"id\":\"2130\"},\"x_scale\":{\"id\":\"2134\"},\"y_range\":{\"id\":\"2132\"},\"y_scale\":{\"id\":\"2136\"}},\"id\":\"2129\",\"subtype\":\"Figure\",\"type\":\"Plot\"},{\"attributes\":{},\"id\":\"2274\",\"type\":\"UnionRenderers\"},{\"attributes\":{},\"id\":\"2132\",\"type\":\"DataRange1d\"},{\"attributes\":{},\"id\":\"2275\",\"type\":\"Selection\"},{\"attributes\":{},\"id\":\"2130\",\"type\":\"DataRange1d\"},{\"attributes\":{\"coordinates\":null,\"data_source\":{\"id\":\"2260\"},\"glyph\":{\"id\":\"2261\"},\"group\":null,\"hover_glyph\":null,\"muted_glyph\":{\"id\":\"2263\"},\"nonselection_glyph\":{\"id\":\"2262\"},\"view\":{\"id\":\"2265\"}},\"id\":\"2264\",\"type\":\"GlyphRenderer\"},{\"attributes\":{\"coordinates\":null,\"formatter\":{\"id\":\"2169\"},\"group\":null,\"major_label_policy\":{\"id\":\"2170\"},\"ticker\":{\"id\":\"2143\"}},\"id\":\"2142\",\"type\":\"LinearAxis\"},{\"attributes\":{},\"id\":\"2136\",\"type\":\"LinearScale\"},{\"attributes\":{},\"id\":\"2151\",\"type\":\"HelpTool\"},{\"attributes\":{},\"id\":\"2139\",\"type\":\"BasicTicker\"},{\"attributes\":{\"axis\":{\"id\":\"2138\"},\"coordinates\":null,\"group\":null,\"ticker\":null},\"id\":\"2141\",\"type\":\"Grid\"},{\"attributes\":{},\"id\":\"2122\",\"type\":\"BasicTickFormatter\"},{\"attributes\":{},\"id\":\"2124\",\"type\":\"UnionRenderers\"},{\"attributes\":{\"tools\":[{\"id\":\"2246\"},{\"id\":\"2247\"},{\"id\":\"2248\"},{\"id\":\"2249\"},{\"id\":\"2250\"},{\"id\":\"2251\"}]},\"id\":\"2253\",\"type\":\"Toolbar\"},{\"attributes\":{\"axis\":{\"id\":\"2142\"},\"coordinates\":null,\"dimension\":1,\"group\":null,\"ticker\":null},\"id\":\"2145\",\"type\":\"Grid\"},{\"attributes\":{},\"id\":\"2143\",\"type\":\"BasicTicker\"},{\"attributes\":{\"data\":{\"x\":[0,1,2,3,4,5,6,7,8,9,10,11,12,13,14,15,16,17,18,19,20,21,22,23,24,25,26,27,28,29,30,31,32,33,34,35,36,37,38,39,40,41,42,43,44,45,46,47,48,49,50,51,52,53,54,55,56,57,58,59,60,61,62,63,64,65,66,67,68,69,70,71,72,73,74,75,76,77,78,79,80,81,82,83,84,85,86,87,88,89,90,91,92,93,94,95,96,97,98,99],\"y\":{\"__ndarray__\":\"0PsWOUiW+7+AhoGp2EEJQFSJaQLXuwRAqt0JDHOpMUCIkPvSkXscwGCqBlFgWENAx2wggzLlQEB9yq+doSlBQOCRk5iC/OM/+F8cpqsMKUCw4VXfv3gMwFewm/wIxjlAGo1Bhk7zOUB24J+eSionQDqyDpmRES5AIJeAE7r5EEAvfHpMlY9FQFB9D+F+mTxA2GSsnRVyNUCwjzXj5aofQI7hLrdXzzVAorQM2KlJMkAwZeygBKNCQAnalVuUcUdA6u76iXTNKUB8vWV4hT1DQA+uAxmwREBA/E/DZ5pyOEDghUwdrwlEQA7gNuhFK0ZAZb0Ot4EPTUDfUztUtAxBQFWcdxuav0BATRlA3hLyS0Bchtov5IpEQK7uWkjS/FBAAii2bXvwPEDoVo9c0ixGQLrRst/RWEFAP+2BFxQBRUDDybXx7IRHQBSM/pvuolJA7c2LzuC1SUAPT+173RxGQDoMsmocGFBAPNkkEFuGS0BmP81N7ndAQERflP0Sq0hAjD+twurNQUAEpw1bjLpKQPRW3Tauq0tAhN5NuHwXVEAL3jrL8xJVQFHDED4bx0lAcSeFSfR7UkBppkZzojpVQJwbNOrSBkxAZ6pqFdsFTkBYPikRRY9HQIP8ntkgXVZA2/kB8z83UECNF/bSdX5QQJrDVOvYxlBAyDI82zZcV0Bcx43s6UFYQOpZh1wBl05A60O4lgSHV0DjDpRjM+FKQMLLyIx7xlBArN/Xhb7nUkCYGBK3tUpRQP2UyVcgSVBAnndbzC75T0AkxNSXWhlYQPgBCG1eEVhAMn0Il47yU0Co2rESNuJSQOhKrkspIFFASj5rSnHQWEDvF1TDIARcQNGlvw/OsltAjDbCQrcmXEBzbAr+LS9WQAZc+quIl1pARho12EabV0CMjim4245ZQO5UFilfx1xA8HkZqBfuVUD3SDSPYKRVQLLP1yGkzFpAA6iXryUAVkBXW3CKgFlVQFTLgwObNFZASnqriPT4WUCEin83c0NfQOBLmSQfbV5A7F5wdrW1WkCgTYSVbd9fQNBXtcZNs1VAeyjAhnWXXEA=\",\"dtype\":\"float64\",\"order\":\"little\",\"shape\":[100]}},\"selected\":{\"id\":\"2175\"},\"selection_policy\":{\"id\":\"2174\"}},\"id\":\"2160\",\"type\":\"ColumnDataSource\"},{\"attributes\":{\"source\":{\"id\":\"2260\"}},\"id\":\"2265\",\"type\":\"CDSView\"},{\"attributes\":{},\"id\":\"2147\",\"type\":\"WheelZoomTool\"},{\"attributes\":{\"fill_alpha\":{\"value\":0.2},\"fill_color\":{\"value\":\"#984ea3\"},\"hatch_alpha\":{\"value\":0.2},\"hatch_color\":{\"value\":\"#984ea3\"},\"line_alpha\":{\"value\":0.2},\"line_color\":{\"value\":\"#984ea3\"},\"x\":{\"field\":\"x\"},\"y\":{\"field\":\"y\"}},\"id\":\"2263\",\"type\":\"Circle\"},{\"attributes\":{},\"id\":\"2146\",\"type\":\"PanTool\"},{\"attributes\":{\"fill_alpha\":{\"value\":0.1},\"fill_color\":{\"value\":\"#984ea3\"},\"hatch_alpha\":{\"value\":0.1},\"hatch_color\":{\"value\":\"#984ea3\"},\"line_alpha\":{\"value\":0.1},\"line_color\":{\"value\":\"#984ea3\"},\"x\":{\"field\":\"x\"},\"y\":{\"field\":\"y\"}},\"id\":\"2262\",\"type\":\"Circle\"},{\"attributes\":{\"overlay\":{\"id\":\"2152\"}},\"id\":\"2148\",\"type\":\"BoxZoomTool\"},{\"attributes\":{},\"id\":\"2149\",\"type\":\"SaveTool\"},{\"attributes\":{},\"id\":\"2150\",\"type\":\"ResetTool\"},{\"attributes\":{\"axis\":{\"id\":\"2242\"},\"coordinates\":null,\"dimension\":1,\"group\":null,\"ticker\":null},\"id\":\"2245\",\"type\":\"Grid\"},{\"attributes\":{\"coordinates\":null,\"group\":null,\"items\":[{\"id\":\"2278\"}]},\"id\":\"2277\",\"type\":\"Legend\"},{\"attributes\":{\"bottom_units\":\"screen\",\"coordinates\":null,\"fill_alpha\":0.5,\"fill_color\":\"lightgrey\",\"group\":null,\"left_units\":\"screen\",\"level\":\"overlay\",\"line_alpha\":1.0,\"line_color\":\"black\",\"line_dash\":[4,4],\"line_width\":2,\"right_units\":\"screen\",\"syncable\":false,\"top_units\":\"screen\"},\"id\":\"2152\",\"type\":\"BoxAnnotation\"},{\"attributes\":{\"label\":{\"value\":\"pearson(range(size), data[3]) = 0.041\"},\"renderers\":[{\"id\":\"2264\"}]},\"id\":\"2278\",\"type\":\"LegendItem\"},{\"attributes\":{\"label\":{\"value\":\"pearson(range(size), data[1]) = 0.911\"},\"renderers\":[{\"id\":\"2164\"}]},\"id\":\"2178\",\"type\":\"LegendItem\"},{\"attributes\":{},\"id\":\"2123\",\"type\":\"AllLabels\"},{\"attributes\":{},\"id\":\"2243\",\"type\":\"BasicTicker\"},{\"attributes\":{},\"id\":\"2269\",\"type\":\"BasicTickFormatter\"},{\"attributes\":{\"coordinates\":null,\"group\":null},\"id\":\"2166\",\"type\":\"Title\"},{\"attributes\":{\"fill_alpha\":{\"value\":0.1},\"fill_color\":{\"value\":\"#377eb8\"},\"hatch_alpha\":{\"value\":0.1},\"hatch_color\":{\"value\":\"#377eb8\"},\"line_alpha\":{\"value\":0.1},\"line_color\":{\"value\":\"#377eb8\"},\"x\":{\"field\":\"x\"},\"y\":{\"field\":\"y\"}},\"id\":\"2162\",\"type\":\"Circle\"},{\"attributes\":{\"fill_alpha\":{\"value\":0.2},\"fill_color\":{\"value\":\"#377eb8\"},\"hatch_alpha\":{\"value\":0.2},\"hatch_color\":{\"value\":\"#377eb8\"},\"line_alpha\":{\"value\":0.2},\"line_color\":{\"value\":\"#377eb8\"},\"x\":{\"field\":\"x\"},\"y\":{\"field\":\"y\"}},\"id\":\"2163\",\"type\":\"Circle\"},{\"attributes\":{},\"id\":\"2086\",\"type\":\"LinearScale\"},{\"attributes\":{},\"id\":\"2125\",\"type\":\"Selection\"},{\"attributes\":{},\"id\":\"2120\",\"type\":\"AllLabels\"},{\"attributes\":{\"tools\":[{\"id\":\"2146\"},{\"id\":\"2147\"},{\"id\":\"2148\"},{\"id\":\"2149\"},{\"id\":\"2150\"},{\"id\":\"2151\"}]},\"id\":\"2153\",\"type\":\"Toolbar\"},{\"attributes\":{\"coordinates\":null,\"group\":null,\"items\":[{\"id\":\"2178\"}]},\"id\":\"2177\",\"type\":\"Legend\"},{\"attributes\":{},\"id\":\"2270\",\"type\":\"AllLabels\"},{\"attributes\":{\"toolbar\":{\"id\":\"2328\"},\"toolbar_location\":\"above\"},\"id\":\"2329\",\"type\":\"ToolbarBox\"},{\"attributes\":{\"coordinates\":null,\"data_source\":{\"id\":\"2160\"},\"glyph\":{\"id\":\"2161\"},\"group\":null,\"hover_glyph\":null,\"muted_glyph\":{\"id\":\"2163\"},\"nonselection_glyph\":{\"id\":\"2162\"},\"view\":{\"id\":\"2165\"}},\"id\":\"2164\",\"type\":\"GlyphRenderer\"},{\"attributes\":{},\"id\":\"2219\",\"type\":\"BasicTickFormatter\"},{\"attributes\":{\"coordinates\":null,\"formatter\":{\"id\":\"2219\"},\"group\":null,\"major_label_policy\":{\"id\":\"2220\"},\"ticker\":{\"id\":\"2193\"}},\"id\":\"2192\",\"type\":\"LinearAxis\"},{\"attributes\":{\"axis\":{\"id\":\"2192\"},\"coordinates\":null,\"dimension\":1,\"group\":null,\"ticker\":null},\"id\":\"2195\",\"type\":\"Grid\"},{\"attributes\":{},\"id\":\"2220\",\"type\":\"AllLabels\"},{\"attributes\":{},\"id\":\"2201\",\"type\":\"HelpTool\"},{\"attributes\":{\"fill_alpha\":{\"value\":0.1},\"fill_color\":{\"value\":\"#e41a1c\"},\"hatch_alpha\":{\"value\":0.1},\"hatch_color\":{\"value\":\"#e41a1c\"},\"line_alpha\":{\"value\":0.1},\"line_color\":{\"value\":\"#e41a1c\"},\"x\":{\"field\":\"x\"},\"y\":{\"field\":\"y\"}},\"id\":\"2112\",\"type\":\"Circle\"},{\"attributes\":{\"fill_alpha\":{\"value\":0.2},\"fill_color\":{\"value\":\"#e41a1c\"},\"hatch_alpha\":{\"value\":0.2},\"hatch_color\":{\"value\":\"#e41a1c\"},\"line_alpha\":{\"value\":0.2},\"line_color\":{\"value\":\"#e41a1c\"},\"x\":{\"field\":\"x\"},\"y\":{\"field\":\"y\"}},\"id\":\"2113\",\"type\":\"Circle\"},{\"attributes\":{},\"id\":\"2193\",\"type\":\"BasicTicker\"},{\"attributes\":{\"coordinates\":null,\"data_source\":{\"id\":\"2110\"},\"glyph\":{\"id\":\"2111\"},\"group\":null,\"hover_glyph\":null,\"muted_glyph\":{\"id\":\"2113\"},\"nonselection_glyph\":{\"id\":\"2112\"},\"view\":{\"id\":\"2115\"}},\"id\":\"2114\",\"type\":\"GlyphRenderer\"},{\"attributes\":{\"data\":{\"x\":[0,1,2,3,4,5,6,7,8,9,10,11,12,13,14,15,16,17,18,19,20,21,22,23,24,25,26,27,28,29,30,31,32,33,34,35,36,37,38,39,40,41,42,43,44,45,46,47,48,49,50,51,52,53,54,55,56,57,58,59,60,61,62,63,64,65,66,67,68,69,70,71,72,73,74,75,76,77,78,79,80,81,82,83,84,85,86,87,88,89,90,91,92,93,94,95,96,97,98,99],\"y\":{\"__ndarray__\":\"4MAA3cEIZkDhscP/W4dlQAZmoV2EmmlAmYN/qx0wakBzGoVA0ExqQKKjeSL9ZWVAdYXaDVCsaEAfhnsgZ0RnQAl1VETMR2VAaJTBmBnGY0D8/5++l9dkQKJmK9dJ+2JAmi3xJci6ZkAOj4y2zyViQPj+hMihd2JAi+XVsDSvZEC0GFRN50hlQEKEZLemKWNAWPM6Kw6kYkBKQ9KcM8dkQGtR9juqeV9Anti7GRbCYkAmOgHQVcpiQNhAwPhB+mJAqFoqE/UDYkBO0JP/o05iQMKvQ+5BvFxApJQ3Hg/yYEAgjUPVjrJgQMhouBx5oF9AtMpPlvpOV0BXS0Fg28tXQN2WkzeK/lVATHHS5UblVECArYmU5GNUQIhdKk2cq1JAvc7NXMfOUkALQMHv5oVTQLpjYlT3MlRAqN+vPiGCUkA0vozTi11PQPLaM4I6glFAcw6piE6PV0D/yD+AUBZTQIxjFTGvbVVA6KTDhRfmREA4VQ04uMBKQEvswVJO/FRAsm2+JGueU0CgLicYwV1PQIZGZV/GAVBATCrl8tedQUCc92nYvOFGQLzvgMV3rUJAxLcJFoigQ0AQwnu7dCJAQND7RPOQvTFA4H7yDb7dGkBAJ7On3M4/QOCcrxyeEidAuPmZbv8WQkAAWBFSxorgP9B+lGbnLzFA0OXjqlvzJcBQ2+YuJOMkwKDNZntYVxnAwNzog9aiD0BgZpjMwFspwMCRshpQSAjAaD1aiIYTOsCARujJMSD7v4Ckt3xVqCTAyAd94csJQMBsrSZz+B9AwMA9kaKSakPAMB1lwEiaPMCAjlmTXgwiwCjLbmT5LjHA6DAzKbQkTcB0o5KHVT9JwMjlGnmmP1DA8EfjOqjaPcDQY7jfdVVOwJxxYNTo70bAYB+jh3ubR8B4B1aeelVIwDDo0VoAsk7AJJGjKrv2VMBY7WcZ8IhNwIDOaV2DkkfAGMp9sLaMU8C4gDMnYI1NwJBuR78He07AjKyMQMI/WcDIX2k3C+NXwFwDQlXnq1nA8Gly0KTnUsA8VBLvjXZRwDRLWs5m3FjAUMLSC8IsWsA=\",\"dtype\":\"float64\",\"order\":\"little\",\"shape\":[100]}},\"selected\":{\"id\":\"2225\"},\"selection_policy\":{\"id\":\"2224\"}},\"id\":\"2210\",\"type\":\"ColumnDataSource\"},{\"attributes\":{\"source\":{\"id\":\"2110\"}},\"id\":\"2115\",\"type\":\"CDSView\"},{\"attributes\":{},\"id\":\"2197\",\"type\":\"WheelZoomTool\"},{\"attributes\":{\"coordinates\":null,\"group\":null},\"id\":\"2116\",\"type\":\"Title\"},{\"attributes\":{},\"id\":\"2196\",\"type\":\"PanTool\"},{\"attributes\":{\"overlay\":{\"id\":\"2202\"}},\"id\":\"2198\",\"type\":\"BoxZoomTool\"},{\"attributes\":{\"tools\":[{\"id\":\"2096\"},{\"id\":\"2097\"},{\"id\":\"2098\"},{\"id\":\"2099\"},{\"id\":\"2100\"},{\"id\":\"2101\"}]},\"id\":\"2103\",\"type\":\"Toolbar\"},{\"attributes\":{},\"id\":\"2199\",\"type\":\"SaveTool\"},{\"attributes\":{},\"id\":\"2200\",\"type\":\"ResetTool\"},{\"attributes\":{},\"id\":\"2169\",\"type\":\"BasicTickFormatter\"},{\"attributes\":{},\"id\":\"2224\",\"type\":\"UnionRenderers\"},{\"attributes\":{\"bottom_units\":\"screen\",\"coordinates\":null,\"fill_alpha\":0.5,\"fill_color\":\"lightgrey\",\"group\":null,\"left_units\":\"screen\",\"level\":\"overlay\",\"line_alpha\":1.0,\"line_color\":\"black\",\"line_dash\":[4,4],\"line_width\":2,\"right_units\":\"screen\",\"syncable\":false,\"top_units\":\"screen\"},\"id\":\"2202\",\"type\":\"BoxAnnotation\"},{\"attributes\":{\"coordinates\":null,\"group\":null,\"items\":[{\"id\":\"2128\"}]},\"id\":\"2127\",\"type\":\"Legend\"},{\"attributes\":{},\"id\":\"2170\",\"type\":\"AllLabels\"},{\"attributes\":{\"coordinates\":null,\"group\":null},\"id\":\"2216\",\"type\":\"Title\"},{\"attributes\":{},\"id\":\"2225\",\"type\":\"Selection\"},{\"attributes\":{},\"id\":\"2172\",\"type\":\"BasicTickFormatter\"},{\"attributes\":{\"coordinates\":null,\"data_source\":{\"id\":\"2210\"},\"glyph\":{\"id\":\"2211\"},\"group\":null,\"hover_glyph\":null,\"muted_glyph\":{\"id\":\"2213\"},\"nonselection_glyph\":{\"id\":\"2212\"},\"view\":{\"id\":\"2215\"}},\"id\":\"2214\",\"type\":\"GlyphRenderer\"},{\"attributes\":{},\"id\":\"2173\",\"type\":\"AllLabels\"},{\"attributes\":{},\"id\":\"2097\",\"type\":\"WheelZoomTool\"},{\"attributes\":{\"label\":{\"value\":\"pearson(range(size), data[0]) = 0.995\"},\"renderers\":[{\"id\":\"2114\"}]},\"id\":\"2128\",\"type\":\"LegendItem\"},{\"attributes\":{},\"id\":\"2222\",\"type\":\"BasicTickFormatter\"},{\"attributes\":{\"tools\":[{\"id\":\"2196\"},{\"id\":\"2197\"},{\"id\":\"2198\"},{\"id\":\"2199\"},{\"id\":\"2200\"},{\"id\":\"2201\"}]},\"id\":\"2203\",\"type\":\"Toolbar\"},{\"attributes\":{},\"id\":\"2093\",\"type\":\"BasicTicker\"},{\"attributes\":{},\"id\":\"2096\",\"type\":\"PanTool\"},{\"attributes\":{\"axis\":{\"id\":\"2088\"},\"coordinates\":null,\"group\":null,\"ticker\":null},\"id\":\"2091\",\"type\":\"Grid\"},{\"attributes\":{},\"id\":\"2080\",\"type\":\"DataRange1d\"},{\"attributes\":{\"coordinates\":null,\"formatter\":{\"id\":\"2122\"},\"group\":null,\"major_label_policy\":{\"id\":\"2123\"},\"ticker\":{\"id\":\"2089\"}},\"id\":\"2088\",\"type\":\"LinearAxis\"},{\"attributes\":{},\"id\":\"2174\",\"type\":\"UnionRenderers\"},{\"attributes\":{},\"id\":\"2084\",\"type\":\"LinearScale\"},{\"attributes\":{},\"id\":\"2175\",\"type\":\"Selection\"},{\"attributes\":{\"source\":{\"id\":\"2210\"}},\"id\":\"2215\",\"type\":\"CDSView\"},{\"attributes\":{\"coordinates\":null,\"formatter\":{\"id\":\"2119\"},\"group\":null,\"major_label_policy\":{\"id\":\"2120\"},\"ticker\":{\"id\":\"2093\"}},\"id\":\"2092\",\"type\":\"LinearAxis\"},{\"attributes\":{\"fill_alpha\":{\"value\":0.2},\"fill_color\":{\"value\":\"#4daf4a\"},\"hatch_alpha\":{\"value\":0.2},\"hatch_color\":{\"value\":\"#4daf4a\"},\"line_alpha\":{\"value\":0.2},\"line_color\":{\"value\":\"#4daf4a\"},\"x\":{\"field\":\"x\"},\"y\":{\"field\":\"y\"}},\"id\":\"2213\",\"type\":\"Circle\"},{\"attributes\":{\"fill_color\":{\"value\":\"#e41a1c\"},\"hatch_color\":{\"value\":\"#e41a1c\"},\"line_color\":{\"value\":\"#e41a1c\"},\"x\":{\"field\":\"x\"},\"y\":{\"field\":\"y\"}},\"id\":\"2111\",\"type\":\"Circle\"},{\"attributes\":{\"axis\":{\"id\":\"2092\"},\"coordinates\":null,\"dimension\":1,\"group\":null,\"ticker\":null},\"id\":\"2095\",\"type\":\"Grid\"},{\"attributes\":{},\"id\":\"2089\",\"type\":\"BasicTicker\"},{\"attributes\":{},\"id\":\"2223\",\"type\":\"AllLabels\"},{\"attributes\":{\"overlay\":{\"id\":\"2102\"}},\"id\":\"2098\",\"type\":\"BoxZoomTool\"},{\"attributes\":{\"fill_alpha\":{\"value\":0.1},\"fill_color\":{\"value\":\"#4daf4a\"},\"hatch_alpha\":{\"value\":0.1},\"hatch_color\":{\"value\":\"#4daf4a\"},\"line_alpha\":{\"value\":0.1},\"line_color\":{\"value\":\"#4daf4a\"},\"x\":{\"field\":\"x\"},\"y\":{\"field\":\"y\"}},\"id\":\"2212\",\"type\":\"Circle\"},{\"attributes\":{\"coordinates\":null,\"group\":null,\"items\":[{\"id\":\"2228\"}]},\"id\":\"2227\",\"type\":\"Legend\"},{\"attributes\":{\"source\":{\"id\":\"2160\"}},\"id\":\"2165\",\"type\":\"CDSView\"},{\"attributes\":{\"label\":{\"value\":\"pearson(range(size), data[2]) = -0.986\"},\"renderers\":[{\"id\":\"2214\"}]},\"id\":\"2228\",\"type\":\"LegendItem\"},{\"attributes\":{\"coordinates\":null,\"formatter\":{\"id\":\"2272\"},\"group\":null,\"major_label_policy\":{\"id\":\"2273\"},\"ticker\":{\"id\":\"2239\"}},\"id\":\"2238\",\"type\":\"LinearAxis\"},{\"attributes\":{\"fill_color\":{\"value\":\"#984ea3\"},\"hatch_color\":{\"value\":\"#984ea3\"},\"line_color\":{\"value\":\"#984ea3\"},\"x\":{\"field\":\"x\"},\"y\":{\"field\":\"y\"}},\"id\":\"2261\",\"type\":\"Circle\"},{\"attributes\":{},\"id\":\"2234\",\"type\":\"LinearScale\"},{\"attributes\":{\"below\":[{\"id\":\"2238\"}],\"center\":[{\"id\":\"2241\"},{\"id\":\"2245\"},{\"id\":\"2277\"}],\"height\":300,\"left\":[{\"id\":\"2242\"}],\"renderers\":[{\"id\":\"2264\"}],\"sizing_mode\":\"scale_width\",\"title\":{\"id\":\"2266\"},\"toolbar\":{\"id\":\"2253\"},\"toolbar_location\":null,\"x_range\":{\"id\":\"2230\"},\"x_scale\":{\"id\":\"2234\"},\"y_range\":{\"id\":\"2232\"},\"y_scale\":{\"id\":\"2236\"}},\"id\":\"2229\",\"subtype\":\"Figure\",\"type\":\"Plot\"},{\"attributes\":{},\"id\":\"2101\",\"type\":\"HelpTool\"},{\"attributes\":{},\"id\":\"2099\",\"type\":\"SaveTool\"},{\"attributes\":{},\"id\":\"2100\",\"type\":\"ResetTool\"},{\"attributes\":{},\"id\":\"2232\",\"type\":\"DataRange1d\"},{\"attributes\":{},\"id\":\"2189\",\"type\":\"BasicTicker\"},{\"attributes\":{},\"id\":\"2230\",\"type\":\"DataRange1d\"},{\"attributes\":{\"fill_color\":{\"value\":\"#4daf4a\"},\"hatch_color\":{\"value\":\"#4daf4a\"},\"line_color\":{\"value\":\"#4daf4a\"},\"x\":{\"field\":\"x\"},\"y\":{\"field\":\"y\"}},\"id\":\"2211\",\"type\":\"Circle\"},{\"attributes\":{\"coordinates\":null,\"formatter\":{\"id\":\"2269\"},\"group\":null,\"major_label_policy\":{\"id\":\"2270\"},\"ticker\":{\"id\":\"2243\"}},\"id\":\"2242\",\"type\":\"LinearAxis\"},{\"attributes\":{},\"id\":\"2184\",\"type\":\"LinearScale\"},{\"attributes\":{},\"id\":\"2082\",\"type\":\"DataRange1d\"},{\"attributes\":{\"below\":[{\"id\":\"2088\"}],\"center\":[{\"id\":\"2091\"},{\"id\":\"2095\"},{\"id\":\"2127\"}],\"height\":300,\"left\":[{\"id\":\"2092\"}],\"renderers\":[{\"id\":\"2114\"}],\"sizing_mode\":\"scale_width\",\"title\":{\"id\":\"2116\"},\"toolbar\":{\"id\":\"2103\"},\"toolbar_location\":null,\"x_range\":{\"id\":\"2080\"},\"x_scale\":{\"id\":\"2084\"},\"y_range\":{\"id\":\"2082\"},\"y_scale\":{\"id\":\"2086\"}},\"id\":\"2079\",\"subtype\":\"Figure\",\"type\":\"Plot\"},{\"attributes\":{\"below\":[{\"id\":\"2188\"}],\"center\":[{\"id\":\"2191\"},{\"id\":\"2195\"},{\"id\":\"2227\"}],\"height\":300,\"left\":[{\"id\":\"2192\"}],\"renderers\":[{\"id\":\"2214\"}],\"sizing_mode\":\"scale_width\",\"title\":{\"id\":\"2216\"},\"toolbar\":{\"id\":\"2203\"},\"toolbar_location\":null,\"x_range\":{\"id\":\"2180\"},\"x_scale\":{\"id\":\"2184\"},\"y_range\":{\"id\":\"2182\"},\"y_scale\":{\"id\":\"2186\"}},\"id\":\"2179\",\"subtype\":\"Figure\",\"type\":\"Plot\"},{\"attributes\":{},\"id\":\"2236\",\"type\":\"LinearScale\"},{\"attributes\":{\"toolbars\":[{\"id\":\"2103\"},{\"id\":\"2153\"},{\"id\":\"2203\"},{\"id\":\"2253\"}],\"tools\":[{\"id\":\"2096\"},{\"id\":\"2097\"},{\"id\":\"2098\"},{\"id\":\"2099\"},{\"id\":\"2100\"},{\"id\":\"2101\"},{\"id\":\"2146\"},{\"id\":\"2147\"},{\"id\":\"2148\"},{\"id\":\"2149\"},{\"id\":\"2150\"},{\"id\":\"2151\"},{\"id\":\"2196\"},{\"id\":\"2197\"},{\"id\":\"2198\"},{\"id\":\"2199\"},{\"id\":\"2200\"},{\"id\":\"2201\"},{\"id\":\"2246\"},{\"id\":\"2247\"},{\"id\":\"2248\"},{\"id\":\"2249\"},{\"id\":\"2250\"},{\"id\":\"2251\"}]},\"id\":\"2328\",\"type\":\"ProxyToolbar\"},{\"attributes\":{\"bottom_units\":\"screen\",\"coordinates\":null,\"fill_alpha\":0.5,\"fill_color\":\"lightgrey\",\"group\":null,\"left_units\":\"screen\",\"level\":\"overlay\",\"line_alpha\":1.0,\"line_color\":\"black\",\"line_dash\":[4,4],\"line_width\":2,\"right_units\":\"screen\",\"syncable\":false,\"top_units\":\"screen\"},\"id\":\"2102\",\"type\":\"BoxAnnotation\"},{\"attributes\":{\"children\":[[{\"id\":\"2079\"},0,0],[{\"id\":\"2129\"},0,1],[{\"id\":\"2179\"},1,0],[{\"id\":\"2229\"},1,1]]},\"id\":\"2327\",\"type\":\"GridBox\"},{\"attributes\":{},\"id\":\"2182\",\"type\":\"DataRange1d\"},{\"attributes\":{},\"id\":\"2239\",\"type\":\"BasicTicker\"},{\"attributes\":{\"axis\":{\"id\":\"2238\"},\"coordinates\":null,\"group\":null,\"ticker\":null},\"id\":\"2241\",\"type\":\"Grid\"},{\"attributes\":{},\"id\":\"2180\",\"type\":\"DataRange1d\"},{\"attributes\":{\"data\":{\"x\":[0,1,2,3,4,5,6,7,8,9,10,11,12,13,14,15,16,17,18,19,20,21,22,23,24,25,26,27,28,29,30,31,32,33,34,35,36,37,38,39,40,41,42,43,44,45,46,47,48,49,50,51,52,53,54,55,56,57,58,59,60,61,62,63,64,65,66,67,68,69,70,71,72,73,74,75,76,77,78,79,80,81,82,83,84,85,86,87,88,89,90,91,92,93,94,95,96,97,98,99],\"y\":{\"__ndarray__\":\"4QSCU31ZN8DoT7JBjHkZQMBIoCUemTlA/kRdn7moJkAB3/ucF9c6QNTiQj/FxUZAxhpWg0cHJ0A0TI5xGWhDQM/GmW8lXT1AvEELShZ8SEAB1szLlyxLQDnF0dvE9khAE51adTNlU0CgznzabYtUQOrYgRHXr0xAxJax3IC7VED4KcvpqBdSQDClUGQASVpAw94XxpsEUUB8GJrNwWpXQEcfX4B1zFRAwqjQZzvxVEBybiwRq3hdQKdXg7BG8V9Ad2/hEm91WkDUt895AqNbQHjtvHJ8mVpAgODBvZYyYUA6C6dW831kQFyLSZJuQGRAZ26L//tSYkAkzYa0UYhlQFU5zrjk8GZAVxNvzrM9ZEA2l+KOu5tjQKMlYEIvfGZAngdMP4tJZ0BGwchex8tmQFnaD5YoI2pAQp5lV/sAaUACn+oUm5xmQHuxPdjBgWdA0twcX9rgbEC+/O6F94VqQF/d6rUdcmhAgOhryfMsbEBZnu5uwy5rQNqCesIG/G1AJf1Xn6DQbkASS+JYAc1wQG6WaPyrHG5AfPpiwLrCbkDB22rFCmxvQDBVoJG0P3BAmK/fgfQmckDySS9KnXxyQPE/nZal+nBAzyH0eSH9cUD2+uKpdaFwQJKMOLiroXNAs9KTFBP4ckDjTP+Z4ElyQJcr5j4CgXNAA+KAuY3mckBHXX2T/ZdyQHrVFty+JnRAIRxnWeEec0BH43EOsMF0QIBiI5RannRAvcjN/ZaxdUDtO/cTgHR0QNKXqSf4NnZAdmsTcOCRd0AnNfRIjGh2QPrRABp98nVA8+oiiMO1dkAUs9AwN7p2QBkc4JepinlAQx+dtLzqdkB/uBXrrdV3QLKRnpY3yHlAc/DyDqfOeEDqdrsjDod5QDsSsNrMGHpA2punOk4rekDO8gezKd55QDAEYoKfnXlAzSoz9+b2e0CpC37rxMx8QHIVGi6yG3tAtrwZjU3ce0BY7fToGyl9QEZzSBj4aX1A7GlUDCCpfUC0t2hRYnh+QPl9aTuq+31A+nhvJ3ZMfUAhUySMsfJ+QBKCBMT1oH5A8s5Fsv4IgEA=\",\"dtype\":\"float64\",\"order\":\"little\",\"shape\":[100]}},\"selected\":{\"id\":\"2125\"},\"selection_policy\":{\"id\":\"2124\"}},\"id\":\"2110\",\"type\":\"ColumnDataSource\"},{\"attributes\":{\"coordinates\":null,\"formatter\":{\"id\":\"2222\"},\"group\":null,\"major_label_policy\":{\"id\":\"2223\"},\"ticker\":{\"id\":\"2189\"}},\"id\":\"2188\",\"type\":\"LinearAxis\"},{\"attributes\":{},\"id\":\"2186\",\"type\":\"LinearScale\"},{\"attributes\":{\"axis\":{\"id\":\"2188\"},\"coordinates\":null,\"group\":null,\"ticker\":null},\"id\":\"2191\",\"type\":\"Grid\"}],\"root_ids\":[\"2330\"]},\"title\":\"Bokeh Application\",\"version\":\"2.4.1\"}};\n  const render_items = [{\"docid\":\"3fdaf4e9-cd7d-456e-add0-b0f4a959ddf1\",\"root_ids\":[\"2330\"],\"roots\":{\"2330\":\"fe6f466d-cea7-4e51-83fb-501d953e4145\"}}];\n  root.Bokeh.embed.embed_items_notebook(docs_json, render_items);\n\n  }\n  if (root.Bokeh !== undefined) {\n    embed_document(root);\n  } else {\n    let attempts = 0;\n    const timer = setInterval(function(root) {\n      if (root.Bokeh !== undefined) {\n        clearInterval(timer);\n        embed_document(root);\n      } else {\n        attempts++;\n        if (attempts > 100) {\n          clearInterval(timer);\n          console.log(\"Bokeh: ERROR: Unable to run BokehJS code because BokehJS library is missing\");\n        }\n      }\n    }, 10, root)\n  }\n})(window);",
      "application/vnd.bokehjs_exec.v0+json": ""
     },
     "metadata": {
      "application/vnd.bokehjs_exec.v0+json": {
       "id": "2330"
      }
     },
     "output_type": "display_data"
    }
   ],
   "source": [
    "import numpy as np\n",
    "import bokeh.palettes\n",
    "import bokeh.layouts\n",
    "from bokeh.models import Label\n",
    "\n",
    "size = 100\n",
    "data = []\n",
    "data.append(5 * np.array(range(size)) + np.random.uniform(-size/4, size/4, size=size))\n",
    "data.append(np.array(range(size)) + np.random.uniform(-size/4, size/4, size=size) + 10)\n",
    "data.append(-3 * np.array(range(size)) + np.random.uniform(-size/4, size/4, size=size) + 200)\n",
    "data.append(100 * np.sin(np.array(range(size)) / size * np.pi) + np.random.uniform(-size/10, size/10, size=size))\n",
    "\n",
    "plots = []\n",
    "\n",
    "for i in range(len(data)):\n",
    "    p = figure()\n",
    "    plots.append(p)\n",
    "    p.circle(\n",
    "        range(size), \n",
    "        data[i], \n",
    "        color=bokeh.palettes.Set1_6[i],\n",
    "        legend_label='pearson(range(size), data[{}]) = {:.3f}'.format(i, pearson(range(size), data[i]))\n",
    "    )\n",
    "\n",
    "show(bokeh.layouts.gridplot(children=plots, ncols=2, sizing_mode='scale_width', height=300))\n"
   ]
  },
  {
   "cell_type": "markdown",
   "metadata": {},
   "source": [
    "## Exercise 2"
   ]
  },
  {
   "cell_type": "code",
   "execution_count": 6,
   "metadata": {},
   "outputs": [],
   "source": [
    "def pearson_pointwise(traces, intermediates):\n",
    "    intermediates_diff = intermediates - np.mean(intermediates)\n",
    "    intermediates_sqrt = np.sqrt(np.sum(intermediates_diff ** 2))\n",
    "    traces_diff = traces - np.mean(traces, axis=0)\n",
    "    \n",
    "    return np.sum(traces_diff * intermediates_diff[:, None], axis=0) / (\n",
    "        np.sqrt(np.sum(traces_diff ** 2, axis=0)) * intermediates_sqrt\n",
    "    )"
   ]
  },
  {
   "cell_type": "code",
   "execution_count": 20,
   "metadata": {},
   "outputs": [
    {
     "name": "stderr",
     "output_type": "stream",
     "text": [
      "WARNING:ChipWhisperer NAEUSB:Your firmware is outdated - latest is 0.52. Suggested to update firmware, as you may experience errors\n",
      "See https://chipwhisperer.readthedocs.io/en/latest/api.html#firmware-update\n"
     ]
    }
   ],
   "source": [
    "import securec\n",
    "from securec import util\n",
    "scope, target = util.init()"
   ]
  },
  {
   "cell_type": "code",
   "execution_count": 21,
   "metadata": {},
   "outputs": [
    {
     "name": "stdout",
     "output_type": "stream",
     "text": [
      "XMEGA Programming flash...\n",
      "XMEGA Reading flash...\n",
      "Verified flash OK, 2041 bytes\n",
      "\u001b[32m✓\u001b[0m\n"
     ]
    }
   ],
   "source": [
    "securec.util.compile_and_flash('./4_password_fixed.c')"
   ]
  },
  {
   "cell_type": "code",
   "execution_count": 24,
   "metadata": {},
   "outputs": [],
   "source": [
    "import numpy as np\n",
    "\n",
    "scope.default_setup()\n",
    "\n",
    "def capture(attempt, samples=500):\n",
    "    scope.adc.samples = samples\n",
    "    if isinstance(attempt, str):\n",
    "        attempt = attempt.encode('iso-8859-1')\n",
    "    elif isinstance(attempt, int):\n",
    "        attempt = bytes([attempt])\n",
    "    scope.arm()\n",
    "    target.simpleserial_write(0x01, attempt + b'\\x00' * (10 - len(attempt)))\n",
    "    result = target.simpleserial_read(0x01, 1)\n",
    "    return np.array(util.capture()), not bool(result[0])\n"
   ]
  },
  {
   "cell_type": "code",
   "execution_count": 25,
   "metadata": {},
   "outputs": [
    {
     "data": {
      "application/vnd.jupyter.widget-view+json": {
       "model_id": "c794b720a31b40c1bae5d65c2835916e",
       "version_major": 2,
       "version_minor": 0
      },
      "text/plain": [
       "  0%|          | 0/1000 [00:00<?, ?it/s]"
      ]
     },
     "metadata": {},
     "output_type": "display_data"
    },
    {
     "name": "stderr",
     "output_type": "stream",
     "text": [
      "WARNING:ChipWhisperer Target:Unexpected start to command 5\n",
      "WARNING:ChipWhisperer Target:Invalid CRC. Expected 171 got 41\n",
      "WARNING:ChipWhisperer Target:Did not receive end of frame, got 94\n",
      "WARNING:ChipWhisperer Target:Unexpected frame byte in CWbytearray(b'00 03 65')\n",
      "ERROR:ChipWhisperer Target:Device did not ack\n"
     ]
    }
   ],
   "source": [
    "import random\n",
    "import tqdm\n",
    "import tqdm.notebook\n",
    "\n",
    "trace_samples = 500\n",
    "trace_nums = 1000\n",
    "\n",
    "traces = []\n",
    "attempts = []\n",
    "for _ in tqdm.notebook.tqdm(range(trace_nums)):\n",
    "    attempt = bytes([random.randint(0, 255) for _ in range(10)])\n",
    "    traces.append(capture(attempt, samples=trace_samples)[0])\n",
    "    attempts.append(attempt)\n",
    "traces = np.array(traces)\n",
    "attempts = np.array([list(a) for a in attempts])\n"
   ]
  },
  {
   "cell_type": "code",
   "execution_count": 27,
   "metadata": {},
   "outputs": [
    {
     "name": "stderr",
     "output_type": "stream",
     "text": [
      "/tmp/ipykernel_356538/3214675746.py:6: RuntimeWarning: invalid value encountered in true_divide\n",
      "  return np.sum(traces_diff * intermediates_diff[:, None], axis=0) / (\n"
     ]
    },
    {
     "name": "stdout",
     "output_type": "stream",
     "text": [
      "0 [(0.868010489766256, 'i'), (0.6984203757850378, 'm'), (0.6764400583074268, 'y'), (0.6574055689661595, 'h')]\n",
      "1 [(0.7702789392644435, 'n'), (0.6276290007156238, 'i'), (0.5804460676695681, 'o'), (0.5758312859960866, 'j')]\n",
      "2 [(0.8668304426541704, 'f'), (0.7267387518592181, 'g'), (0.6801539867221525, 'n'), (0.6533597629214027, 'v')]\n",
      "3 [(0.7915718697435092, 'i'), (0.6470271724333567, 'e'), (0.6421487599024498, 'h'), (0.6193741214333814, 'm')]\n",
      "4 [(0.8566407717096318, 'n'), (0.7392344948902381, 'o'), (0.6590189108181488, 'l'), (0.650867966773684, 'j')]\n",
      "5 [(0.7637352141204037, 'e'), (0.6201168932362561, 'n'), (0.595415026174905, 'm'), (0.5793247104843389, 'd')]\n",
      "6 [(0.5539042085795287, 'o'), (0.5278483641948174, 'm'), (0.4855915481236808, 'a'), (0.4356254924793364, 'k')]\n",
      "7 [(0.7964464771904689, 'n'), (0.6996691752059717, 'o'), (0.6953047104335952, 'l'), (0.6883903769147975, 'm')]\n"
     ]
    }
   ],
   "source": [
    "import itertools\n",
    "\n",
    "def attack_cpa_bestof(attempts, traces, charlist='abcdefghijklmnopqrstuvwxyz', brute_force_rest=False):\n",
    "    bestfits = []\n",
    "    for idx in range(8):\n",
    "        maxpearsons = []\n",
    "        for guess in charlist:\n",
    "            maxpearsons.append((max(abs(pearson_pointwise(traces, hw_vec(attempts[:, idx] ^ ord(guess))))), guess))\n",
    "        maxchars = list(sorted(maxpearsons, reverse=True))\n",
    "        bestfits.append(maxchars[:4])\n",
    "        print(idx, maxchars[:4])\n",
    "\n",
    "    if brute_force_rest:\n",
    "        for attempt in tqdm.notebook.tqdm(itertools.product(*map(lambda maxchars: [b[1] for b in maxchars], bestfits))):\n",
    "            attempt = ''.join(attempt)\n",
    "            if capture(attempt)[1]:\n",
    "                return attempt\n",
    "    \n",
    "attack_cpa_bestof(attempts, traces)"
   ]
  }
 ],
 "metadata": {
  "interpreter": {
   "hash": "e6a9ff99e7f48ddc354d1453a75f191a2a3408f9572c79e6e746e872f3f5130d"
  },
  "kernelspec": {
   "display_name": "Python 3.9.5 64-bit ('.env': venv)",
   "name": "python3"
  },
  "language_info": {
   "codemirror_mode": {
    "name": "ipython",
    "version": 3
   },
   "file_extension": ".py",
   "mimetype": "text/x-python",
   "name": "python",
   "nbconvert_exporter": "python",
   "pygments_lexer": "ipython3",
   "version": "3.9.5"
  },
  "toc": {
   "base_numbering": 1,
   "nav_menu": {},
   "number_sections": true,
   "sideBar": true,
   "skip_h1_title": true,
   "title_cell": "Table of Contents",
   "title_sidebar": "Contents",
   "toc_cell": false,
   "toc_position": {
    "height": "calc(100% - 180px)",
    "left": "10px",
    "top": "150px",
    "width": "268.667px"
   },
   "toc_section_display": true,
   "toc_window_display": false
  }
 },
 "nbformat": 4,
 "nbformat_minor": 4
}
