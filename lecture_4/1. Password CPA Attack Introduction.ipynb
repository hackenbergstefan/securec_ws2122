{
 "cells": [
  {
   "cell_type": "markdown",
   "metadata": {},
   "source": [
    "# Lecture 4: Password CPA Attack - Introduction"
   ]
  },
  {
   "cell_type": "markdown",
   "metadata": {},
   "source": [
    "In this example we want to improve the password check again to be resistant against the attack from the last tutorial.\n",
    "\n",
    "## Improving the code\n",
    "\n",
    "Let's first recap the password checking loop from the last lecture:\n",
    "```c\n",
    "for(uint8_t i = 0; i < sizeof(stored_password); i++)\n",
    "{\n",
    "    if (stored_password[i] != passwd[i])\n",
    "    {\n",
    "        password_wrong = 1;\n",
    "    }\n",
    "}\n",
    "```\n",
    "\n",
    "The differences attack discussed in the last example worked because of the different power consumption when executing the code inside the if clause. This is addressed by the following code.\n",
    "\n",
    "```c\n",
    "uint8_t password_wrong = 0;\n",
    "for(uint8_t i = 0; i < sizeof(stored_password); i++)\n",
    "{\n",
    "    password_wrong |= stored_password[i] ^ passwd[i];\n",
    "}\n",
    "```\n",
    "\n",
    "This is an excerpt from `4_password_fixed.c`."
   ]
  },
  {
   "cell_type": "markdown",
   "metadata": {},
   "source": [
    "<div style=\"background: #f0ffe0; padding: 15px; border: 1px solid slategray;\">\n",
    "<div class=\"h2\" style=\"font-variant: small-caps;\">Exercise 1</div>\n",
    "    \n",
    "Check that neither SAD nor MAD attack does not work anymore.\n",
    "\n",
    "</div>"
   ]
  },
  {
   "cell_type": "markdown",
   "metadata": {},
   "source": [
    "\n",
    "One of the main principle of side channel analysis is:\n",
    "\n",
    "> The power consumption of a device is proportional to the hamming weight of the data it processes."
   ]
  },
  {
   "cell_type": "markdown",
   "metadata": {},
   "source": [
    "<div style=\"background: #f0ffe0; padding: 15px; border: 1px solid slategray;\">\n",
    "<div class=\"h2\" style=\"font-variant: small-caps;\">Exercise 2</div>\n",
    "\n",
    "Capture several traces with different input values of different hamming weights. Consider only the _first_ character.\n",
    "\n",
    "Match the trace points with the assembly instructions of the comparison loop:\n",
    "\n",
    "- There are points where _all_ traces have the same value.\n",
    "- There are points where the traces differ.\n",
    "\n",
    "</div>"
   ]
  },
  {
   "cell_type": "markdown",
   "metadata": {},
   "source": [
    "<div style=\"background: #f0ffe0; padding: 15px; border: 1px solid slategray;\">\n",
    "<div class=\"h2\" style=\"font-variant: small-caps;\">Exercise 3</div>\n",
    "\n",
    "Visualize the proportionality statement above:\n",
    "\n",
    "1. Capture a trace with an input for each hamming weight.\n",
    "2. Identify an appropriate trace point where the different hamming weights are \"visible\".\n",
    "3. Create a plot \"hw(attempt) vs. trace[point]\". <br>\n",
    "   I.e. put the values hw(attempt) on the x-axis and the value of the corresponding trace at the proper point on the y-axis.\n",
    "\n",
    "How does the plot look like on \"wrong\" positions?\n",
    "\n",
    "</div>"
   ]
  },
  {
   "cell_type": "code",
   "execution_count": null,
   "metadata": {},
   "outputs": [],
   "source": [
    "import numpy as np\n",
    "\n",
    "scope.default_setup()\n",
    "scope.adc.samples = 500\n",
    "\n",
    "def capture(attempt, count=1):\n",
    "    if isinstance(attempt, str):\n",
    "        attempt = attempt.encode('iso-8859-1')\n",
    "    elif isinstance(attempt, int):\n",
    "        attempt = bytes([attempt])\n",
    "    traces = []\n",
    "    for _ in range(count):\n",
    "        scope.arm()\n",
    "        target.simpleserial_write(0x01, attempt + b'\\x00' * (8 - len(attempt)))\n",
    "        result = target.simpleserial_read(0x01, 1)\n",
    "        traces.append(util.capture())\n",
    "    return np.mean(np.array(traces), axis=0), not bool(result[0])\n"
   ]
  }
 ],
 "metadata": {
  "interpreter": {
   "hash": "e6a9ff99e7f48ddc354d1453a75f191a2a3408f9572c79e6e746e872f3f5130d"
  },
  "kernelspec": {
   "display_name": "Python 3.9.5 64-bit ('.env': venv)",
   "name": "python3"
  },
  "language_info": {
   "codemirror_mode": {
    "name": "ipython",
    "version": 3
   },
   "file_extension": ".py",
   "mimetype": "text/x-python",
   "name": "python",
   "nbconvert_exporter": "python",
   "pygments_lexer": "ipython3",
   "version": "3.9.5"
  },
  "toc": {
   "base_numbering": 1,
   "nav_menu": {},
   "number_sections": true,
   "sideBar": true,
   "skip_h1_title": true,
   "title_cell": "Table of Contents",
   "title_sidebar": "Contents",
   "toc_cell": false,
   "toc_position": {
    "height": "calc(100% - 180px)",
    "left": "10px",
    "top": "150px",
    "width": "268.667px"
   },
   "toc_section_display": true,
   "toc_window_display": false
  }
 },
 "nbformat": 4,
 "nbformat_minor": 4
}
