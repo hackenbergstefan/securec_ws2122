{
 "cells": [
  {
   "cell_type": "markdown",
   "metadata": {},
   "source": [
    "# Lecture 3: Password Attack with Difference Analysis - Introduction"
   ]
  },
  {
   "cell_type": "markdown",
   "metadata": {},
   "source": [
    "In this example we want to improve the basic passwordcheck to be resistant against the attack from the last tutorial.\n",
    "\n",
    "## Improving the code\n",
    "\n",
    "Let's first recap the password checking loop from the basic passwordcheck:\n",
    "```c\n",
    "for(uint8_t i = 0; i < sizeof(stored_password); i++)\n",
    "{\n",
    "    if (stored_password[i] != input[i])\n",
    "    {\n",
    "        password_wrong = 1;\n",
    "        break;\n",
    "    }\n",
    "}\n",
    "```\n",
    "\n",
    "The timing attack discussed in the last example worked because the loop's runtime varies with the number of correct characters. Once the first wrong character occurs the loop breaks.\n",
    "This is, what we want to change:\n",
    "\n",
    "```c\n",
    "for(uint8_t i = 0; i < sizeof(stored_password); i++)\n",
    "{\n",
    "    if (stored_password[i] != input[i])\n",
    "    {\n",
    "        password_wrong = 1;\n",
    "    }\n",
    "}\n",
    "```\n",
    "\n",
    "This is an excerpt from `3_password_fixed.c`. It is clear that the loop does not break after the first wrong character and always all characters of the password are checked."
   ]
  },
  {
   "cell_type": "markdown",
   "metadata": {},
   "source": [
    "## Develop a new idea"
   ]
  },
  {
   "cell_type": "code",
   "execution_count": 1,
   "metadata": {
    "execution": {
     "iopub.execute_input": "2021-12-24T09:39:18.350772Z",
     "iopub.status.busy": "2021-12-24T09:39:18.350511Z",
     "iopub.status.idle": "2021-12-24T09:39:20.180815Z",
     "shell.execute_reply": "2021-12-24T09:39:20.179999Z"
    }
   },
   "outputs": [
    {
     "name": "stderr",
     "output_type": "stream",
     "text": [
      "WARNING:ChipWhisperer Other:ChipWhisperer update available! See https://chipwhisperer.readthedocs.io/en/latest/installing.html for updating instructions\n"
     ]
    }
   ],
   "source": [
    "import sys\n",
    "sys.path.insert(0, '..')\n",
    "import securec\n",
    "from securec import util\n",
    "scope, target = util.init()"
   ]
  },
  {
   "cell_type": "code",
   "execution_count": 2,
   "metadata": {
    "execution": {
     "iopub.execute_input": "2021-12-24T09:39:20.187903Z",
     "iopub.status.busy": "2021-12-24T09:39:20.187157Z",
     "iopub.status.idle": "2021-12-24T09:39:20.875001Z",
     "shell.execute_reply": "2021-12-24T09:39:20.874088Z"
    }
   },
   "outputs": [
    {
     "name": "stdout",
     "output_type": "stream",
     "text": [
      "XMEGA Programming flash...\n",
      "XMEGA Reading flash...\n",
      "Verified flash OK, 2045 bytes\n",
      "\u001b[32m✓\u001b[0m\n"
     ]
    }
   ],
   "source": [
    "securec.util.compile_and_flash('./3_password_fixed.c')"
   ]
  },
  {
   "cell_type": "code",
   "execution_count": 3,
   "metadata": {
    "execution": {
     "iopub.execute_input": "2021-12-24T09:39:20.885674Z",
     "iopub.status.busy": "2021-12-24T09:39:20.884838Z",
     "iopub.status.idle": "2021-12-24T09:39:20.974787Z",
     "shell.execute_reply": "2021-12-24T09:39:20.974052Z"
    }
   },
   "outputs": [],
   "source": [
    "scope.default_setup()\n",
    "scope.adc.samples = 500\n",
    "\n",
    "def capture(attempt, count=1):\n",
    "    if isinstance(attempt, str):\n",
    "        attempt = attempt.encode('iso-8859-1')\n",
    "    elif isinstance(attempt, int):\n",
    "        attempt = bytes([attempt])\n",
    "\n",
    "    scope.arm()\n",
    "    target.simpleserial_write(0x01, attempt + b' ' * (8 - len(attempt)))\n",
    "    result = target.simpleserial_read(0x01, 1)\n",
    "    return util.capture(), not bool(result[0])"
   ]
  },
  {
   "cell_type": "code",
   "execution_count": 4,
   "metadata": {
    "execution": {
     "iopub.execute_input": "2021-12-24T09:39:20.981287Z",
     "iopub.status.busy": "2021-12-24T09:39:20.980575Z",
     "iopub.status.idle": "2021-12-24T09:39:21.212039Z",
     "shell.execute_reply": "2021-12-24T09:39:21.211825Z"
    }
   },
   "outputs": [
    {
     "data": {
      "text/html": [
       "\n",
       "    <div class=\"bk-root\">\n",
       "        <a href=\"https://bokeh.org\" target=\"_blank\" class=\"bk-logo bk-logo-small bk-logo-notebook\"></a>\n",
       "        <span id=\"1002\">Loading BokehJS ...</span>\n",
       "    </div>"
      ]
     },
     "metadata": {},
     "output_type": "display_data"
    },
    {
     "data": {
      "application/javascript": [
       "\n",
       "(function(root) {\n",
       "  function now() {\n",
       "    return new Date();\n",
       "  }\n",
       "\n",
       "  const force = true;\n",
       "\n",
       "  if (typeof root._bokeh_onload_callbacks === \"undefined\" || force === true) {\n",
       "    root._bokeh_onload_callbacks = [];\n",
       "    root._bokeh_is_loading = undefined;\n",
       "  }\n",
       "\n",
       "  const JS_MIME_TYPE = 'application/javascript';\n",
       "  const HTML_MIME_TYPE = 'text/html';\n",
       "  const EXEC_MIME_TYPE = 'application/vnd.bokehjs_exec.v0+json';\n",
       "  const CLASS_NAME = 'output_bokeh rendered_html';\n",
       "\n",
       "  /**\n",
       "   * Render data to the DOM node\n",
       "   */\n",
       "  function render(props, node) {\n",
       "    const script = document.createElement(\"script\");\n",
       "    node.appendChild(script);\n",
       "  }\n",
       "\n",
       "  /**\n",
       "   * Handle when an output is cleared or removed\n",
       "   */\n",
       "  function handleClearOutput(event, handle) {\n",
       "    const cell = handle.cell;\n",
       "\n",
       "    const id = cell.output_area._bokeh_element_id;\n",
       "    const server_id = cell.output_area._bokeh_server_id;\n",
       "    // Clean up Bokeh references\n",
       "    if (id != null && id in Bokeh.index) {\n",
       "      Bokeh.index[id].model.document.clear();\n",
       "      delete Bokeh.index[id];\n",
       "    }\n",
       "\n",
       "    if (server_id !== undefined) {\n",
       "      // Clean up Bokeh references\n",
       "      const cmd_clean = \"from bokeh.io.state import curstate; print(curstate().uuid_to_server['\" + server_id + \"'].get_sessions()[0].document.roots[0]._id)\";\n",
       "      cell.notebook.kernel.execute(cmd_clean, {\n",
       "        iopub: {\n",
       "          output: function(msg) {\n",
       "            const id = msg.content.text.trim();\n",
       "            if (id in Bokeh.index) {\n",
       "              Bokeh.index[id].model.document.clear();\n",
       "              delete Bokeh.index[id];\n",
       "            }\n",
       "          }\n",
       "        }\n",
       "      });\n",
       "      // Destroy server and session\n",
       "      const cmd_destroy = \"import bokeh.io.notebook as ion; ion.destroy_server('\" + server_id + \"')\";\n",
       "      cell.notebook.kernel.execute(cmd_destroy);\n",
       "    }\n",
       "  }\n",
       "\n",
       "  /**\n",
       "   * Handle when a new output is added\n",
       "   */\n",
       "  function handleAddOutput(event, handle) {\n",
       "    const output_area = handle.output_area;\n",
       "    const output = handle.output;\n",
       "\n",
       "    // limit handleAddOutput to display_data with EXEC_MIME_TYPE content only\n",
       "    if ((output.output_type != \"display_data\") || (!Object.prototype.hasOwnProperty.call(output.data, EXEC_MIME_TYPE))) {\n",
       "      return\n",
       "    }\n",
       "\n",
       "    const toinsert = output_area.element.find(\".\" + CLASS_NAME.split(' ')[0]);\n",
       "\n",
       "    if (output.metadata[EXEC_MIME_TYPE][\"id\"] !== undefined) {\n",
       "      toinsert[toinsert.length - 1].firstChild.textContent = output.data[JS_MIME_TYPE];\n",
       "      // store reference to embed id on output_area\n",
       "      output_area._bokeh_element_id = output.metadata[EXEC_MIME_TYPE][\"id\"];\n",
       "    }\n",
       "    if (output.metadata[EXEC_MIME_TYPE][\"server_id\"] !== undefined) {\n",
       "      const bk_div = document.createElement(\"div\");\n",
       "      bk_div.innerHTML = output.data[HTML_MIME_TYPE];\n",
       "      const script_attrs = bk_div.children[0].attributes;\n",
       "      for (let i = 0; i < script_attrs.length; i++) {\n",
       "        toinsert[toinsert.length - 1].firstChild.setAttribute(script_attrs[i].name, script_attrs[i].value);\n",
       "        toinsert[toinsert.length - 1].firstChild.textContent = bk_div.children[0].textContent\n",
       "      }\n",
       "      // store reference to server id on output_area\n",
       "      output_area._bokeh_server_id = output.metadata[EXEC_MIME_TYPE][\"server_id\"];\n",
       "    }\n",
       "  }\n",
       "\n",
       "  function register_renderer(events, OutputArea) {\n",
       "\n",
       "    function append_mime(data, metadata, element) {\n",
       "      // create a DOM node to render to\n",
       "      const toinsert = this.create_output_subarea(\n",
       "        metadata,\n",
       "        CLASS_NAME,\n",
       "        EXEC_MIME_TYPE\n",
       "      );\n",
       "      this.keyboard_manager.register_events(toinsert);\n",
       "      // Render to node\n",
       "      const props = {data: data, metadata: metadata[EXEC_MIME_TYPE]};\n",
       "      render(props, toinsert[toinsert.length - 1]);\n",
       "      element.append(toinsert);\n",
       "      return toinsert\n",
       "    }\n",
       "\n",
       "    /* Handle when an output is cleared or removed */\n",
       "    events.on('clear_output.CodeCell', handleClearOutput);\n",
       "    events.on('delete.Cell', handleClearOutput);\n",
       "\n",
       "    /* Handle when a new output is added */\n",
       "    events.on('output_added.OutputArea', handleAddOutput);\n",
       "\n",
       "    /**\n",
       "     * Register the mime type and append_mime function with output_area\n",
       "     */\n",
       "    OutputArea.prototype.register_mime_type(EXEC_MIME_TYPE, append_mime, {\n",
       "      /* Is output safe? */\n",
       "      safe: true,\n",
       "      /* Index of renderer in `output_area.display_order` */\n",
       "      index: 0\n",
       "    });\n",
       "  }\n",
       "\n",
       "  // register the mime type if in Jupyter Notebook environment and previously unregistered\n",
       "  if (root.Jupyter !== undefined) {\n",
       "    const events = require('base/js/events');\n",
       "    const OutputArea = require('notebook/js/outputarea').OutputArea;\n",
       "\n",
       "    if (OutputArea.prototype.mime_types().indexOf(EXEC_MIME_TYPE) == -1) {\n",
       "      register_renderer(events, OutputArea);\n",
       "    }\n",
       "  }\n",
       "\n",
       "  \n",
       "  if (typeof (root._bokeh_timeout) === \"undefined\" || force === true) {\n",
       "    root._bokeh_timeout = Date.now() + 5000;\n",
       "    root._bokeh_failed_load = false;\n",
       "  }\n",
       "\n",
       "  const NB_LOAD_WARNING = {'data': {'text/html':\n",
       "     \"<div style='background-color: #fdd'>\\n\"+\n",
       "     \"<p>\\n\"+\n",
       "     \"BokehJS does not appear to have successfully loaded. If loading BokehJS from CDN, this \\n\"+\n",
       "     \"may be due to a slow or bad network connection. Possible fixes:\\n\"+\n",
       "     \"</p>\\n\"+\n",
       "     \"<ul>\\n\"+\n",
       "     \"<li>re-rerun `output_notebook()` to attempt to load from CDN again, or</li>\\n\"+\n",
       "     \"<li>use INLINE resources instead, as so:</li>\\n\"+\n",
       "     \"</ul>\\n\"+\n",
       "     \"<code>\\n\"+\n",
       "     \"from bokeh.resources import INLINE\\n\"+\n",
       "     \"output_notebook(resources=INLINE)\\n\"+\n",
       "     \"</code>\\n\"+\n",
       "     \"</div>\"}};\n",
       "\n",
       "  function display_loaded() {\n",
       "    const el = document.getElementById(\"1002\");\n",
       "    if (el != null) {\n",
       "      el.textContent = \"BokehJS is loading...\";\n",
       "    }\n",
       "    if (root.Bokeh !== undefined) {\n",
       "      if (el != null) {\n",
       "        el.textContent = \"BokehJS \" + root.Bokeh.version + \" successfully loaded.\";\n",
       "      }\n",
       "    } else if (Date.now() < root._bokeh_timeout) {\n",
       "      setTimeout(display_loaded, 100)\n",
       "    }\n",
       "  }\n",
       "\n",
       "\n",
       "  function run_callbacks() {\n",
       "    try {\n",
       "      root._bokeh_onload_callbacks.forEach(function(callback) {\n",
       "        if (callback != null)\n",
       "          callback();\n",
       "      });\n",
       "    } finally {\n",
       "      delete root._bokeh_onload_callbacks\n",
       "    }\n",
       "    console.debug(\"Bokeh: all callbacks have finished\");\n",
       "  }\n",
       "\n",
       "  function load_libs(css_urls, js_urls, callback) {\n",
       "    if (css_urls == null) css_urls = [];\n",
       "    if (js_urls == null) js_urls = [];\n",
       "\n",
       "    root._bokeh_onload_callbacks.push(callback);\n",
       "    if (root._bokeh_is_loading > 0) {\n",
       "      console.debug(\"Bokeh: BokehJS is being loaded, scheduling callback at\", now());\n",
       "      return null;\n",
       "    }\n",
       "    if (js_urls == null || js_urls.length === 0) {\n",
       "      run_callbacks();\n",
       "      return null;\n",
       "    }\n",
       "    console.debug(\"Bokeh: BokehJS not loaded, scheduling load and callback at\", now());\n",
       "    root._bokeh_is_loading = css_urls.length + js_urls.length;\n",
       "\n",
       "    function on_load() {\n",
       "      root._bokeh_is_loading--;\n",
       "      if (root._bokeh_is_loading === 0) {\n",
       "        console.debug(\"Bokeh: all BokehJS libraries/stylesheets loaded\");\n",
       "        run_callbacks()\n",
       "      }\n",
       "    }\n",
       "\n",
       "    function on_error(url) {\n",
       "      console.error(\"failed to load \" + url);\n",
       "    }\n",
       "\n",
       "    for (let i = 0; i < css_urls.length; i++) {\n",
       "      const url = css_urls[i];\n",
       "      const element = document.createElement(\"link\");\n",
       "      element.onload = on_load;\n",
       "      element.onerror = on_error.bind(null, url);\n",
       "      element.rel = \"stylesheet\";\n",
       "      element.type = \"text/css\";\n",
       "      element.href = url;\n",
       "      console.debug(\"Bokeh: injecting link tag for BokehJS stylesheet: \", url);\n",
       "      document.body.appendChild(element);\n",
       "    }\n",
       "\n",
       "    for (let i = 0; i < js_urls.length; i++) {\n",
       "      const url = js_urls[i];\n",
       "      const element = document.createElement('script');\n",
       "      element.onload = on_load;\n",
       "      element.onerror = on_error.bind(null, url);\n",
       "      element.async = false;\n",
       "      element.src = url;\n",
       "      console.debug(\"Bokeh: injecting script tag for BokehJS library: \", url);\n",
       "      document.head.appendChild(element);\n",
       "    }\n",
       "  };\n",
       "\n",
       "  function inject_raw_css(css) {\n",
       "    const element = document.createElement(\"style\");\n",
       "    element.appendChild(document.createTextNode(css));\n",
       "    document.body.appendChild(element);\n",
       "  }\n",
       "\n",
       "  \n",
       "  const js_urls = [\"https://cdn.bokeh.org/bokeh/release/bokeh-2.4.1.min.js\", \"https://cdn.bokeh.org/bokeh/release/bokeh-gl-2.4.1.min.js\", \"https://cdn.bokeh.org/bokeh/release/bokeh-widgets-2.4.1.min.js\", \"https://cdn.bokeh.org/bokeh/release/bokeh-tables-2.4.1.min.js\", \"https://cdn.bokeh.org/bokeh/release/bokeh-mathjax-2.4.1.min.js\"];\n",
       "  const css_urls = [];\n",
       "  \n",
       "\n",
       "  const inline_js = [\n",
       "    function(Bokeh) {\n",
       "      Bokeh.set_log_level(\"info\");\n",
       "    },\n",
       "    function(Bokeh) {\n",
       "    \n",
       "    \n",
       "    }\n",
       "  ];\n",
       "\n",
       "  function run_inline_js() {\n",
       "    \n",
       "    if (root.Bokeh !== undefined || force === true) {\n",
       "      \n",
       "    for (let i = 0; i < inline_js.length; i++) {\n",
       "      inline_js[i].call(root, root.Bokeh);\n",
       "    }\n",
       "    if (force === true) {\n",
       "        display_loaded();\n",
       "      }} else if (Date.now() < root._bokeh_timeout) {\n",
       "      setTimeout(run_inline_js, 100);\n",
       "    } else if (!root._bokeh_failed_load) {\n",
       "      console.log(\"Bokeh: BokehJS failed to load within specified timeout.\");\n",
       "      root._bokeh_failed_load = true;\n",
       "    } else if (force !== true) {\n",
       "      const cell = $(document.getElementById(\"1002\")).parents('.cell').data().cell;\n",
       "      cell.output_area.append_execute_result(NB_LOAD_WARNING)\n",
       "    }\n",
       "\n",
       "  }\n",
       "\n",
       "  if (root._bokeh_is_loading === 0) {\n",
       "    console.debug(\"Bokeh: BokehJS loaded, going straight to plotting\");\n",
       "    run_inline_js();\n",
       "  } else {\n",
       "    load_libs(css_urls, js_urls, function() {\n",
       "      console.debug(\"Bokeh: BokehJS plotting callback run at\", now());\n",
       "      run_inline_js();\n",
       "    });\n",
       "  }\n",
       "}(window));"
      ],
      "application/vnd.bokehjs_load.v0+json": "\n(function(root) {\n  function now() {\n    return new Date();\n  }\n\n  const force = true;\n\n  if (typeof root._bokeh_onload_callbacks === \"undefined\" || force === true) {\n    root._bokeh_onload_callbacks = [];\n    root._bokeh_is_loading = undefined;\n  }\n\n  \n\n  \n  if (typeof (root._bokeh_timeout) === \"undefined\" || force === true) {\n    root._bokeh_timeout = Date.now() + 5000;\n    root._bokeh_failed_load = false;\n  }\n\n  const NB_LOAD_WARNING = {'data': {'text/html':\n     \"<div style='background-color: #fdd'>\\n\"+\n     \"<p>\\n\"+\n     \"BokehJS does not appear to have successfully loaded. If loading BokehJS from CDN, this \\n\"+\n     \"may be due to a slow or bad network connection. Possible fixes:\\n\"+\n     \"</p>\\n\"+\n     \"<ul>\\n\"+\n     \"<li>re-rerun `output_notebook()` to attempt to load from CDN again, or</li>\\n\"+\n     \"<li>use INLINE resources instead, as so:</li>\\n\"+\n     \"</ul>\\n\"+\n     \"<code>\\n\"+\n     \"from bokeh.resources import INLINE\\n\"+\n     \"output_notebook(resources=INLINE)\\n\"+\n     \"</code>\\n\"+\n     \"</div>\"}};\n\n  function display_loaded() {\n    const el = document.getElementById(\"1002\");\n    if (el != null) {\n      el.textContent = \"BokehJS is loading...\";\n    }\n    if (root.Bokeh !== undefined) {\n      if (el != null) {\n        el.textContent = \"BokehJS \" + root.Bokeh.version + \" successfully loaded.\";\n      }\n    } else if (Date.now() < root._bokeh_timeout) {\n      setTimeout(display_loaded, 100)\n    }\n  }\n\n\n  function run_callbacks() {\n    try {\n      root._bokeh_onload_callbacks.forEach(function(callback) {\n        if (callback != null)\n          callback();\n      });\n    } finally {\n      delete root._bokeh_onload_callbacks\n    }\n    console.debug(\"Bokeh: all callbacks have finished\");\n  }\n\n  function load_libs(css_urls, js_urls, callback) {\n    if (css_urls == null) css_urls = [];\n    if (js_urls == null) js_urls = [];\n\n    root._bokeh_onload_callbacks.push(callback);\n    if (root._bokeh_is_loading > 0) {\n      console.debug(\"Bokeh: BokehJS is being loaded, scheduling callback at\", now());\n      return null;\n    }\n    if (js_urls == null || js_urls.length === 0) {\n      run_callbacks();\n      return null;\n    }\n    console.debug(\"Bokeh: BokehJS not loaded, scheduling load and callback at\", now());\n    root._bokeh_is_loading = css_urls.length + js_urls.length;\n\n    function on_load() {\n      root._bokeh_is_loading--;\n      if (root._bokeh_is_loading === 0) {\n        console.debug(\"Bokeh: all BokehJS libraries/stylesheets loaded\");\n        run_callbacks()\n      }\n    }\n\n    function on_error(url) {\n      console.error(\"failed to load \" + url);\n    }\n\n    for (let i = 0; i < css_urls.length; i++) {\n      const url = css_urls[i];\n      const element = document.createElement(\"link\");\n      element.onload = on_load;\n      element.onerror = on_error.bind(null, url);\n      element.rel = \"stylesheet\";\n      element.type = \"text/css\";\n      element.href = url;\n      console.debug(\"Bokeh: injecting link tag for BokehJS stylesheet: \", url);\n      document.body.appendChild(element);\n    }\n\n    for (let i = 0; i < js_urls.length; i++) {\n      const url = js_urls[i];\n      const element = document.createElement('script');\n      element.onload = on_load;\n      element.onerror = on_error.bind(null, url);\n      element.async = false;\n      element.src = url;\n      console.debug(\"Bokeh: injecting script tag for BokehJS library: \", url);\n      document.head.appendChild(element);\n    }\n  };\n\n  function inject_raw_css(css) {\n    const element = document.createElement(\"style\");\n    element.appendChild(document.createTextNode(css));\n    document.body.appendChild(element);\n  }\n\n  \n  const js_urls = [\"https://cdn.bokeh.org/bokeh/release/bokeh-2.4.1.min.js\", \"https://cdn.bokeh.org/bokeh/release/bokeh-gl-2.4.1.min.js\", \"https://cdn.bokeh.org/bokeh/release/bokeh-widgets-2.4.1.min.js\", \"https://cdn.bokeh.org/bokeh/release/bokeh-tables-2.4.1.min.js\", \"https://cdn.bokeh.org/bokeh/release/bokeh-mathjax-2.4.1.min.js\"];\n  const css_urls = [];\n  \n\n  const inline_js = [\n    function(Bokeh) {\n      Bokeh.set_log_level(\"info\");\n    },\n    function(Bokeh) {\n    \n    \n    }\n  ];\n\n  function run_inline_js() {\n    \n    if (root.Bokeh !== undefined || force === true) {\n      \n    for (let i = 0; i < inline_js.length; i++) {\n      inline_js[i].call(root, root.Bokeh);\n    }\n    if (force === true) {\n        display_loaded();\n      }} else if (Date.now() < root._bokeh_timeout) {\n      setTimeout(run_inline_js, 100);\n    } else if (!root._bokeh_failed_load) {\n      console.log(\"Bokeh: BokehJS failed to load within specified timeout.\");\n      root._bokeh_failed_load = true;\n    } else if (force !== true) {\n      const cell = $(document.getElementById(\"1002\")).parents('.cell').data().cell;\n      cell.output_area.append_execute_result(NB_LOAD_WARNING)\n    }\n\n  }\n\n  if (root._bokeh_is_loading === 0) {\n    console.debug(\"Bokeh: BokehJS loaded, going straight to plotting\");\n    run_inline_js();\n  } else {\n    load_libs(css_urls, js_urls, function() {\n      console.debug(\"Bokeh: BokehJS plotting callback run at\", now());\n      run_inline_js();\n    });\n  }\n}(window));"
     },
     "metadata": {},
     "output_type": "display_data"
    }
   ],
   "source": [
    "from bokeh.plotting import figure, show \n",
    "from bokeh.io import output_notebook\n",
    "from bokeh.models import CrosshairTool\n",
    "from bokeh.palettes import Category10_10, Category20_20\n",
    "\n",
    "output_notebook()"
   ]
  },
  {
   "cell_type": "code",
   "execution_count": 5,
   "metadata": {
    "execution": {
     "iopub.execute_input": "2021-12-24T09:39:21.214982Z",
     "iopub.status.busy": "2021-12-24T09:39:21.214731Z",
     "iopub.status.idle": "2021-12-24T09:39:21.452728Z",
     "shell.execute_reply": "2021-12-24T09:39:21.452115Z"
    }
   },
   "outputs": [
    {
     "name": "stderr",
     "output_type": "stream",
     "text": [
      "WARNING:ChipWhisperer Target:Unexpected start to command 5\n",
      "WARNING:ChipWhisperer Target:Invalid CRC. Expected 171 got 1\n",
      "WARNING:ChipWhisperer Target:Did not receive end of frame, got 179\n",
      "WARNING:ChipWhisperer Target:Unexpected frame byte in CWbytearray(b'00 03 65')\n",
      "ERROR:ChipWhisperer Target:Device did not ack\n"
     ]
    }
   ],
   "source": [
    "traces = [(attempt, capture(attempt)[0]) for attempt in (' ', 'a', 'i')]"
   ]
  },
  {
   "cell_type": "code",
   "execution_count": 6,
   "metadata": {
    "execution": {
     "iopub.execute_input": "2021-12-24T09:39:21.466733Z",
     "iopub.status.busy": "2021-12-24T09:39:21.466375Z",
     "iopub.status.idle": "2021-12-24T09:39:21.481184Z",
     "shell.execute_reply": "2021-12-24T09:39:21.481370Z"
    }
   },
   "outputs": [
    {
     "data": {
      "text/html": [
       "\n",
       "\n",
       "\n",
       "\n",
       "\n",
       "\n",
       "  <div class=\"bk-root\" id=\"c8bbfb67-ac92-4932-952d-58be8f0b65e7\" data-root-id=\"1003\"></div>\n"
      ]
     },
     "metadata": {},
     "output_type": "display_data"
    },
    {
     "data": {
      "application/javascript": [
       "(function(root) {\n",
       "  function embed_document(root) {\n",
       "    \n",
       "  const docs_json = {\"1e2b0285-630a-47c7-b20a-a21d0c3300a9\":{\"defs\":[],\"roots\":{\"references\":[{\"attributes\":{\"below\":[{\"id\":\"1012\"}],\"center\":[{\"id\":\"1015\"},{\"id\":\"1019\"}],\"height\":200,\"left\":[{\"id\":\"1016\"}],\"renderers\":[{\"id\":\"1040\"},{\"id\":\"1046\"}],\"title\":{\"id\":\"1048\"},\"toolbar\":{\"id\":\"1027\"},\"width\":900,\"x_range\":{\"id\":\"1004\"},\"x_scale\":{\"id\":\"1008\"},\"y_range\":{\"id\":\"1006\"},\"y_scale\":{\"id\":\"1010\"}},\"id\":\"1003\",\"subtype\":\"Figure\",\"type\":\"Plot\"},{\"attributes\":{},\"id\":\"1054\",\"type\":\"BasicTickFormatter\"},{\"attributes\":{},\"id\":\"1013\",\"type\":\"BasicTicker\"},{\"attributes\":{},\"id\":\"1004\",\"type\":\"DataRange1d\"},{\"attributes\":{},\"id\":\"1006\",\"type\":\"DataRange1d\"},{\"attributes\":{},\"id\":\"1055\",\"type\":\"AllLabels\"},{\"attributes\":{\"coordinates\":null,\"group\":null},\"id\":\"1048\",\"type\":\"Title\"},{\"attributes\":{},\"id\":\"1034\",\"type\":\"CrosshairTool\"},{\"attributes\":{},\"id\":\"1025\",\"type\":\"HelpTool\"},{\"attributes\":{\"coordinates\":null,\"formatter\":{\"id\":\"1051\"},\"group\":null,\"major_label_policy\":{\"id\":\"1052\"},\"ticker\":{\"id\":\"1017\"}},\"id\":\"1016\",\"type\":\"LinearAxis\"},{\"attributes\":{\"line_alpha\":0.1,\"line_color\":\"#1f77b4\",\"x\":{\"field\":\"x\"},\"y\":{\"field\":\"y\"}},\"id\":\"1038\",\"type\":\"Line\"},{\"attributes\":{\"coordinates\":null,\"data_source\":{\"id\":\"1042\"},\"glyph\":{\"id\":\"1043\"},\"group\":null,\"hover_glyph\":null,\"muted_glyph\":{\"id\":\"1045\"},\"nonselection_glyph\":{\"id\":\"1044\"},\"view\":{\"id\":\"1047\"}},\"id\":\"1046\",\"type\":\"GlyphRenderer\"},{\"attributes\":{},\"id\":\"1010\",\"type\":\"LinearScale\"},{\"attributes\":{\"line_color\":\"#ff7f0e\",\"x\":{\"field\":\"x\"},\"y\":{\"field\":\"y\"}},\"id\":\"1043\",\"type\":\"Line\"},{\"attributes\":{\"source\":{\"id\":\"1042\"}},\"id\":\"1047\",\"type\":\"CDSView\"},{\"attributes\":{},\"id\":\"1056\",\"type\":\"UnionRenderers\"},{\"attributes\":{\"axis\":{\"id\":\"1012\"},\"coordinates\":null,\"group\":null,\"ticker\":null},\"id\":\"1015\",\"type\":\"Grid\"},{\"attributes\":{},\"id\":\"1057\",\"type\":\"Selection\"},{\"attributes\":{\"line_alpha\":0.1,\"line_color\":\"#ff7f0e\",\"x\":{\"field\":\"x\"},\"y\":{\"field\":\"y\"}},\"id\":\"1044\",\"type\":\"Line\"},{\"attributes\":{\"line_color\":\"#1f77b4\",\"x\":{\"field\":\"x\"},\"y\":{\"field\":\"y\"}},\"id\":\"1037\",\"type\":\"Line\"},{\"attributes\":{\"line_alpha\":0.2,\"line_color\":\"#1f77b4\",\"x\":{\"field\":\"x\"},\"y\":{\"field\":\"y\"}},\"id\":\"1039\",\"type\":\"Line\"},{\"attributes\":{\"line_alpha\":0.2,\"line_color\":\"#ff7f0e\",\"x\":{\"field\":\"x\"},\"y\":{\"field\":\"y\"}},\"id\":\"1045\",\"type\":\"Line\"},{\"attributes\":{\"tools\":[{\"id\":\"1020\"},{\"id\":\"1021\"},{\"id\":\"1022\"},{\"id\":\"1023\"},{\"id\":\"1024\"},{\"id\":\"1025\"},{\"id\":\"1034\"}]},\"id\":\"1027\",\"type\":\"Toolbar\"},{\"attributes\":{\"data\":{\"x\":[0,1,2,3,4,5,6,7,8,9,10,11,12,13,14,15,16,17,18,19,20,21,22,23,24,25,26,27,28,29,30,31,32,33,34,35,36,37,38,39,40,41,42,43,44,45,46,47,48,49,50,51,52,53,54,55,56,57,58,59,60,61,62,63,64,65,66,67,68,69,70,71,72,73,74,75,76,77,78,79,80,81,82,83,84,85,86,87,88,89,90,91,92,93,94,95,96,97,98,99,100,101,102,103,104,105,106,107,108,109,110,111,112,113,114,115,116,117,118,119,120,121,122,123,124,125,126,127,128,129,130,131,132,133,134,135,136,137,138,139,140,141,142,143,144,145,146,147,148,149,150,151,152,153,154,155,156,157,158,159,160,161,162,163,164,165,166,167,168,169,170,171,172,173,174,175,176,177,178,179,180,181,182,183,184,185,186,187,188,189,190,191,192,193,194,195,196,197,198,199,200,201,202,203,204,205,206,207,208,209,210,211,212,213,214,215,216,217,218,219,220,221,222,223,224,225,226,227,228,229,230,231,232,233,234,235,236,237,238,239,240,241,242,243,244,245,246,247,248,249,250,251,252,253,254,255,256,257,258,259,260,261,262,263,264,265,266,267,268,269,270,271,272,273,274,275,276,277,278,279,280,281,282,283,284,285,286,287,288,289,290,291,292,293,294,295,296,297,298,299,300,301,302,303,304,305,306,307,308,309,310,311,312,313,314,315,316,317,318,319,320,321,322,323,324,325,326,327,328,329,330,331,332,333,334,335,336,337,338,339,340,341,342,343,344,345,346,347,348,349,350,351,352,353,354,355,356,357,358,359,360,361,362,363,364,365,366,367,368,369,370,371,372,373,374,375,376,377,378,379,380,381,382,383,384,385,386,387,388,389,390,391,392,393,394,395,396,397,398,399,400,401,402,403,404,405,406,407,408,409,410,411,412,413,414,415,416,417,418,419,420,421,422,423,424,425,426,427,428,429,430,431,432,433,434,435,436,437,438,439,440,441,442,443,444,445,446,447,448,449,450,451,452,453,454,455,456,457,458,459,460,461,462,463,464,465,466,467,468,469,470,471,472,473,474,475,476,477,478,479,480,481,482,483,484,485,486,487,488,489,490,491,492,493,494,495,496,497,498,499],\"y\":{\"__ndarray__\":\"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\",\"dtype\":\"float64\",\"order\":\"little\",\"shape\":[500]}},\"selected\":{\"id\":\"1057\"},\"selection_policy\":{\"id\":\"1056\"}},\"id\":\"1036\",\"type\":\"ColumnDataSource\"},{\"attributes\":{},\"id\":\"1058\",\"type\":\"UnionRenderers\"},{\"attributes\":{\"data\":{\"x\":[0,1,2,3,4,5,6,7,8,9,10,11,12,13,14,15,16,17,18,19,20,21,22,23,24,25,26,27,28,29,30,31,32,33,34,35,36,37,38,39,40,41,42,43,44,45,46,47,48,49,50,51,52,53,54,55,56,57,58,59,60,61,62,63,64,65,66,67,68,69,70,71,72,73,74,75,76,77,78,79,80,81,82,83,84,85,86,87,88,89,90,91,92,93,94,95,96,97,98,99,100,101,102,103,104,105,106,107,108,109,110,111,112,113,114,115,116,117,118,119,120,121,122,123,124,125,126,127,128,129,130,131,132,133,134,135,136,137,138,139,140,141,142,143,144,145,146,147,148,149,150,151,152,153,154,155,156,157,158,159,160,161,162,163,164,165,166,167,168,169,170,171,172,173,174,175,176,177,178,179,180,181,182,183,184,185,186,187,188,189,190,191,192,193,194,195,196,197,198,199,200,201,202,203,204,205,206,207,208,209,210,211,212,213,214,215,216,217,218,219,220,221,222,223,224,225,226,227,228,229,230,231,232,233,234,235,236,237,238,239,240,241,242,243,244,245,246,247,248,249,250,251,252,253,254,255,256,257,258,259,260,261,262,263,264,265,266,267,268,269,270,271,272,273,274,275,276,277,278,279,280,281,282,283,284,285,286,287,288,289,290,291,292,293,294,295,296,297,298,299,300,301,302,303,304,305,306,307,308,309,310,311,312,313,314,315,316,317,318,319,320,321,322,323,324,325,326,327,328,329,330,331,332,333,334,335,336,337,338,339,340,341,342,343,344,345,346,347,348,349,350,351,352,353,354,355,356,357,358,359,360,361,362,363,364,365,366,367,368,369,370,371,372,373,374,375,376,377,378,379,380,381,382,383,384,385,386,387,388,389,390,391,392,393,394,395,396,397,398,399,400,401,402,403,404,405,406,407,408,409,410,411,412,413,414,415,416,417,418,419,420,421,422,423,424,425,426,427,428,429,430,431,432,433,434,435,436,437,438,439,440,441,442,443,444,445,446,447,448,449,450,451,452,453,454,455,456,457,458,459,460,461,462,463,464,465,466,467,468,469,470,471,472,473,474,475,476,477,478,479,480,481,482,483,484,485,486,487,488,489,490,491,492,493,494,495,496,497,498,499],\"y\":{\"__ndarray__\":\"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\",\"dtype\":\"float64\",\"order\":\"little\",\"shape\":[500]}},\"selected\":{\"id\":\"1059\"},\"selection_policy\":{\"id\":\"1058\"}},\"id\":\"1042\",\"type\":\"ColumnDataSource\"},{\"attributes\":{\"coordinates\":null,\"data_source\":{\"id\":\"1036\"},\"glyph\":{\"id\":\"1037\"},\"group\":null,\"hover_glyph\":null,\"muted_glyph\":{\"id\":\"1039\"},\"nonselection_glyph\":{\"id\":\"1038\"},\"view\":{\"id\":\"1041\"}},\"id\":\"1040\",\"type\":\"GlyphRenderer\"},{\"attributes\":{},\"id\":\"1059\",\"type\":\"Selection\"},{\"attributes\":{\"source\":{\"id\":\"1036\"}},\"id\":\"1041\",\"type\":\"CDSView\"},{\"attributes\":{},\"id\":\"1024\",\"type\":\"ResetTool\"},{\"attributes\":{},\"id\":\"1023\",\"type\":\"SaveTool\"},{\"attributes\":{\"overlay\":{\"id\":\"1026\"}},\"id\":\"1022\",\"type\":\"BoxZoomTool\"},{\"attributes\":{},\"id\":\"1051\",\"type\":\"BasicTickFormatter\"},{\"attributes\":{},\"id\":\"1020\",\"type\":\"PanTool\"},{\"attributes\":{\"bottom_units\":\"screen\",\"coordinates\":null,\"fill_alpha\":0.5,\"fill_color\":\"lightgrey\",\"group\":null,\"left_units\":\"screen\",\"level\":\"overlay\",\"line_alpha\":1.0,\"line_color\":\"black\",\"line_dash\":[4,4],\"line_width\":2,\"right_units\":\"screen\",\"syncable\":false,\"top_units\":\"screen\"},\"id\":\"1026\",\"type\":\"BoxAnnotation\"},{\"attributes\":{},\"id\":\"1021\",\"type\":\"WheelZoomTool\"},{\"attributes\":{\"coordinates\":null,\"formatter\":{\"id\":\"1054\"},\"group\":null,\"major_label_policy\":{\"id\":\"1055\"},\"ticker\":{\"id\":\"1013\"}},\"id\":\"1012\",\"type\":\"LinearAxis\"},{\"attributes\":{},\"id\":\"1008\",\"type\":\"LinearScale\"},{\"attributes\":{},\"id\":\"1017\",\"type\":\"BasicTicker\"},{\"attributes\":{},\"id\":\"1052\",\"type\":\"AllLabels\"},{\"attributes\":{\"axis\":{\"id\":\"1016\"},\"coordinates\":null,\"dimension\":1,\"group\":null,\"ticker\":null},\"id\":\"1019\",\"type\":\"Grid\"}],\"root_ids\":[\"1003\"]},\"title\":\"Bokeh Application\",\"version\":\"2.4.1\"}};\n",
       "  const render_items = [{\"docid\":\"1e2b0285-630a-47c7-b20a-a21d0c3300a9\",\"root_ids\":[\"1003\"],\"roots\":{\"1003\":\"c8bbfb67-ac92-4932-952d-58be8f0b65e7\"}}];\n",
       "  root.Bokeh.embed.embed_items_notebook(docs_json, render_items);\n",
       "\n",
       "  }\n",
       "  if (root.Bokeh !== undefined) {\n",
       "    embed_document(root);\n",
       "  } else {\n",
       "    let attempts = 0;\n",
       "    const timer = setInterval(function(root) {\n",
       "      if (root.Bokeh !== undefined) {\n",
       "        clearInterval(timer);\n",
       "        embed_document(root);\n",
       "      } else {\n",
       "        attempts++;\n",
       "        if (attempts > 100) {\n",
       "          clearInterval(timer);\n",
       "          console.log(\"Bokeh: ERROR: Unable to run BokehJS code because BokehJS library is missing\");\n",
       "        }\n",
       "      }\n",
       "    }, 10, root)\n",
       "  }\n",
       "})(window);"
      ],
      "application/vnd.bokehjs_exec.v0+json": ""
     },
     "metadata": {
      "application/vnd.bokehjs_exec.v0+json": {
       "id": "1003"
      }
     },
     "output_type": "display_data"
    }
   ],
   "source": [
    "p = figure(width=900, height=200)\n",
    "p.add_tools(CrosshairTool())\n",
    "for idx, ((attempt1, trace1), (attempt2, trace2)) in enumerate([\n",
    "    (traces[0], traces[1]),\n",
    "    (traces[0], traces[2]),\n",
    "]):\n",
    "    p.line(\n",
    "        range(len(trace1)), \n",
    "        abs(trace1 - trace2), \n",
    "        line_color=Category10_10[idx],\n",
    "    )\n",
    "show(p)"
   ]
  },
  {
   "cell_type": "markdown",
   "metadata": {},
   "source": [
    "## MAD password attack\n",
    "\n",
    "Given two traces $t_1, t_2$ their MAD value is defined as:\n",
    "$$\\text{MAD}(t_1, t_2) := \\text{max}\\big( \\big| t_1[i] - t_2[i] \\big| \\big),$$\n",
    "where $t[i]$ is the value of trace $t$ at point $i$."
   ]
  },
  {
   "cell_type": "code",
   "execution_count": 7,
   "metadata": {
    "execution": {
     "iopub.execute_input": "2021-12-24T09:39:21.483610Z",
     "iopub.status.busy": "2021-12-24T09:39:21.483341Z",
     "iopub.status.idle": "2021-12-24T09:39:21.484405Z",
     "shell.execute_reply": "2021-12-24T09:39:21.484573Z"
    }
   },
   "outputs": [],
   "source": [
    "def mad(trace1, trace2):\n",
    "    return max(abs(trace1 - trace2))"
   ]
  },
  {
   "cell_type": "code",
   "execution_count": 8,
   "metadata": {
    "execution": {
     "iopub.execute_input": "2021-12-24T09:39:21.487831Z",
     "iopub.status.busy": "2021-12-24T09:39:21.487519Z",
     "iopub.status.idle": "2021-12-24T09:39:21.488496Z",
     "shell.execute_reply": "2021-12-24T09:39:21.488668Z"
    }
   },
   "outputs": [],
   "source": [
    "def attack_password_mad(\n",
    "    charlist='abcdefghijklmnopqrstuvwxyz',\n",
    "    basechar='-',\n",
    "):\n",
    "    result = False\n",
    "    password = ''\n",
    "\n",
    "    while not result and len(password) < 8:\n",
    "        basetrace, _ = capture(password + basechar)\n",
    "        traces = [capture(password + c) for c in charlist]\n",
    "        result = any((result for _, result in traces))\n",
    "        mads = [mad(trace, basetrace) for trace, _ in traces]\n",
    "        c = max(charlist, key=lambda c: mads[charlist.index(c)])\n",
    "        password += c\n",
    "        print(f'success: \"{c}\" => password = {password}')\n",
    "    return password, result"
   ]
  },
  {
   "cell_type": "code",
   "execution_count": 9,
   "metadata": {
    "execution": {
     "iopub.execute_input": "2021-12-24T09:39:21.490812Z",
     "iopub.status.busy": "2021-12-24T09:39:21.489966Z",
     "iopub.status.idle": "2021-12-24T09:39:22.712508Z",
     "shell.execute_reply": "2021-12-24T09:39:22.712697Z"
    }
   },
   "outputs": [
    {
     "name": "stdout",
     "output_type": "stream",
     "text": [
      "success: \"i\" => password = i\n",
      "success: \"n\" => password = in\n",
      "success: \"f\" => password = inf\n",
      "success: \"i\" => password = infi\n",
      "success: \"n\" => password = infin\n",
      "success: \"e\" => password = infine\n",
      "success: \"o\" => password = infineo\n",
      "success: \"n\" => password = infineon\n"
     ]
    },
    {
     "data": {
      "text/plain": [
       "('infineon', True)"
      ]
     },
     "execution_count": 9,
     "metadata": {},
     "output_type": "execute_result"
    }
   ],
   "source": [
    "attack_password_mad()"
   ]
  },
  {
   "cell_type": "code",
   "execution_count": 10,
   "metadata": {
    "execution": {
     "iopub.execute_input": "2021-12-24T09:39:22.714605Z",
     "iopub.status.busy": "2021-12-24T09:39:22.714337Z",
     "iopub.status.idle": "2021-12-24T09:39:22.715946Z",
     "shell.execute_reply": "2021-12-24T09:39:22.716138Z"
    }
   },
   "outputs": [],
   "source": [
    "util.exit()"
   ]
  }
 ],
 "metadata": {
  "interpreter": {
   "hash": "e6a9ff99e7f48ddc354d1453a75f191a2a3408f9572c79e6e746e872f3f5130d"
  },
  "kernelspec": {
   "display_name": "Python 3.9.5 64-bit ('.env': venv)",
   "name": "python3"
  },
  "language_info": {
   "codemirror_mode": {
    "name": "ipython",
    "version": 3
   },
   "file_extension": ".py",
   "mimetype": "text/x-python",
   "name": "python",
   "nbconvert_exporter": "python",
   "pygments_lexer": "ipython3",
   "version": "3.9.5"
  },
  "toc": {
   "base_numbering": 1,
   "nav_menu": {},
   "number_sections": true,
   "sideBar": true,
   "skip_h1_title": true,
   "title_cell": "Table of Contents",
   "title_sidebar": "Contents",
   "toc_cell": false,
   "toc_position": {},
   "toc_section_display": true,
   "toc_window_display": true
  }
 },
 "nbformat": 4,
 "nbformat_minor": 4
}
