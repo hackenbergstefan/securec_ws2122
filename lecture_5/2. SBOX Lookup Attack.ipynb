{
 "cells": [
  {
   "cell_type": "markdown",
   "metadata": {},
   "source": [
    "# Lecture 5: SBOX CPA Attack"
   ]
  },
  {
   "cell_type": "code",
   "execution_count": null,
   "metadata": {},
   "outputs": [],
   "source": [
    "import pandas as pd\n",
    "import bokeh\n",
    "from bokeh.plotting import figure, show \n",
    "from bokeh.io import output_notebook\n",
    "\n",
    "output_notebook()"
   ]
  },
  {
   "cell_type": "code",
   "execution_count": null,
   "metadata": {},
   "outputs": [],
   "source": [
    "import numpy as np\n",
    "\n",
    "SBOX = [\n",
    "    # 0    1    2    3    4    5    6    7    8    9    a    b    c    d    e    f\n",
    "    0x63,0x7c,0x77,0x7b,0xf2,0x6b,0x6f,0xc5,0x30,0x01,0x67,0x2b,0xfe,0xd7,0xab,0x76, # 0\n",
    "    0xca,0x82,0xc9,0x7d,0xfa,0x59,0x47,0xf0,0xad,0xd4,0xa2,0xaf,0x9c,0xa4,0x72,0xc0, # 1\n",
    "    0xb7,0xfd,0x93,0x26,0x36,0x3f,0xf7,0xcc,0x34,0xa5,0xe5,0xf1,0x71,0xd8,0x31,0x15, # 2\n",
    "    0x04,0xc7,0x23,0xc3,0x18,0x96,0x05,0x9a,0x07,0x12,0x80,0xe2,0xeb,0x27,0xb2,0x75, # 3\n",
    "    0x09,0x83,0x2c,0x1a,0x1b,0x6e,0x5a,0xa0,0x52,0x3b,0xd6,0xb3,0x29,0xe3,0x2f,0x84, # 4\n",
    "    0x53,0xd1,0x00,0xed,0x20,0xfc,0xb1,0x5b,0x6a,0xcb,0xbe,0x39,0x4a,0x4c,0x58,0xcf, # 5\n",
    "    0xd0,0xef,0xaa,0xfb,0x43,0x4d,0x33,0x85,0x45,0xf9,0x02,0x7f,0x50,0x3c,0x9f,0xa8, # 6\n",
    "    0x51,0xa3,0x40,0x8f,0x92,0x9d,0x38,0xf5,0xbc,0xb6,0xda,0x21,0x10,0xff,0xf3,0xd2, # 7\n",
    "    0xcd,0x0c,0x13,0xec,0x5f,0x97,0x44,0x17,0xc4,0xa7,0x7e,0x3d,0x64,0x5d,0x19,0x73, # 8\n",
    "    0x60,0x81,0x4f,0xdc,0x22,0x2a,0x90,0x88,0x46,0xee,0xb8,0x14,0xde,0x5e,0x0b,0xdb, # 9\n",
    "    0xe0,0x32,0x3a,0x0a,0x49,0x06,0x24,0x5c,0xc2,0xd3,0xac,0x62,0x91,0x95,0xe4,0x79, # a\n",
    "    0xe7,0xc8,0x37,0x6d,0x8d,0xd5,0x4e,0xa9,0x6c,0x56,0xf4,0xea,0x65,0x7a,0xae,0x08, # b\n",
    "    0xba,0x78,0x25,0x2e,0x1c,0xa6,0xb4,0xc6,0xe8,0xdd,0x74,0x1f,0x4b,0xbd,0x8b,0x8a, # c\n",
    "    0x70,0x3e,0xb5,0x66,0x48,0x03,0xf6,0x0e,0x61,0x35,0x57,0xb9,0x86,0xc1,0x1d,0x9e, # d\n",
    "    0xe1,0xf8,0x98,0x11,0x69,0xd9,0x8e,0x94,0x9b,0x1e,0x87,0xe9,0xce,0x55,0x28,0xdf, # e\n",
    "    0x8c,0xa1,0x89,0x0d,0xbf,0xe6,0x42,0x68,0x41,0x99,0x2d,0x0f,0xb0,0x54,0xbb,0x16  # f\n",
    "]\n",
    "\n",
    "def sbox(data):\n",
    "    return SBOX[data]\n",
    "\n",
    "sbox_vec = np.vectorize(sbox)"
   ]
  },
  {
   "cell_type": "code",
   "execution_count": null,
   "metadata": {},
   "outputs": [],
   "source": [
    "import numpy as np\n",
    "\n",
    "HW = [bin(n).count(\"1\") for n in range(0, 256)]\n",
    "\n",
    "def hw(n):\n",
    "    if isinstance(n, str):\n",
    "        return HW[ord(n)]\n",
    "    return HW[n]\n",
    "\n",
    "hw_vec = np.vectorize(hw)\n",
    "\n",
    "def pearson(x, y):\n",
    "    x_mean = np.mean(x)\n",
    "    y_mean = np.mean(y)\n",
    "    return sum((x - x_mean) * (y - y_mean)) / np.sqrt(sum((x - x_mean) ** 2) * sum((y - y_mean) ** 2))"
   ]
  },
  {
   "cell_type": "code",
   "execution_count": null,
   "metadata": {},
   "outputs": [],
   "source": [
    "def pearson_pointwise(traces, intermediates):\n",
    "    intermediates_diff = intermediates - np.mean(intermediates)\n",
    "    intermediates_sqrt = np.sqrt(np.sum(intermediates_diff ** 2))\n",
    "    traces_diff = traces - np.mean(traces, axis=0)\n",
    "    \n",
    "    return np.sum(traces_diff * intermediates_diff[:, None], axis=0) / (\n",
    "        np.sqrt(np.sum(traces_diff ** 2, axis=0)) * intermediates_sqrt\n",
    "    )"
   ]
  },
  {
   "cell_type": "code",
   "execution_count": null,
   "metadata": {},
   "outputs": [],
   "source": [
    "import securec\n",
    "from securec import util\n",
    "scope, target = util.init()"
   ]
  },
  {
   "cell_type": "code",
   "execution_count": null,
   "metadata": {},
   "outputs": [],
   "source": [
    "securec.util.compile_and_flash('./5_sbox.c')"
   ]
  },
  {
   "cell_type": "code",
   "execution_count": null,
   "metadata": {},
   "outputs": [],
   "source": [
    "import numpy as np\n",
    "\n",
    "scope.default_setup()\n",
    "\n",
    "def capture(pt, samples=500):\n",
    "    scope.adc.samples = samples\n",
    "    scope.arm()\n",
    "    target.simpleserial_write(0x01, pt + random.randbytes(16))\n",
    "    return np.array(util.capture())"
   ]
  },
  {
   "cell_type": "code",
   "execution_count": null,
   "metadata": {},
   "outputs": [],
   "source": [
    "import random\n",
    "import tqdm\n",
    "import tqdm.notebook\n",
    "\n",
    "trace_samples = 500\n",
    "trace_nums = 500\n",
    "\n",
    "traces = []\n",
    "inputs = []\n",
    "for _ in tqdm.notebook.tqdm(range(trace_nums)):\n",
    "    input = bytes([random.randint(0, 255) for _ in range(16)])\n",
    "    traces.append(capture(input, samples=trace_samples))\n",
    "    inputs.append(input)\n",
    "traces = np.array(traces)\n",
    "attempts = np.array([list(a) for a in inputs])"
   ]
  },
  {
   "cell_type": "code",
   "execution_count": null,
   "metadata": {},
   "outputs": [],
   "source": [
    "import math\n",
    "\n",
    "def pearson_pointwise_multi(traces, intermediates):\n",
    "    (n, t) = traces.shape\n",
    "    (_, m) = intermediates.shape\n",
    "\n",
    "    d_traces = traces - np.einsum('nt->t', traces, dtype='float64', optimize='optimal') / np.double(n)\n",
    "    d_intermediates = intermediates - np.einsum('nm->m', intermediates, dtype='float64', optimize='optimal') / np.double(n)\n",
    "    \n",
    "    tmp1 = np.einsum('nm,nm->m', d_intermediates, d_intermediates, optimize='optimal')\n",
    "    tmp2 = np.einsum('nt,nt->t', d_traces, d_traces, optimize='optimal')\n",
    "    tmp = np.einsum('m,t->mt', tmp1, tmp2, optimize='optimal')\n",
    "    denominator = np.sqrt(tmp)\n",
    "    numerator = np.einsum('nm,nt->mt', d_intermediates, d_traces, optimize='optimal')\n",
    "\n",
    "    return np.nan_to_num(numerator / denominator)\n",
    "\n",
    "def plot_correlation_vs_traces(\n",
    "    traces,\n",
    "    attempts,\n",
    "    key_index=0,\n",
    "    plotpoints=100,\n",
    "):\n",
    "    # Compute data\n",
    "    plotpoints = min(plotpoints, len(traces))\n",
    "    data = np.zeros((256, plotpoints))\n",
    "    intermediates = np.array([hw_vec(sbox_vec(attempts[:, key_index] ^ guess)) for guess in range(256)]).T\n",
    "    for i in range(0, plotpoints):\n",
    "        j = math.ceil(i / plotpoints * len(traces))\n",
    "        data[:, i] = np.max(np.abs(pearson_pointwise_multi(traces[:j, :], intermediates[:j, :])), axis=1)\n",
    "    \n",
    "    source = {\n",
    "        'xs': len(data) * [list(range(0, len(traces), math.ceil(len(traces) / plotpoints)))],\n",
    "        'ys': [corr for corr in data],\n",
    "        'legend': list(range(256)),\n",
    "        'color': math.ceil(len(data) / 20) * bokeh.palettes.Category20_20,\n",
    "    }\n",
    "    # Create figure\n",
    "    p = figure(sizing_mode='stretch_width', height=300, tooltips=[('char', '@legend'), ('corrleation', '$y')])\n",
    "    p.multi_line(xs='xs', ys='ys', color='color', source=source)\n",
    "    return p"
   ]
  },
  {
   "cell_type": "code",
   "execution_count": null,
   "metadata": {},
   "outputs": [],
   "source": [
    "show(plot_correlation_vs_traces(traces, attempts))"
   ]
  },
  {
   "cell_type": "markdown",
   "metadata": {},
   "source": [
    "<div style=\"background: #f0ffe0; padding: 15px; border: 1px solid slategray;\">\n",
    "<div class=\"h2\" style=\"font-variant: small-caps;\">Exercise 1</div>\n",
    "\n",
    "Implement different countermeasures to make the attack harder and see visualize the success:\n",
    "\n",
    "1. Randomize the order of the sbox lookup loop.\n",
    "2. Add a time jitter around the lookup.\n",
    "\n",
    "</div>"
   ]
  },
  {
   "cell_type": "code",
   "execution_count": null,
   "metadata": {},
   "outputs": [],
   "source": [
    "util.exit()"
   ]
  }
 ],
 "metadata": {
  "interpreter": {
   "hash": "e6a9ff99e7f48ddc354d1453a75f191a2a3408f9572c79e6e746e872f3f5130d"
  },
  "kernelspec": {
   "display_name": "Python 3 (ipykernel)",
   "language": "python",
   "name": "python3"
  },
  "language_info": {
   "codemirror_mode": {
    "name": "ipython",
    "version": 3
   },
   "file_extension": ".py",
   "mimetype": "text/x-python",
   "name": "python",
   "nbconvert_exporter": "python",
   "pygments_lexer": "ipython3",
   "version": "3.9.5"
  },
  "toc": {
   "base_numbering": 1,
   "nav_menu": {},
   "number_sections": true,
   "sideBar": true,
   "skip_h1_title": true,
   "title_cell": "Table of Contents",
   "title_sidebar": "Contents",
   "toc_cell": false,
   "toc_position": {
    "height": "calc(100% - 180px)",
    "left": "10px",
    "top": "150px",
    "width": "268.667px"
   },
   "toc_section_display": true,
   "toc_window_display": false
  }
 },
 "nbformat": 4,
 "nbformat_minor": 4
}
