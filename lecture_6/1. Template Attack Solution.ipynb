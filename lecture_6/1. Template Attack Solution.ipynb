{
 "cells": [
  {
   "cell_type": "markdown",
   "metadata": {},
   "source": [
    "# Lecture 5: Template attack on AES SBOX"
   ]
  },
  {
   "cell_type": "markdown",
   "metadata": {},
   "source": [
    "Template attacks are a powerful type of side-channel attack. These attacks are a subset of profiling attacks, where an attacker creates a \"profile\" of a sensitive device and applies this profile to quickly find a victim's secret key. \n",
    "\n",
    "There are four steps to a template attack:\n",
    "\n",
    "1. Using a copy of the protected device, record a large number of power traces using many different inputs (plaintexts and keys). Ensure that enough traces are recorded to give us information about each subkey value.\n",
    "2. Create a template of the device's operation. This template notes a few \"points of interest\" in the power traces and a multivariate distribution of the power traces at each point.\n",
    "3. On the victim device, record a small number of power traces. Use multiple plaintexts. (We have no control over the secret key, which is fixed.)\n",
    "4. Apply the template to the attack traces. For each subkey, track which value is most likely to be the correct subkey. Continue until the key has been recovered.\n",
    "\n",
    "https://wiki.newae.com/Template_Attacks"
   ]
  },
  {
   "cell_type": "code",
   "execution_count": 1,
   "metadata": {},
   "outputs": [
    {
     "data": {
      "text/html": [
       "\n",
       "    <div class=\"bk-root\">\n",
       "        <a href=\"https://bokeh.org\" target=\"_blank\" class=\"bk-logo bk-logo-small bk-logo-notebook\"></a>\n",
       "        <span id=\"1002\">Loading BokehJS ...</span>\n",
       "    </div>"
      ]
     },
     "metadata": {},
     "output_type": "display_data"
    },
    {
     "data": {
      "application/javascript": [
       "\n",
       "(function(root) {\n",
       "  function now() {\n",
       "    return new Date();\n",
       "  }\n",
       "\n",
       "  const force = true;\n",
       "\n",
       "  if (typeof root._bokeh_onload_callbacks === \"undefined\" || force === true) {\n",
       "    root._bokeh_onload_callbacks = [];\n",
       "    root._bokeh_is_loading = undefined;\n",
       "  }\n",
       "\n",
       "  const JS_MIME_TYPE = 'application/javascript';\n",
       "  const HTML_MIME_TYPE = 'text/html';\n",
       "  const EXEC_MIME_TYPE = 'application/vnd.bokehjs_exec.v0+json';\n",
       "  const CLASS_NAME = 'output_bokeh rendered_html';\n",
       "\n",
       "  /**\n",
       "   * Render data to the DOM node\n",
       "   */\n",
       "  function render(props, node) {\n",
       "    const script = document.createElement(\"script\");\n",
       "    node.appendChild(script);\n",
       "  }\n",
       "\n",
       "  /**\n",
       "   * Handle when an output is cleared or removed\n",
       "   */\n",
       "  function handleClearOutput(event, handle) {\n",
       "    const cell = handle.cell;\n",
       "\n",
       "    const id = cell.output_area._bokeh_element_id;\n",
       "    const server_id = cell.output_area._bokeh_server_id;\n",
       "    // Clean up Bokeh references\n",
       "    if (id != null && id in Bokeh.index) {\n",
       "      Bokeh.index[id].model.document.clear();\n",
       "      delete Bokeh.index[id];\n",
       "    }\n",
       "\n",
       "    if (server_id !== undefined) {\n",
       "      // Clean up Bokeh references\n",
       "      const cmd_clean = \"from bokeh.io.state import curstate; print(curstate().uuid_to_server['\" + server_id + \"'].get_sessions()[0].document.roots[0]._id)\";\n",
       "      cell.notebook.kernel.execute(cmd_clean, {\n",
       "        iopub: {\n",
       "          output: function(msg) {\n",
       "            const id = msg.content.text.trim();\n",
       "            if (id in Bokeh.index) {\n",
       "              Bokeh.index[id].model.document.clear();\n",
       "              delete Bokeh.index[id];\n",
       "            }\n",
       "          }\n",
       "        }\n",
       "      });\n",
       "      // Destroy server and session\n",
       "      const cmd_destroy = \"import bokeh.io.notebook as ion; ion.destroy_server('\" + server_id + \"')\";\n",
       "      cell.notebook.kernel.execute(cmd_destroy);\n",
       "    }\n",
       "  }\n",
       "\n",
       "  /**\n",
       "   * Handle when a new output is added\n",
       "   */\n",
       "  function handleAddOutput(event, handle) {\n",
       "    const output_area = handle.output_area;\n",
       "    const output = handle.output;\n",
       "\n",
       "    // limit handleAddOutput to display_data with EXEC_MIME_TYPE content only\n",
       "    if ((output.output_type != \"display_data\") || (!Object.prototype.hasOwnProperty.call(output.data, EXEC_MIME_TYPE))) {\n",
       "      return\n",
       "    }\n",
       "\n",
       "    const toinsert = output_area.element.find(\".\" + CLASS_NAME.split(' ')[0]);\n",
       "\n",
       "    if (output.metadata[EXEC_MIME_TYPE][\"id\"] !== undefined) {\n",
       "      toinsert[toinsert.length - 1].firstChild.textContent = output.data[JS_MIME_TYPE];\n",
       "      // store reference to embed id on output_area\n",
       "      output_area._bokeh_element_id = output.metadata[EXEC_MIME_TYPE][\"id\"];\n",
       "    }\n",
       "    if (output.metadata[EXEC_MIME_TYPE][\"server_id\"] !== undefined) {\n",
       "      const bk_div = document.createElement(\"div\");\n",
       "      bk_div.innerHTML = output.data[HTML_MIME_TYPE];\n",
       "      const script_attrs = bk_div.children[0].attributes;\n",
       "      for (let i = 0; i < script_attrs.length; i++) {\n",
       "        toinsert[toinsert.length - 1].firstChild.setAttribute(script_attrs[i].name, script_attrs[i].value);\n",
       "        toinsert[toinsert.length - 1].firstChild.textContent = bk_div.children[0].textContent\n",
       "      }\n",
       "      // store reference to server id on output_area\n",
       "      output_area._bokeh_server_id = output.metadata[EXEC_MIME_TYPE][\"server_id\"];\n",
       "    }\n",
       "  }\n",
       "\n",
       "  function register_renderer(events, OutputArea) {\n",
       "\n",
       "    function append_mime(data, metadata, element) {\n",
       "      // create a DOM node to render to\n",
       "      const toinsert = this.create_output_subarea(\n",
       "        metadata,\n",
       "        CLASS_NAME,\n",
       "        EXEC_MIME_TYPE\n",
       "      );\n",
       "      this.keyboard_manager.register_events(toinsert);\n",
       "      // Render to node\n",
       "      const props = {data: data, metadata: metadata[EXEC_MIME_TYPE]};\n",
       "      render(props, toinsert[toinsert.length - 1]);\n",
       "      element.append(toinsert);\n",
       "      return toinsert\n",
       "    }\n",
       "\n",
       "    /* Handle when an output is cleared or removed */\n",
       "    events.on('clear_output.CodeCell', handleClearOutput);\n",
       "    events.on('delete.Cell', handleClearOutput);\n",
       "\n",
       "    /* Handle when a new output is added */\n",
       "    events.on('output_added.OutputArea', handleAddOutput);\n",
       "\n",
       "    /**\n",
       "     * Register the mime type and append_mime function with output_area\n",
       "     */\n",
       "    OutputArea.prototype.register_mime_type(EXEC_MIME_TYPE, append_mime, {\n",
       "      /* Is output safe? */\n",
       "      safe: true,\n",
       "      /* Index of renderer in `output_area.display_order` */\n",
       "      index: 0\n",
       "    });\n",
       "  }\n",
       "\n",
       "  // register the mime type if in Jupyter Notebook environment and previously unregistered\n",
       "  if (root.Jupyter !== undefined) {\n",
       "    const events = require('base/js/events');\n",
       "    const OutputArea = require('notebook/js/outputarea').OutputArea;\n",
       "\n",
       "    if (OutputArea.prototype.mime_types().indexOf(EXEC_MIME_TYPE) == -1) {\n",
       "      register_renderer(events, OutputArea);\n",
       "    }\n",
       "  }\n",
       "\n",
       "  \n",
       "  if (typeof (root._bokeh_timeout) === \"undefined\" || force === true) {\n",
       "    root._bokeh_timeout = Date.now() + 5000;\n",
       "    root._bokeh_failed_load = false;\n",
       "  }\n",
       "\n",
       "  const NB_LOAD_WARNING = {'data': {'text/html':\n",
       "     \"<div style='background-color: #fdd'>\\n\"+\n",
       "     \"<p>\\n\"+\n",
       "     \"BokehJS does not appear to have successfully loaded. If loading BokehJS from CDN, this \\n\"+\n",
       "     \"may be due to a slow or bad network connection. Possible fixes:\\n\"+\n",
       "     \"</p>\\n\"+\n",
       "     \"<ul>\\n\"+\n",
       "     \"<li>re-rerun `output_notebook()` to attempt to load from CDN again, or</li>\\n\"+\n",
       "     \"<li>use INLINE resources instead, as so:</li>\\n\"+\n",
       "     \"</ul>\\n\"+\n",
       "     \"<code>\\n\"+\n",
       "     \"from bokeh.resources import INLINE\\n\"+\n",
       "     \"output_notebook(resources=INLINE)\\n\"+\n",
       "     \"</code>\\n\"+\n",
       "     \"</div>\"}};\n",
       "\n",
       "  function display_loaded() {\n",
       "    const el = document.getElementById(\"1002\");\n",
       "    if (el != null) {\n",
       "      el.textContent = \"BokehJS is loading...\";\n",
       "    }\n",
       "    if (root.Bokeh !== undefined) {\n",
       "      if (el != null) {\n",
       "        el.textContent = \"BokehJS \" + root.Bokeh.version + \" successfully loaded.\";\n",
       "      }\n",
       "    } else if (Date.now() < root._bokeh_timeout) {\n",
       "      setTimeout(display_loaded, 100)\n",
       "    }\n",
       "  }\n",
       "\n",
       "\n",
       "  function run_callbacks() {\n",
       "    try {\n",
       "      root._bokeh_onload_callbacks.forEach(function(callback) {\n",
       "        if (callback != null)\n",
       "          callback();\n",
       "      });\n",
       "    } finally {\n",
       "      delete root._bokeh_onload_callbacks\n",
       "    }\n",
       "    console.debug(\"Bokeh: all callbacks have finished\");\n",
       "  }\n",
       "\n",
       "  function load_libs(css_urls, js_urls, callback) {\n",
       "    if (css_urls == null) css_urls = [];\n",
       "    if (js_urls == null) js_urls = [];\n",
       "\n",
       "    root._bokeh_onload_callbacks.push(callback);\n",
       "    if (root._bokeh_is_loading > 0) {\n",
       "      console.debug(\"Bokeh: BokehJS is being loaded, scheduling callback at\", now());\n",
       "      return null;\n",
       "    }\n",
       "    if (js_urls == null || js_urls.length === 0) {\n",
       "      run_callbacks();\n",
       "      return null;\n",
       "    }\n",
       "    console.debug(\"Bokeh: BokehJS not loaded, scheduling load and callback at\", now());\n",
       "    root._bokeh_is_loading = css_urls.length + js_urls.length;\n",
       "\n",
       "    function on_load() {\n",
       "      root._bokeh_is_loading--;\n",
       "      if (root._bokeh_is_loading === 0) {\n",
       "        console.debug(\"Bokeh: all BokehJS libraries/stylesheets loaded\");\n",
       "        run_callbacks()\n",
       "      }\n",
       "    }\n",
       "\n",
       "    function on_error(url) {\n",
       "      console.error(\"failed to load \" + url);\n",
       "    }\n",
       "\n",
       "    for (let i = 0; i < css_urls.length; i++) {\n",
       "      const url = css_urls[i];\n",
       "      const element = document.createElement(\"link\");\n",
       "      element.onload = on_load;\n",
       "      element.onerror = on_error.bind(null, url);\n",
       "      element.rel = \"stylesheet\";\n",
       "      element.type = \"text/css\";\n",
       "      element.href = url;\n",
       "      console.debug(\"Bokeh: injecting link tag for BokehJS stylesheet: \", url);\n",
       "      document.body.appendChild(element);\n",
       "    }\n",
       "\n",
       "    for (let i = 0; i < js_urls.length; i++) {\n",
       "      const url = js_urls[i];\n",
       "      const element = document.createElement('script');\n",
       "      element.onload = on_load;\n",
       "      element.onerror = on_error.bind(null, url);\n",
       "      element.async = false;\n",
       "      element.src = url;\n",
       "      console.debug(\"Bokeh: injecting script tag for BokehJS library: \", url);\n",
       "      document.head.appendChild(element);\n",
       "    }\n",
       "  };\n",
       "\n",
       "  function inject_raw_css(css) {\n",
       "    const element = document.createElement(\"style\");\n",
       "    element.appendChild(document.createTextNode(css));\n",
       "    document.body.appendChild(element);\n",
       "  }\n",
       "\n",
       "  \n",
       "  const js_urls = [\"https://cdn.bokeh.org/bokeh/release/bokeh-2.4.1.min.js\", \"https://cdn.bokeh.org/bokeh/release/bokeh-gl-2.4.1.min.js\", \"https://cdn.bokeh.org/bokeh/release/bokeh-widgets-2.4.1.min.js\", \"https://cdn.bokeh.org/bokeh/release/bokeh-tables-2.4.1.min.js\", \"https://cdn.bokeh.org/bokeh/release/bokeh-mathjax-2.4.1.min.js\"];\n",
       "  const css_urls = [];\n",
       "  \n",
       "\n",
       "  const inline_js = [\n",
       "    function(Bokeh) {\n",
       "      Bokeh.set_log_level(\"info\");\n",
       "    },\n",
       "    function(Bokeh) {\n",
       "    \n",
       "    \n",
       "    }\n",
       "  ];\n",
       "\n",
       "  function run_inline_js() {\n",
       "    \n",
       "    if (root.Bokeh !== undefined || force === true) {\n",
       "      \n",
       "    for (let i = 0; i < inline_js.length; i++) {\n",
       "      inline_js[i].call(root, root.Bokeh);\n",
       "    }\n",
       "    if (force === true) {\n",
       "        display_loaded();\n",
       "      }} else if (Date.now() < root._bokeh_timeout) {\n",
       "      setTimeout(run_inline_js, 100);\n",
       "    } else if (!root._bokeh_failed_load) {\n",
       "      console.log(\"Bokeh: BokehJS failed to load within specified timeout.\");\n",
       "      root._bokeh_failed_load = true;\n",
       "    } else if (force !== true) {\n",
       "      const cell = $(document.getElementById(\"1002\")).parents('.cell').data().cell;\n",
       "      cell.output_area.append_execute_result(NB_LOAD_WARNING)\n",
       "    }\n",
       "\n",
       "  }\n",
       "\n",
       "  if (root._bokeh_is_loading === 0) {\n",
       "    console.debug(\"Bokeh: BokehJS loaded, going straight to plotting\");\n",
       "    run_inline_js();\n",
       "  } else {\n",
       "    load_libs(css_urls, js_urls, function() {\n",
       "      console.debug(\"Bokeh: BokehJS plotting callback run at\", now());\n",
       "      run_inline_js();\n",
       "    });\n",
       "  }\n",
       "}(window));"
      ],
      "application/vnd.bokehjs_load.v0+json": "\n(function(root) {\n  function now() {\n    return new Date();\n  }\n\n  const force = true;\n\n  if (typeof root._bokeh_onload_callbacks === \"undefined\" || force === true) {\n    root._bokeh_onload_callbacks = [];\n    root._bokeh_is_loading = undefined;\n  }\n\n  \n\n  \n  if (typeof (root._bokeh_timeout) === \"undefined\" || force === true) {\n    root._bokeh_timeout = Date.now() + 5000;\n    root._bokeh_failed_load = false;\n  }\n\n  const NB_LOAD_WARNING = {'data': {'text/html':\n     \"<div style='background-color: #fdd'>\\n\"+\n     \"<p>\\n\"+\n     \"BokehJS does not appear to have successfully loaded. If loading BokehJS from CDN, this \\n\"+\n     \"may be due to a slow or bad network connection. Possible fixes:\\n\"+\n     \"</p>\\n\"+\n     \"<ul>\\n\"+\n     \"<li>re-rerun `output_notebook()` to attempt to load from CDN again, or</li>\\n\"+\n     \"<li>use INLINE resources instead, as so:</li>\\n\"+\n     \"</ul>\\n\"+\n     \"<code>\\n\"+\n     \"from bokeh.resources import INLINE\\n\"+\n     \"output_notebook(resources=INLINE)\\n\"+\n     \"</code>\\n\"+\n     \"</div>\"}};\n\n  function display_loaded() {\n    const el = document.getElementById(\"1002\");\n    if (el != null) {\n      el.textContent = \"BokehJS is loading...\";\n    }\n    if (root.Bokeh !== undefined) {\n      if (el != null) {\n        el.textContent = \"BokehJS \" + root.Bokeh.version + \" successfully loaded.\";\n      }\n    } else if (Date.now() < root._bokeh_timeout) {\n      setTimeout(display_loaded, 100)\n    }\n  }\n\n\n  function run_callbacks() {\n    try {\n      root._bokeh_onload_callbacks.forEach(function(callback) {\n        if (callback != null)\n          callback();\n      });\n    } finally {\n      delete root._bokeh_onload_callbacks\n    }\n    console.debug(\"Bokeh: all callbacks have finished\");\n  }\n\n  function load_libs(css_urls, js_urls, callback) {\n    if (css_urls == null) css_urls = [];\n    if (js_urls == null) js_urls = [];\n\n    root._bokeh_onload_callbacks.push(callback);\n    if (root._bokeh_is_loading > 0) {\n      console.debug(\"Bokeh: BokehJS is being loaded, scheduling callback at\", now());\n      return null;\n    }\n    if (js_urls == null || js_urls.length === 0) {\n      run_callbacks();\n      return null;\n    }\n    console.debug(\"Bokeh: BokehJS not loaded, scheduling load and callback at\", now());\n    root._bokeh_is_loading = css_urls.length + js_urls.length;\n\n    function on_load() {\n      root._bokeh_is_loading--;\n      if (root._bokeh_is_loading === 0) {\n        console.debug(\"Bokeh: all BokehJS libraries/stylesheets loaded\");\n        run_callbacks()\n      }\n    }\n\n    function on_error(url) {\n      console.error(\"failed to load \" + url);\n    }\n\n    for (let i = 0; i < css_urls.length; i++) {\n      const url = css_urls[i];\n      const element = document.createElement(\"link\");\n      element.onload = on_load;\n      element.onerror = on_error.bind(null, url);\n      element.rel = \"stylesheet\";\n      element.type = \"text/css\";\n      element.href = url;\n      console.debug(\"Bokeh: injecting link tag for BokehJS stylesheet: \", url);\n      document.body.appendChild(element);\n    }\n\n    for (let i = 0; i < js_urls.length; i++) {\n      const url = js_urls[i];\n      const element = document.createElement('script');\n      element.onload = on_load;\n      element.onerror = on_error.bind(null, url);\n      element.async = false;\n      element.src = url;\n      console.debug(\"Bokeh: injecting script tag for BokehJS library: \", url);\n      document.head.appendChild(element);\n    }\n  };\n\n  function inject_raw_css(css) {\n    const element = document.createElement(\"style\");\n    element.appendChild(document.createTextNode(css));\n    document.body.appendChild(element);\n  }\n\n  \n  const js_urls = [\"https://cdn.bokeh.org/bokeh/release/bokeh-2.4.1.min.js\", \"https://cdn.bokeh.org/bokeh/release/bokeh-gl-2.4.1.min.js\", \"https://cdn.bokeh.org/bokeh/release/bokeh-widgets-2.4.1.min.js\", \"https://cdn.bokeh.org/bokeh/release/bokeh-tables-2.4.1.min.js\", \"https://cdn.bokeh.org/bokeh/release/bokeh-mathjax-2.4.1.min.js\"];\n  const css_urls = [];\n  \n\n  const inline_js = [\n    function(Bokeh) {\n      Bokeh.set_log_level(\"info\");\n    },\n    function(Bokeh) {\n    \n    \n    }\n  ];\n\n  function run_inline_js() {\n    \n    if (root.Bokeh !== undefined || force === true) {\n      \n    for (let i = 0; i < inline_js.length; i++) {\n      inline_js[i].call(root, root.Bokeh);\n    }\n    if (force === true) {\n        display_loaded();\n      }} else if (Date.now() < root._bokeh_timeout) {\n      setTimeout(run_inline_js, 100);\n    } else if (!root._bokeh_failed_load) {\n      console.log(\"Bokeh: BokehJS failed to load within specified timeout.\");\n      root._bokeh_failed_load = true;\n    } else if (force !== true) {\n      const cell = $(document.getElementById(\"1002\")).parents('.cell').data().cell;\n      cell.output_area.append_execute_result(NB_LOAD_WARNING)\n    }\n\n  }\n\n  if (root._bokeh_is_loading === 0) {\n    console.debug(\"Bokeh: BokehJS loaded, going straight to plotting\");\n    run_inline_js();\n  } else {\n    load_libs(css_urls, js_urls, function() {\n      console.debug(\"Bokeh: BokehJS plotting callback run at\", now());\n      run_inline_js();\n    });\n  }\n}(window));"
     },
     "metadata": {},
     "output_type": "display_data"
    }
   ],
   "source": [
    "from bokeh.plotting import figure, show \n",
    "from bokeh.models import CrosshairTool\n",
    "from bokeh.io import output_notebook\n",
    "\n",
    "output_notebook()"
   ]
  },
  {
   "cell_type": "code",
   "execution_count": 2,
   "metadata": {},
   "outputs": [],
   "source": [
    "import numpy as np\n",
    "\n",
    "SBOX = [\n",
    "    # 0    1    2    3    4    5    6    7    8    9    a    b    c    d    e    f\n",
    "    0x63,0x7c,0x77,0x7b,0xf2,0x6b,0x6f,0xc5,0x30,0x01,0x67,0x2b,0xfe,0xd7,0xab,0x76, # 0\n",
    "    0xca,0x82,0xc9,0x7d,0xfa,0x59,0x47,0xf0,0xad,0xd4,0xa2,0xaf,0x9c,0xa4,0x72,0xc0, # 1\n",
    "    0xb7,0xfd,0x93,0x26,0x36,0x3f,0xf7,0xcc,0x34,0xa5,0xe5,0xf1,0x71,0xd8,0x31,0x15, # 2\n",
    "    0x04,0xc7,0x23,0xc3,0x18,0x96,0x05,0x9a,0x07,0x12,0x80,0xe2,0xeb,0x27,0xb2,0x75, # 3\n",
    "    0x09,0x83,0x2c,0x1a,0x1b,0x6e,0x5a,0xa0,0x52,0x3b,0xd6,0xb3,0x29,0xe3,0x2f,0x84, # 4\n",
    "    0x53,0xd1,0x00,0xed,0x20,0xfc,0xb1,0x5b,0x6a,0xcb,0xbe,0x39,0x4a,0x4c,0x58,0xcf, # 5\n",
    "    0xd0,0xef,0xaa,0xfb,0x43,0x4d,0x33,0x85,0x45,0xf9,0x02,0x7f,0x50,0x3c,0x9f,0xa8, # 6\n",
    "    0x51,0xa3,0x40,0x8f,0x92,0x9d,0x38,0xf5,0xbc,0xb6,0xda,0x21,0x10,0xff,0xf3,0xd2, # 7\n",
    "    0xcd,0x0c,0x13,0xec,0x5f,0x97,0x44,0x17,0xc4,0xa7,0x7e,0x3d,0x64,0x5d,0x19,0x73, # 8\n",
    "    0x60,0x81,0x4f,0xdc,0x22,0x2a,0x90,0x88,0x46,0xee,0xb8,0x14,0xde,0x5e,0x0b,0xdb, # 9\n",
    "    0xe0,0x32,0x3a,0x0a,0x49,0x06,0x24,0x5c,0xc2,0xd3,0xac,0x62,0x91,0x95,0xe4,0x79, # a\n",
    "    0xe7,0xc8,0x37,0x6d,0x8d,0xd5,0x4e,0xa9,0x6c,0x56,0xf4,0xea,0x65,0x7a,0xae,0x08, # b\n",
    "    0xba,0x78,0x25,0x2e,0x1c,0xa6,0xb4,0xc6,0xe8,0xdd,0x74,0x1f,0x4b,0xbd,0x8b,0x8a, # c\n",
    "    0x70,0x3e,0xb5,0x66,0x48,0x03,0xf6,0x0e,0x61,0x35,0x57,0xb9,0x86,0xc1,0x1d,0x9e, # d\n",
    "    0xe1,0xf8,0x98,0x11,0x69,0xd9,0x8e,0x94,0x9b,0x1e,0x87,0xe9,0xce,0x55,0x28,0xdf, # e\n",
    "    0x8c,0xa1,0x89,0x0d,0xbf,0xe6,0x42,0x68,0x41,0x99,0x2d,0x0f,0xb0,0x54,0xbb,0x16  # f\n",
    "]\n",
    "\n",
    "def sbox(data):\n",
    "    return SBOX[data]\n",
    "\n",
    "sbox_vec = np.vectorize(sbox)"
   ]
  },
  {
   "cell_type": "code",
   "execution_count": 3,
   "metadata": {},
   "outputs": [],
   "source": [
    "import numpy as np\n",
    "\n",
    "HW = [bin(n).count(\"1\") for n in range(0, 256)]\n",
    "\n",
    "def hw(n):\n",
    "    if isinstance(n, str):\n",
    "        return HW[ord(n)]\n",
    "    return HW[n]\n",
    "\n",
    "hw_vec = np.vectorize(hw)\n",
    "\n",
    "def cov(x, y):\n",
    "    return np.cov(x, y)[0][1]"
   ]
  },
  {
   "cell_type": "code",
   "execution_count": 4,
   "metadata": {},
   "outputs": [
    {
     "name": "stderr",
     "output_type": "stream",
     "text": [
      "WARNING:ChipWhisperer Other:ChipWhisperer update available! See https://chipwhisperer.readthedocs.io/en/latest/installing.html for updating instructions\n"
     ]
    }
   ],
   "source": [
    "import sys\n",
    "sys.path.append('..')\n",
    "import securec\n",
    "from securec import util\n",
    "scope, target = util.init()"
   ]
  },
  {
   "cell_type": "code",
   "execution_count": 5,
   "metadata": {},
   "outputs": [
    {
     "name": "stdout",
     "output_type": "stream",
     "text": [
      "XMEGA Programming flash...\n",
      "XMEGA Reading flash...\n",
      "Verified flash OK, 2311 bytes\n",
      "\u001b[32m✓\u001b[0m\n"
     ]
    }
   ],
   "source": [
    "securec.util.compile_and_flash('./6_sbox.c')"
   ]
  },
  {
   "cell_type": "markdown",
   "metadata": {},
   "source": [
    "## Profiling Phase"
   ]
  },
  {
   "cell_type": "markdown",
   "metadata": {},
   "source": [
    "### Record templates\n",
    "\n",
    "Record traces with random keys and random inputs."
   ]
  },
  {
   "cell_type": "code",
   "execution_count": 6,
   "metadata": {},
   "outputs": [],
   "source": [
    "import random\n",
    "import tqdm\n",
    "import tqdm.notebook\n",
    "\n",
    "scope.default_setup()\n",
    "def capture_random_key_input(num_traces=1000, num_samples=500):\n",
    "    scope.adc.samples = num_samples\n",
    "    data = []\n",
    "    for _ in tqdm.notebook.tqdm(range(num_traces)):\n",
    "        scope.arm()\n",
    "        key = random.choices(range(0, 256), k=16)\n",
    "        input = random.choices(range(0, 256), k=16)\n",
    "        target.simpleserial_write(0x01, key + input)\n",
    "        data.append((key, input, np.array(util.capture())))\n",
    "    return data"
   ]
  },
  {
   "cell_type": "code",
   "execution_count": 7,
   "metadata": {},
   "outputs": [
    {
     "data": {
      "application/vnd.jupyter.widget-view+json": {
       "model_id": "333809c6bbef48229ef40ed149768a8f",
       "version_major": 2,
       "version_minor": 0
      },
      "text/plain": [
       "  0%|          | 0/20000 [00:00<?, ?it/s]"
      ]
     },
     "metadata": {},
     "output_type": "display_data"
    }
   ],
   "source": [
    "data_template = capture_random_key_input(num_traces=20000)"
   ]
  },
  {
   "cell_type": "markdown",
   "metadata": {},
   "source": [
    "### Find Points of Interest"
   ]
  },
  {
   "cell_type": "code",
   "execution_count": 8,
   "metadata": {},
   "outputs": [
    {
     "data": {
      "text/html": [
       "\n",
       "\n",
       "\n",
       "\n",
       "\n",
       "\n",
       "  <div class=\"bk-root\" id=\"4ad634ee-e31d-406d-94ed-f355240905ac\" data-root-id=\"1003\"></div>\n"
      ]
     },
     "metadata": {},
     "output_type": "display_data"
    },
    {
     "data": {
      "application/javascript": [
       "(function(root) {\n",
       "  function embed_document(root) {\n",
       "    \n",
       "  const docs_json = {\"b0a02b74-1b28-4e85-8e6f-b9c25818636b\":{\"defs\":[],\"roots\":{\"references\":[{\"attributes\":{\"below\":[{\"id\":\"1012\"}],\"center\":[{\"id\":\"1015\"},{\"id\":\"1019\"},{\"id\":\"1053\"}],\"height\":300,\"left\":[{\"id\":\"1016\"}],\"renderers\":[{\"id\":\"1040\"},{\"id\":\"1059\"}],\"sizing_mode\":\"stretch_width\",\"title\":{\"id\":\"1042\"},\"toolbar\":{\"id\":\"1027\"},\"x_range\":{\"id\":\"1004\"},\"x_scale\":{\"id\":\"1008\"},\"y_range\":{\"id\":\"1006\"},\"y_scale\":{\"id\":\"1010\"}},\"id\":\"1003\",\"subtype\":\"Figure\",\"type\":\"Plot\"},{\"attributes\":{},\"id\":\"1004\",\"type\":\"DataRange1d\"},{\"attributes\":{\"coordinates\":null,\"formatter\":{\"id\":\"1048\"},\"group\":null,\"major_label_policy\":{\"id\":\"1049\"},\"ticker\":{\"id\":\"1013\"}},\"id\":\"1012\",\"type\":\"LinearAxis\"},{\"attributes\":{},\"id\":\"1006\",\"type\":\"DataRange1d\"},{\"attributes\":{\"coordinates\":null,\"data_source\":{\"id\":\"1055\"},\"glyph\":{\"id\":\"1056\"},\"group\":null,\"hover_glyph\":null,\"muted_glyph\":{\"id\":\"1058\"},\"nonselection_glyph\":{\"id\":\"1057\"},\"view\":{\"id\":\"1060\"}},\"id\":\"1059\",\"type\":\"GlyphRenderer\"},{\"attributes\":{},\"id\":\"1051\",\"type\":\"Selection\"},{\"attributes\":{},\"id\":\"1017\",\"type\":\"BasicTicker\"},{\"attributes\":{},\"id\":\"1025\",\"type\":\"HelpTool\"},{\"attributes\":{\"axis\":{\"id\":\"1016\"},\"coordinates\":null,\"dimension\":1,\"group\":null,\"ticker\":null},\"id\":\"1019\",\"type\":\"Grid\"},{\"attributes\":{\"coordinates\":null,\"group\":null,\"items\":[{\"id\":\"1054\"}]},\"id\":\"1053\",\"type\":\"Legend\"},{\"attributes\":{\"data\":{\"x\":[90,82,85,89,81],\"y\":[1.6159642092691706,1.7689521298486055,1.9020014335931177,1.9942239103219352,2.152131621277761]},\"selected\":{\"id\":\"1072\"},\"selection_policy\":{\"id\":\"1071\"}},\"id\":\"1055\",\"type\":\"ColumnDataSource\"},{\"attributes\":{\"fill_color\":{\"value\":\"#1f77b4\"},\"line_color\":{\"value\":\"#1f77b4\"},\"size\":{\"value\":10},\"x\":{\"field\":\"x\"},\"y\":{\"field\":\"y\"}},\"id\":\"1056\",\"type\":\"Circle\"},{\"attributes\":{\"label\":{\"value\":\"Sum of diffs\"},\"renderers\":[{\"id\":\"1040\"}]},\"id\":\"1054\",\"type\":\"LegendItem\"},{\"attributes\":{\"coordinates\":null,\"formatter\":{\"id\":\"1045\"},\"group\":null,\"major_label_policy\":{\"id\":\"1046\"},\"ticker\":{\"id\":\"1017\"}},\"id\":\"1016\",\"type\":\"LinearAxis\"},{\"attributes\":{},\"id\":\"1050\",\"type\":\"UnionRenderers\"},{\"attributes\":{\"data\":{\"x\":[0,1,2,3,4,5,6,7,8,9,10,11,12,13,14,15,16,17,18,19,20,21,22,23,24,25,26,27,28,29,30,31,32,33,34,35,36,37,38,39,40,41,42,43,44,45,46,47,48,49,50,51,52,53,54,55,56,57,58,59,60,61,62,63,64,65,66,67,68,69,70,71,72,73,74,75,76,77,78,79,80,81,82,83,84,85,86,87,88,89,90,91,92,93,94,95,96,97,98,99,100,101,102,103,104,105,106,107,108,109,110,111,112,113,114,115,116,117,118,119,120,121,122,123,124,125,126,127,128,129,130,131,132,133,134,135,136,137,138,139,140,141,142,143,144,145,146,147,148,149,150,151,152,153,154,155,156,157,158,159,160,161,162,163,164,165,166,167,168,169,170,171,172,173,174,175,176,177,178,179,180,181,182,183,184,185,186,187,188,189,190,191,192,193,194,195,196,197,198,199,200,201,202,203,204,205,206,207,208,209,210,211,212,213,214,215,216,217,218,219,220,221,222,223,224,225,226,227,228,229,230,231,232,233,234,235,236,237,238,239,240,241,242,243,244,245,246,247,248,249,250,251,252,253,254,255,256,257,258,259,260,261,262,263,264,265,266,267,268,269,270,271,272,273,274,275,276,277,278,279,280,281,282,283,284,285,286,287,288,289,290,291,292,293,294,295,296,297,298,299,300,301,302,303,304,305,306,307,308,309,310,311,312,313,314,315,316,317,318,319,320,321,322,323,324,325,326,327,328,329,330,331,332,333,334,335,336,337,338,339,340,341,342,343,344,345,346,347,348,349,350,351,352,353,354,355,356,357,358,359,360,361,362,363,364,365,366,367,368,369,370,371,372,373,374,375,376,377,378,379,380,381,382,383,384,385,386,387,388,389,390,391,392,393,394,395,396,397,398,399,400,401,402,403,404,405,406,407,408,409,410,411,412,413,414,415,416,417,418,419,420,421,422,423,424,425,426,427,428,429,430,431,432,433,434,435,436,437,438,439,440,441,442,443,444,445,446,447,448,449,450,451,452,453,454,455,456,457,458,459,460,461,462,463,464,465,466,467,468,469,470,471,472,473,474,475,476,477,478,479,480,481,482,483,484,485,486,487,488,489,490,491,492,493,494,495,496,497,498,499],\"y\":{\"__ndarray__\":\"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\",\"dtype\":\"float64\",\"order\":\"little\",\"shape\":[500]}},\"selected\":{\"id\":\"1051\"},\"selection_policy\":{\"id\":\"1050\"}},\"id\":\"1036\",\"type\":\"ColumnDataSource\"},{\"attributes\":{\"fill_alpha\":{\"value\":0.2},\"fill_color\":{\"value\":\"#1f77b4\"},\"hatch_alpha\":{\"value\":0.2},\"line_alpha\":{\"value\":0.2},\"line_color\":{\"value\":\"#1f77b4\"},\"size\":{\"value\":10},\"x\":{\"field\":\"x\"},\"y\":{\"field\":\"y\"}},\"id\":\"1058\",\"type\":\"Circle\"},{\"attributes\":{},\"id\":\"1021\",\"type\":\"WheelZoomTool\"},{\"attributes\":{\"coordinates\":null,\"group\":null},\"id\":\"1042\",\"type\":\"Title\"},{\"attributes\":{\"fill_alpha\":{\"value\":0.1},\"fill_color\":{\"value\":\"#1f77b4\"},\"hatch_alpha\":{\"value\":0.1},\"line_alpha\":{\"value\":0.1},\"line_color\":{\"value\":\"#1f77b4\"},\"size\":{\"value\":10},\"x\":{\"field\":\"x\"},\"y\":{\"field\":\"y\"}},\"id\":\"1057\",\"type\":\"Circle\"},{\"attributes\":{\"line_color\":\"blue\",\"x\":{\"field\":\"x\"},\"y\":{\"field\":\"y\"}},\"id\":\"1037\",\"type\":\"Line\"},{\"attributes\":{\"source\":{\"id\":\"1055\"}},\"id\":\"1060\",\"type\":\"CDSView\"},{\"attributes\":{\"axis\":{\"id\":\"1012\"},\"coordinates\":null,\"group\":null,\"ticker\":null},\"id\":\"1015\",\"type\":\"Grid\"},{\"attributes\":{\"line_alpha\":0.2,\"line_color\":\"blue\",\"x\":{\"field\":\"x\"},\"y\":{\"field\":\"y\"}},\"id\":\"1039\",\"type\":\"Line\"},{\"attributes\":{},\"id\":\"1045\",\"type\":\"BasicTickFormatter\"},{\"attributes\":{\"line_alpha\":0.1,\"line_color\":\"blue\",\"x\":{\"field\":\"x\"},\"y\":{\"field\":\"y\"}},\"id\":\"1038\",\"type\":\"Line\"},{\"attributes\":{},\"id\":\"1046\",\"type\":\"AllLabels\"},{\"attributes\":{\"source\":{\"id\":\"1036\"}},\"id\":\"1041\",\"type\":\"CDSView\"},{\"attributes\":{},\"id\":\"1071\",\"type\":\"UnionRenderers\"},{\"attributes\":{},\"id\":\"1048\",\"type\":\"BasicTickFormatter\"},{\"attributes\":{},\"id\":\"1010\",\"type\":\"LinearScale\"},{\"attributes\":{},\"id\":\"1049\",\"type\":\"AllLabels\"},{\"attributes\":{},\"id\":\"1072\",\"type\":\"Selection\"},{\"attributes\":{},\"id\":\"1020\",\"type\":\"PanTool\"},{\"attributes\":{\"coordinates\":null,\"data_source\":{\"id\":\"1036\"},\"glyph\":{\"id\":\"1037\"},\"group\":null,\"hover_glyph\":null,\"muted_glyph\":{\"id\":\"1039\"},\"nonselection_glyph\":{\"id\":\"1038\"},\"view\":{\"id\":\"1041\"}},\"id\":\"1040\",\"type\":\"GlyphRenderer\"},{\"attributes\":{\"overlay\":{\"id\":\"1026\"}},\"id\":\"1022\",\"type\":\"BoxZoomTool\"},{\"attributes\":{},\"id\":\"1023\",\"type\":\"SaveTool\"},{\"attributes\":{},\"id\":\"1034\",\"type\":\"CrosshairTool\"},{\"attributes\":{},\"id\":\"1024\",\"type\":\"ResetTool\"},{\"attributes\":{},\"id\":\"1013\",\"type\":\"BasicTicker\"},{\"attributes\":{},\"id\":\"1008\",\"type\":\"LinearScale\"},{\"attributes\":{\"bottom_units\":\"screen\",\"coordinates\":null,\"fill_alpha\":0.5,\"fill_color\":\"lightgrey\",\"group\":null,\"left_units\":\"screen\",\"level\":\"overlay\",\"line_alpha\":1.0,\"line_color\":\"black\",\"line_dash\":[4,4],\"line_width\":2,\"right_units\":\"screen\",\"syncable\":false,\"top_units\":\"screen\"},\"id\":\"1026\",\"type\":\"BoxAnnotation\"},{\"attributes\":{\"tools\":[{\"id\":\"1020\"},{\"id\":\"1021\"},{\"id\":\"1022\"},{\"id\":\"1023\"},{\"id\":\"1024\"},{\"id\":\"1025\"},{\"id\":\"1034\"}]},\"id\":\"1027\",\"type\":\"Toolbar\"}],\"root_ids\":[\"1003\"]},\"title\":\"Bokeh Application\",\"version\":\"2.4.1\"}};\n",
       "  const render_items = [{\"docid\":\"b0a02b74-1b28-4e85-8e6f-b9c25818636b\",\"root_ids\":[\"1003\"],\"roots\":{\"1003\":\"4ad634ee-e31d-406d-94ed-f355240905ac\"}}];\n",
       "  root.Bokeh.embed.embed_items_notebook(docs_json, render_items);\n",
       "\n",
       "  }\n",
       "  if (root.Bokeh !== undefined) {\n",
       "    embed_document(root);\n",
       "  } else {\n",
       "    let attempts = 0;\n",
       "    const timer = setInterval(function(root) {\n",
       "      if (root.Bokeh !== undefined) {\n",
       "        clearInterval(timer);\n",
       "        embed_document(root);\n",
       "      } else {\n",
       "        attempts++;\n",
       "        if (attempts > 100) {\n",
       "          clearInterval(timer);\n",
       "          console.log(\"Bokeh: ERROR: Unable to run BokehJS code because BokehJS library is missing\");\n",
       "        }\n",
       "      }\n",
       "    }, 10, root)\n",
       "  }\n",
       "})(window);"
      ],
      "application/vnd.bokehjs_exec.v0+json": ""
     },
     "metadata": {
      "application/vnd.bokehjs_exec.v0+json": {
       "id": "1003"
      }
     },
     "output_type": "display_data"
    }
   ],
   "source": [
    "# Group traces by different hamming weights\n",
    "traces_per_hw = [[] for _ in range(9)]\n",
    "for key, input, trace in data_template:\n",
    "    traces_per_hw[hw(sbox(key[0] ^ input[0]))].append(trace)\n",
    "traces_per_hw = list(map(np.array, traces_per_hw))\n",
    "means_per_hw = [np.average(trace, 0) for trace in traces_per_hw]\n",
    "\n",
    "# Calculate sum of absolute differences\n",
    "diffs = np.zeros(means_per_hw[0].shape[0])\n",
    "for mean_i in means_per_hw:\n",
    "    for mean_j in means_per_hw:\n",
    "        diffs += np.abs(mean_i - mean_j)\n",
    "\n",
    "# Take highest peaks as pois\n",
    "pois = np.argsort(diffs)[-5:]\n",
    "\n",
    "# Plot\n",
    "p = figure(height=300, sizing_mode='stretch_width')\n",
    "p.add_tools(CrosshairTool())\n",
    "p.line(range(len(diffs)), diffs, color='blue', legend_label='Sum of diffs')\n",
    "p.circle(pois, [diffs[poi] for poi in pois], size=10)\n",
    "show(p)"
   ]
  },
  {
   "cell_type": "markdown",
   "metadata": {},
   "source": [
    "### Calculate template"
   ]
  },
  {
   "cell_type": "code",
   "execution_count": 9,
   "metadata": {},
   "outputs": [
    {
     "name": "stdout",
     "output_type": "stream",
     "text": [
      "template_mean (9, 5) =\n",
      " [[-0.07142639 -0.09716797 -0.25268555 -0.23339844 -0.26834106]\n",
      " [-0.07945958 -0.10511233 -0.26324513 -0.24376343 -0.27819724]\n",
      " [-0.08667713 -0.11207496 -0.27306498 -0.25255312 -0.2866292 ]\n",
      " [-0.09289268 -0.12204593 -0.28110212 -0.26039586 -0.29896527]\n",
      " [-0.10017285 -0.12836527 -0.28893142 -0.26929743 -0.3065765 ]\n",
      " [-0.10723289 -0.13430253 -0.29681995 -0.27793143 -0.31371346]\n",
      " [-0.11288336 -0.13672189 -0.30044033 -0.28480411 -0.31655114]\n",
      " [-0.1200817  -0.14345904 -0.308296   -0.29356734 -0.32454427]\n",
      " [-0.1252694  -0.16357983 -0.32015535 -0.30017511 -0.349441  ]]\n",
      "template_cov (9, 5, 5) =\n",
      " [[[ 1.07740126e-05 -7.79590909e-07  1.68406774e-06  1.14138164e-05\n",
      "   -1.25690112e-06]\n",
      "  [-7.79590909e-07  1.38842870e-04  5.39658562e-05  7.56884378e-08\n",
      "    1.73402211e-04]\n",
      "  [ 1.68406774e-06  5.39658562e-05  4.93791368e-05  6.00966196e-06\n",
      "    6.94592794e-05]\n",
      "  [ 1.14138164e-05  7.56884378e-08  6.00966196e-06  1.53496152e-05\n",
      "    1.57431951e-06]\n",
      "  [-1.25690112e-06  1.73402211e-04  6.94592794e-05  1.57431951e-06\n",
      "    2.18905154e-04]]\n",
      "\n",
      " [[ 5.54473734e-05  2.06318128e-05  3.33080689e-05  6.61654870e-05\n",
      "    2.30495721e-05]\n",
      "  [ 2.06318128e-05  2.35691400e-04  1.13810166e-04  3.20010354e-05\n",
      "    2.95129208e-04]\n",
      "  [ 3.33080689e-05  1.13810166e-04  1.02368846e-04  4.45051204e-05\n",
      "    1.42560790e-04]\n",
      "  [ 6.61654870e-05  3.20010354e-05  4.45051204e-05  8.22080464e-05\n",
      "    3.77893582e-05]\n",
      "  [ 2.30495721e-05  2.95129208e-04  1.42560790e-04  3.77893582e-05\n",
      "    3.72091350e-04]]\n",
      "\n",
      " [[ 6.89041276e-05  2.60635467e-05  4.21532644e-05  8.19491723e-05\n",
      "    3.02572066e-05]\n",
      "  [ 2.60635467e-05  2.51421481e-04  9.79342356e-05  3.57019838e-05\n",
      "    3.14474099e-04]\n",
      "  [ 4.21532644e-05  9.79342356e-05  1.07483776e-04  5.45672030e-05\n",
      "    1.21993018e-04]\n",
      "  [ 8.19491723e-05  3.57019838e-05  5.45672030e-05  1.00626341e-04\n",
      "    4.30152186e-05]\n",
      "  [ 3.02572066e-05  3.14474099e-04  1.21993018e-04  4.30152186e-05\n",
      "    3.96056873e-04]]\n",
      "\n",
      " [[ 8.40142310e-05  5.56379168e-05  5.91948343e-05  1.00745950e-04\n",
      "    6.76868703e-05]\n",
      "  [ 5.56379168e-05  1.96242808e-04  1.05971594e-04  7.00099100e-05\n",
      "    2.44469365e-04]\n",
      "  [ 5.91948343e-05  1.05971594e-04  1.18318313e-04  7.52947253e-05\n",
      "    1.32332326e-04]\n",
      "  [ 1.00745950e-04  7.00099100e-05  7.52947253e-05  1.23974824e-04\n",
      "    8.65049462e-05]\n",
      "  [ 6.76868703e-05  2.44469365e-04  1.32332326e-04  8.65049462e-05\n",
      "    3.07223190e-04]]\n",
      "\n",
      " [[ 8.12864725e-05  1.87935707e-05  4.04264792e-05  9.62719066e-05\n",
      "    2.13495142e-05]\n",
      "  [ 1.87935707e-05  2.45678441e-04  1.06339369e-04  2.74393777e-05\n",
      "    3.05648893e-04]\n",
      "  [ 4.04264792e-05  1.06339369e-04  1.07278442e-04  5.29271630e-05\n",
      "    1.32290201e-04]\n",
      "  [ 9.62719066e-05  2.74393777e-05  5.29271630e-05  1.17215423e-04\n",
      "    3.29414412e-05]\n",
      "  [ 2.13495142e-05  3.05648893e-04  1.32290201e-04  3.29414412e-05\n",
      "    3.83031425e-04]]\n",
      "\n",
      " [[ 8.77924355e-05  4.19951645e-05  5.24085943e-05  1.04795182e-04\n",
      "    4.97547000e-05]\n",
      "  [ 4.19951645e-05  2.34916604e-04  1.22919470e-04  5.61595750e-05\n",
      "    2.91509371e-04]\n",
      "  [ 5.24085943e-05  1.22919470e-04  1.18794836e-04  6.77269067e-05\n",
      "    1.52608335e-04]\n",
      "  [ 1.04795182e-04  5.61595750e-05  6.77269067e-05  1.28401026e-04\n",
      "    6.81132238e-05]\n",
      "  [ 4.97547000e-05  2.91509371e-04  1.52608335e-04  6.81132238e-05\n",
      "    3.64428786e-04]]\n",
      "\n",
      " [[ 6.51108866e-05  3.62776886e-05  4.64672308e-05  7.78511861e-05\n",
      "    4.29462876e-05]\n",
      "  [ 3.62776886e-05  2.94612163e-04  1.33886251e-04  5.13732977e-05\n",
      "    3.66140797e-04]\n",
      "  [ 4.64672308e-05  1.33886251e-04  1.16258281e-04  6.11447031e-05\n",
      "    1.67141399e-04]\n",
      "  [ 7.78511861e-05  5.13732977e-05  6.11447031e-05  9.65340779e-05\n",
      "    6.27051688e-05]\n",
      "  [ 4.29462876e-05  3.66140797e-04  1.67141399e-04  6.27051688e-05\n",
      "    4.57848291e-04]]\n",
      "\n",
      " [[ 5.48968802e-05 -1.68289228e-06  2.65745986e-05  6.43399666e-05\n",
      "   -6.11186531e-06]\n",
      "  [-1.68289228e-06  1.43711970e-04  5.80958118e-05  2.17297650e-07\n",
      "    1.75739642e-04]\n",
      "  [ 2.65745986e-05  5.80958118e-05  7.58082879e-05  3.47084639e-05\n",
      "    7.00442600e-05]\n",
      "  [ 6.43399666e-05  2.17297650e-07  3.47084639e-05  7.84460107e-05\n",
      "   -3.16935753e-06]\n",
      "  [-6.11186531e-06  1.75739642e-04  7.00442600e-05 -3.16935753e-06\n",
      "    2.17885408e-04]]\n",
      "\n",
      " [[ 2.81375986e-05  1.88501721e-05  1.36604095e-05  3.32222046e-05\n",
      "    2.13815770e-05]\n",
      "  [ 1.88501721e-05  5.21609631e-05  2.44193904e-05  2.20599324e-05\n",
      "    6.00436256e-05]\n",
      "  [ 1.36604095e-05  2.44193904e-05  4.57957415e-05  2.04409039e-05\n",
      "    3.02690263e-05]\n",
      "  [ 3.32222046e-05  2.20599324e-05  2.04409039e-05  4.24105928e-05\n",
      "    2.67327071e-05]\n",
      "  [ 2.13815770e-05  6.00436256e-05  3.02690263e-05  2.67327071e-05\n",
      "    7.22398735e-05]]]\n"
     ]
    }
   ],
   "source": [
    "template_mean = np.zeros((9, len(pois)))\n",
    "template_cov = np.zeros((9, len(pois), len(pois)))\n",
    "\n",
    "for ham in range(template_mean.shape[0]):\n",
    "    for i in range(len(pois)):\n",
    "        template_mean[ham, i] = means_per_hw[ham][pois[i]]\n",
    "        for j in range(len(pois)):\n",
    "            template_cov[ham, i, j] = cov(\n",
    "                traces_per_hw[ham][:, pois[i]],\n",
    "                traces_per_hw[ham][:, pois[j]],\n",
    "            )\n",
    "print('template_mean', template_mean.shape, '=\\n', template_mean)\n",
    "print('template_cov', template_cov.shape, '=\\n', template_cov)"
   ]
  },
  {
   "cell_type": "markdown",
   "metadata": {},
   "source": [
    "## Attacking phase"
   ]
  },
  {
   "cell_type": "markdown",
   "metadata": {},
   "source": [
    "### Capture"
   ]
  },
  {
   "cell_type": "markdown",
   "metadata": {},
   "source": [
    "Capture with random input but unknown fixed key."
   ]
  },
  {
   "cell_type": "code",
   "execution_count": 10,
   "metadata": {},
   "outputs": [],
   "source": [
    "import random\n",
    "import tqdm\n",
    "import tqdm.notebook\n",
    "\n",
    "secret_key = [0x01, 0x02, 0x03, 0x04, 0x05, 0x06, 0x07, 0x08, 0x09, 0x0A, 0x0B, 0x0C, 0x0D, 0x0E, 0x0F, 0x10,]\n",
    "\n",
    "scope.default_setup()\n",
    "def capture_random_input(num_traces=10, num_samples=500):\n",
    "    scope.adc.samples = num_samples\n",
    "    data = []\n",
    "    for _ in tqdm.notebook.tqdm(range(num_traces)):\n",
    "        scope.arm()\n",
    "        input = random.choices(range(0, 256), k=16)\n",
    "        target.simpleserial_write(0x01, secret_key + input)\n",
    "        data.append((input, np.array(util.capture())))\n",
    "    return data"
   ]
  },
  {
   "cell_type": "code",
   "execution_count": 11,
   "metadata": {},
   "outputs": [
    {
     "data": {
      "application/vnd.jupyter.widget-view+json": {
       "model_id": "e1487a061ce14102825547d2bb0339e2",
       "version_major": 2,
       "version_minor": 0
      },
      "text/plain": [
       "  0%|          | 0/10 [00:00<?, ?it/s]"
      ]
     },
     "metadata": {},
     "output_type": "display_data"
    }
   ],
   "source": [
    "data_attack = capture_random_input(10)"
   ]
  },
  {
   "cell_type": "markdown",
   "metadata": {},
   "source": [
    "### Apply template"
   ]
  },
  {
   "cell_type": "code",
   "execution_count": 12,
   "metadata": {},
   "outputs": [
    {
     "name": "stdout",
     "output_type": "stream",
     "text": [
      "0 [193 203 255]\n",
      "1 [122  56  90]\n",
      "2 [122  56  90]\n",
      "3 [98 56 90]\n",
      "4 [ 56   1 183]\n",
      "5 [  1  56 183]\n",
      "6 [221 183   1]\n",
      "7 [183 116   1]\n",
      "8 [158 116   1]\n",
      "9 [239 116   1]\n",
      "1\n"
     ]
    }
   ],
   "source": [
    "from scipy.stats import multivariate_normal\n",
    "\n",
    "# 2: Attack\n",
    "# Running total of log P_k\n",
    "P_k = np.zeros(256)\n",
    "for j in range(len(data_attack)):\n",
    "    # Grab key points and put them in a small matrix\n",
    "    a = [data_attack[j][1][poi] for poi in pois]\n",
    "    \n",
    "    # Test each key\n",
    "    for k in range(256):\n",
    "        # Find HW coming out of sbox\n",
    "        guess_hw = hw(sbox(data_attack[j][0][0] ^ k))\n",
    "    \n",
    "        # Find p_{k,j}\n",
    "        rv = multivariate_normal(template_mean[guess_hw], template_cov[guess_hw])\n",
    "        p_kj = rv.logpdf(a)\n",
    "   \n",
    "        # Add it to running total\n",
    "        P_k[k] += p_kj\n",
    "\n",
    "    # Print our top results so far\n",
    "    # Best match on the right\n",
    "    print(j, P_k.argsort()[-3:])\n",
    "    \n",
    "guess = P_k.argsort()[-1]\n",
    "print(guess)\n"
   ]
  },
  {
   "cell_type": "markdown",
   "metadata": {},
   "source": [
    "<div style=\"background: #f0ffe0; padding: 15px; border: 1px solid slategray;\">\n",
    "<div class=\"h2\" style=\"font-variant: small-caps;\">Exercise 1</div>\n",
    "\n",
    "1. The above version of a template attack focuses on the _hamming weight_. A template attack can also target values directly. <br>\n",
    "   So, create and apply templates on the basis of `sbox(input ^ key)`.\n",
    "\n",
    "</div>"
   ]
  },
  {
   "cell_type": "code",
   "execution_count": 13,
   "metadata": {},
   "outputs": [],
   "source": [
    "util.exit()"
   ]
  }
 ],
 "metadata": {
  "interpreter": {
   "hash": "e6a9ff99e7f48ddc354d1453a75f191a2a3408f9572c79e6e746e872f3f5130d"
  },
  "kernelspec": {
   "display_name": "Python 3 (ipykernel)",
   "language": "python",
   "name": "python3"
  },
  "language_info": {
   "codemirror_mode": {
    "name": "ipython",
    "version": 3
   },
   "file_extension": ".py",
   "mimetype": "text/x-python",
   "name": "python",
   "nbconvert_exporter": "python",
   "pygments_lexer": "ipython3",
   "version": "3.9.5"
  },
  "toc": {
   "base_numbering": 1,
   "nav_menu": {},
   "number_sections": true,
   "sideBar": true,
   "skip_h1_title": true,
   "title_cell": "Table of Contents",
   "title_sidebar": "Contents",
   "toc_cell": false,
   "toc_position": {
    "height": "calc(100% - 180px)",
    "left": "10px",
    "top": "150px",
    "width": "268.667px"
   },
   "toc_section_display": true,
   "toc_window_display": false
  }
 },
 "nbformat": 4,
 "nbformat_minor": 4
}
